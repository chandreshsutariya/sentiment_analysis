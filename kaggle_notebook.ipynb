{
 "cells": [
  {
   "cell_type": "code",
   "execution_count": 1,
   "id": "69386d7a",
   "metadata": {
    "_cell_guid": "b1076dfc-b9ad-4769-8c92-a6c4dae69d19",
    "_uuid": "8f2839f25d086af736a60e9eeb907d3b93b6e0e5",
    "execution": {
     "iopub.execute_input": "2023-08-08T06:18:59.787802Z",
     "iopub.status.busy": "2023-08-08T06:18:59.787500Z",
     "iopub.status.idle": "2023-08-08T06:18:59.800152Z",
     "shell.execute_reply": "2023-08-08T06:18:59.798544Z"
    },
    "papermill": {
     "duration": 0.034193,
     "end_time": "2023-08-08T06:18:59.801966",
     "exception": false,
     "start_time": "2023-08-08T06:18:59.767773",
     "status": "completed"
    },
    "tags": []
   },
   "outputs": [
    {
     "name": "stdout",
     "output_type": "stream",
     "text": [
      "/kaggle/input/sentiment-prediction-on-movie-reviews/movies.csv\n",
      "/kaggle/input/sentiment-prediction-on-movie-reviews/sample.csv\n",
      "/kaggle/input/sentiment-prediction-on-movie-reviews/train.csv\n",
      "/kaggle/input/sentiment-prediction-on-movie-reviews/test.csv\n"
     ]
    }
   ],
   "source": [
    "# This Python 3 environment comes with many helpful analytics libraries installed\n",
    "# It is defined by the kaggle/python Docker image: https://github.com/kaggle/docker-python\n",
    "# For example, here's several helpful packages to load\n",
    "\n",
    "import numpy as np # linear algebra\n",
    "import pandas as pd # data processing, CSV file I/O (e.g. pd.read_csv)\n",
    "\n",
    "# Input data files are available in the read-only \"../input/\" directory\n",
    "# For example, running this (by clicking run or pressing Shift+Enter) will list all files under the input directory\n",
    "\n",
    "import os\n",
    "for dirname, _, filenames in os.walk('/kaggle/input'):\n",
    "    for filename in filenames:\n",
    "        print(os.path.join(dirname, filename))\n",
    "\n",
    "# You can write up to 20GB to the current directory (/kaggle/working/) that gets preserved as output when you create a version using \"Save & Run All\" \n",
    "# You can also write temporary files to /kaggle/temp/, but they won't be saved outside of the current session"
   ]
  },
  {
   "cell_type": "code",
   "execution_count": 2,
   "id": "ac64eaa3",
   "metadata": {
    "execution": {
     "iopub.execute_input": "2023-08-08T06:18:59.838241Z",
     "iopub.status.busy": "2023-08-08T06:18:59.837615Z",
     "iopub.status.idle": "2023-08-08T06:19:01.815270Z",
     "shell.execute_reply": "2023-08-08T06:19:01.814417Z"
    },
    "papermill": {
     "duration": 1.998547,
     "end_time": "2023-08-08T06:19:01.817723",
     "exception": false,
     "start_time": "2023-08-08T06:18:59.819176",
     "status": "completed"
    },
    "tags": []
   },
   "outputs": [],
   "source": [
    "from sklearn.preprocessing import LabelEncoder\n",
    "from sklearn.pipeline import Pipeline, make_pipeline\n",
    "from sklearn.compose import ColumnTransformer\n",
    "from sklearn.feature_extraction.text import TfidfVectorizer\n",
    "from sklearn.linear_model import Perceptron, SGDClassifier\n",
    "from sklearn.naive_bayes import MultinomialNB\n",
    "from sklearn.preprocessing import OneHotEncoder\n",
    "from sklearn.preprocessing import FunctionTransformer\n",
    "from sklearn.impute import SimpleImputer\n",
    "from sklearn.feature_selection import SelectKBest, chi2\n",
    "from sklearn.tree import DecisionTreeClassifier\n",
    "from sklearn.ensemble import BaggingClassifier, RandomForestClassifier\n",
    "from sklearn.ensemble import AdaBoostClassifier, GradientBoostingClassifier\n",
    "from sklearn.model_selection import train_test_split, cross_validate, cross_val_score, ShuffleSplit\n",
    "from sklearn.preprocessing import MinMaxScaler\n",
    "from sklearn.linear_model import LogisticRegression"
   ]
  },
  {
   "cell_type": "code",
   "execution_count": 3,
   "id": "3d06375a",
   "metadata": {
    "execution": {
     "iopub.execute_input": "2023-08-08T06:19:01.854535Z",
     "iopub.status.busy": "2023-08-08T06:19:01.854172Z",
     "iopub.status.idle": "2023-08-08T06:19:02.699606Z",
     "shell.execute_reply": "2023-08-08T06:19:02.698329Z"
    },
    "papermill": {
     "duration": 0.866984,
     "end_time": "2023-08-08T06:19:02.702113",
     "exception": false,
     "start_time": "2023-08-08T06:19:01.835129",
     "status": "completed"
    },
    "tags": []
   },
   "outputs": [
    {
     "data": {
      "text/html": [
       "<div>\n",
       "<style scoped>\n",
       "    .dataframe tbody tr th:only-of-type {\n",
       "        vertical-align: middle;\n",
       "    }\n",
       "\n",
       "    .dataframe tbody tr th {\n",
       "        vertical-align: top;\n",
       "    }\n",
       "\n",
       "    .dataframe thead th {\n",
       "        text-align: right;\n",
       "    }\n",
       "</style>\n",
       "<table border=\"1\" class=\"dataframe\">\n",
       "  <thead>\n",
       "    <tr style=\"text-align: right;\">\n",
       "      <th></th>\n",
       "      <th>movieid</th>\n",
       "      <th>reviewerName</th>\n",
       "      <th>isFrequentReviewer</th>\n",
       "      <th>reviewText</th>\n",
       "      <th>sentiment</th>\n",
       "    </tr>\n",
       "  </thead>\n",
       "  <tbody>\n",
       "    <tr>\n",
       "      <th>0</th>\n",
       "      <td>marvelous_pirate</td>\n",
       "      <td>Benjamin Henry</td>\n",
       "      <td>False</td>\n",
       "      <td>Henry Selick’s first movie since 2009’s Corali...</td>\n",
       "      <td>POSITIVE</td>\n",
       "    </tr>\n",
       "    <tr>\n",
       "      <th>1</th>\n",
       "      <td>tony_montana_frodo_baggins_v_rocky_balboa</td>\n",
       "      <td>Felicia Lopez</td>\n",
       "      <td>False</td>\n",
       "      <td>With a cast that reads like the Vogue Oscar pa...</td>\n",
       "      <td>NEGATIVE</td>\n",
       "    </tr>\n",
       "    <tr>\n",
       "      <th>2</th>\n",
       "      <td>darth_vader_katniss_everdeen_sorcerer_donnie_d...</td>\n",
       "      <td>Mr. Charles Burgess</td>\n",
       "      <td>True</td>\n",
       "      <td>Creed II does not give us anything but another...</td>\n",
       "      <td>POSITIVE</td>\n",
       "    </tr>\n",
       "    <tr>\n",
       "      <th>3</th>\n",
       "      <td>lara_croft_glimmer</td>\n",
       "      <td>Ryan Barrett</td>\n",
       "      <td>False</td>\n",
       "      <td>I know what you're thinking, but this is no Li...</td>\n",
       "      <td>POSITIVE</td>\n",
       "    </tr>\n",
       "    <tr>\n",
       "      <th>4</th>\n",
       "      <td>jason_bourne_surreal_the_terminator_indiana_jones</td>\n",
       "      <td>Alexander Glover</td>\n",
       "      <td>False</td>\n",
       "      <td>Director Fernando Meirelles tells the story wi...</td>\n",
       "      <td>POSITIVE</td>\n",
       "    </tr>\n",
       "  </tbody>\n",
       "</table>\n",
       "</div>"
      ],
      "text/plain": [
       "                                             movieid         reviewerName  \\\n",
       "0                                   marvelous_pirate       Benjamin Henry   \n",
       "1          tony_montana_frodo_baggins_v_rocky_balboa        Felicia Lopez   \n",
       "2  darth_vader_katniss_everdeen_sorcerer_donnie_d...  Mr. Charles Burgess   \n",
       "3                                 lara_croft_glimmer         Ryan Barrett   \n",
       "4  jason_bourne_surreal_the_terminator_indiana_jones     Alexander Glover   \n",
       "\n",
       "   isFrequentReviewer                                         reviewText  \\\n",
       "0               False  Henry Selick’s first movie since 2009’s Corali...   \n",
       "1               False  With a cast that reads like the Vogue Oscar pa...   \n",
       "2                True  Creed II does not give us anything but another...   \n",
       "3               False  I know what you're thinking, but this is no Li...   \n",
       "4               False  Director Fernando Meirelles tells the story wi...   \n",
       "\n",
       "  sentiment  \n",
       "0  POSITIVE  \n",
       "1  NEGATIVE  \n",
       "2  POSITIVE  \n",
       "3  POSITIVE  \n",
       "4  POSITIVE  "
      ]
     },
     "execution_count": 3,
     "metadata": {},
     "output_type": "execute_result"
    }
   ],
   "source": [
    "train = pd.read_csv('/kaggle/input/sentiment-prediction-on-movie-reviews/train.csv')\n",
    "train.head()"
   ]
  },
  {
   "cell_type": "code",
   "execution_count": 4,
   "id": "5bd88f39",
   "metadata": {
    "execution": {
     "iopub.execute_input": "2023-08-08T06:19:02.738765Z",
     "iopub.status.busy": "2023-08-08T06:19:02.738412Z",
     "iopub.status.idle": "2023-08-08T06:19:02.788196Z",
     "shell.execute_reply": "2023-08-08T06:19:02.786898Z"
    },
    "papermill": {
     "duration": 0.070628,
     "end_time": "2023-08-08T06:19:02.790467",
     "exception": false,
     "start_time": "2023-08-08T06:19:02.719839",
     "status": "completed"
    },
    "tags": []
   },
   "outputs": [
    {
     "data": {
      "text/plain": [
       "array([1, 0, 1, 1, 1])"
      ]
     },
     "execution_count": 4,
     "metadata": {},
     "output_type": "execute_result"
    }
   ],
   "source": [
    "X_train = train.drop(['movieid','reviewerName','sentiment'], axis=1)\n",
    "y_train=train.sentiment\n",
    "y_train = LabelEncoder().fit_transform(y_train)\n",
    "y_train[:5]"
   ]
  },
  {
   "cell_type": "code",
   "execution_count": 5,
   "id": "8d828a8b",
   "metadata": {
    "execution": {
     "iopub.execute_input": "2023-08-08T06:19:02.827978Z",
     "iopub.status.busy": "2023-08-08T06:19:02.827602Z",
     "iopub.status.idle": "2023-08-08T06:19:02.965155Z",
     "shell.execute_reply": "2023-08-08T06:19:02.963526Z"
    },
    "papermill": {
     "duration": 0.161268,
     "end_time": "2023-08-08T06:19:02.969521",
     "exception": false,
     "start_time": "2023-08-08T06:19:02.808253",
     "status": "completed"
    },
    "tags": []
   },
   "outputs": [
    {
     "data": {
      "text/html": [
       "<div>\n",
       "<style scoped>\n",
       "    .dataframe tbody tr th:only-of-type {\n",
       "        vertical-align: middle;\n",
       "    }\n",
       "\n",
       "    .dataframe tbody tr th {\n",
       "        vertical-align: top;\n",
       "    }\n",
       "\n",
       "    .dataframe thead th {\n",
       "        text-align: right;\n",
       "    }\n",
       "</style>\n",
       "<table border=\"1\" class=\"dataframe\">\n",
       "  <thead>\n",
       "    <tr style=\"text-align: right;\">\n",
       "      <th></th>\n",
       "      <th>isFrequentReviewer</th>\n",
       "      <th>reviewText</th>\n",
       "    </tr>\n",
       "  </thead>\n",
       "  <tbody>\n",
       "    <tr>\n",
       "      <th>0</th>\n",
       "      <td>0</td>\n",
       "      <td>Henry Selick’s first movie since 2009’s Corali...</td>\n",
       "    </tr>\n",
       "    <tr>\n",
       "      <th>1</th>\n",
       "      <td>0</td>\n",
       "      <td>With a cast that reads like the Vogue Oscar pa...</td>\n",
       "    </tr>\n",
       "    <tr>\n",
       "      <th>2</th>\n",
       "      <td>1</td>\n",
       "      <td>Creed II does not give us anything but another...</td>\n",
       "    </tr>\n",
       "    <tr>\n",
       "      <th>3</th>\n",
       "      <td>0</td>\n",
       "      <td>I know what you're thinking, but this is no Li...</td>\n",
       "    </tr>\n",
       "    <tr>\n",
       "      <th>4</th>\n",
       "      <td>0</td>\n",
       "      <td>Director Fernando Meirelles tells the story wi...</td>\n",
       "    </tr>\n",
       "  </tbody>\n",
       "</table>\n",
       "</div>"
      ],
      "text/plain": [
       "   isFrequentReviewer                                         reviewText\n",
       "0                   0  Henry Selick’s first movie since 2009’s Corali...\n",
       "1                   0  With a cast that reads like the Vogue Oscar pa...\n",
       "2                   1  Creed II does not give us anything but another...\n",
       "3                   0  I know what you're thinking, but this is no Li...\n",
       "4                   0  Director Fernando Meirelles tells the story wi..."
      ]
     },
     "execution_count": 5,
     "metadata": {},
     "output_type": "execute_result"
    }
   ],
   "source": [
    "X_train['isFrequentReviewer'] = X_train['isFrequentReviewer'].astype(str)\n",
    "si_isFrequentReviewer = SimpleImputer(strategy='most_frequent', missing_values='nan').fit(X_train['isFrequentReviewer'].array.reshape(-1,1))\n",
    "X_train.isFrequentReviewer = si_isFrequentReviewer.transform(X_train['isFrequentReviewer'].array.reshape(-1,1))\n",
    "# label encoder - on \"isFrequentReviewer\"\n",
    "le_isFrequentReviewer = LabelEncoder().fit(X_train.isFrequentReviewer)\n",
    "X_train.isFrequentReviewer = le_isFrequentReviewer.transform(X_train.isFrequentReviewer)\n",
    "X_train.fillna('', inplace=True)\n",
    "X_train.head()"
   ]
  },
  {
   "cell_type": "code",
   "execution_count": 6,
   "id": "80a051bb",
   "metadata": {
    "execution": {
     "iopub.execute_input": "2023-08-08T06:19:03.008476Z",
     "iopub.status.busy": "2023-08-08T06:19:03.007285Z",
     "iopub.status.idle": "2023-08-08T06:19:03.048410Z",
     "shell.execute_reply": "2023-08-08T06:19:03.047064Z"
    },
    "papermill": {
     "duration": 0.063035,
     "end_time": "2023-08-08T06:19:03.050788",
     "exception": false,
     "start_time": "2023-08-08T06:19:02.987753",
     "status": "completed"
    },
    "tags": []
   },
   "outputs": [
    {
     "data": {
      "text/plain": [
       "isFrequentReviewer    0\n",
       "reviewText            0\n",
       "dtype: int64"
      ]
     },
     "execution_count": 6,
     "metadata": {},
     "output_type": "execute_result"
    }
   ],
   "source": [
    "X_train.isna().sum()"
   ]
  },
  {
   "cell_type": "code",
   "execution_count": 7,
   "id": "0852750e",
   "metadata": {
    "execution": {
     "iopub.execute_input": "2023-08-08T06:19:03.088796Z",
     "iopub.status.busy": "2023-08-08T06:19:03.088417Z",
     "iopub.status.idle": "2023-08-08T06:19:03.175000Z",
     "shell.execute_reply": "2023-08-08T06:19:03.174107Z"
    },
    "papermill": {
     "duration": 0.108359,
     "end_time": "2023-08-08T06:19:03.177275",
     "exception": false,
     "start_time": "2023-08-08T06:19:03.068916",
     "status": "completed"
    },
    "tags": []
   },
   "outputs": [
    {
     "data": {
      "text/html": [
       "<style>#sk-container-id-1 {color: black;background-color: white;}#sk-container-id-1 pre{padding: 0;}#sk-container-id-1 div.sk-toggleable {background-color: white;}#sk-container-id-1 label.sk-toggleable__label {cursor: pointer;display: block;width: 100%;margin-bottom: 0;padding: 0.3em;box-sizing: border-box;text-align: center;}#sk-container-id-1 label.sk-toggleable__label-arrow:before {content: \"▸\";float: left;margin-right: 0.25em;color: #696969;}#sk-container-id-1 label.sk-toggleable__label-arrow:hover:before {color: black;}#sk-container-id-1 div.sk-estimator:hover label.sk-toggleable__label-arrow:before {color: black;}#sk-container-id-1 div.sk-toggleable__content {max-height: 0;max-width: 0;overflow: hidden;text-align: left;background-color: #f0f8ff;}#sk-container-id-1 div.sk-toggleable__content pre {margin: 0.2em;color: black;border-radius: 0.25em;background-color: #f0f8ff;}#sk-container-id-1 input.sk-toggleable__control:checked~div.sk-toggleable__content {max-height: 200px;max-width: 100%;overflow: auto;}#sk-container-id-1 input.sk-toggleable__control:checked~label.sk-toggleable__label-arrow:before {content: \"▾\";}#sk-container-id-1 div.sk-estimator input.sk-toggleable__control:checked~label.sk-toggleable__label {background-color: #d4ebff;}#sk-container-id-1 div.sk-label input.sk-toggleable__control:checked~label.sk-toggleable__label {background-color: #d4ebff;}#sk-container-id-1 input.sk-hidden--visually {border: 0;clip: rect(1px 1px 1px 1px);clip: rect(1px, 1px, 1px, 1px);height: 1px;margin: -1px;overflow: hidden;padding: 0;position: absolute;width: 1px;}#sk-container-id-1 div.sk-estimator {font-family: monospace;background-color: #f0f8ff;border: 1px dotted black;border-radius: 0.25em;box-sizing: border-box;margin-bottom: 0.5em;}#sk-container-id-1 div.sk-estimator:hover {background-color: #d4ebff;}#sk-container-id-1 div.sk-parallel-item::after {content: \"\";width: 100%;border-bottom: 1px solid gray;flex-grow: 1;}#sk-container-id-1 div.sk-label:hover label.sk-toggleable__label {background-color: #d4ebff;}#sk-container-id-1 div.sk-serial::before {content: \"\";position: absolute;border-left: 1px solid gray;box-sizing: border-box;top: 0;bottom: 0;left: 50%;z-index: 0;}#sk-container-id-1 div.sk-serial {display: flex;flex-direction: column;align-items: center;background-color: white;padding-right: 0.2em;padding-left: 0.2em;position: relative;}#sk-container-id-1 div.sk-item {position: relative;z-index: 1;}#sk-container-id-1 div.sk-parallel {display: flex;align-items: stretch;justify-content: center;background-color: white;position: relative;}#sk-container-id-1 div.sk-item::before, #sk-container-id-1 div.sk-parallel-item::before {content: \"\";position: absolute;border-left: 1px solid gray;box-sizing: border-box;top: 0;bottom: 0;left: 50%;z-index: -1;}#sk-container-id-1 div.sk-parallel-item {display: flex;flex-direction: column;z-index: 1;position: relative;background-color: white;}#sk-container-id-1 div.sk-parallel-item:first-child::after {align-self: flex-end;width: 50%;}#sk-container-id-1 div.sk-parallel-item:last-child::after {align-self: flex-start;width: 50%;}#sk-container-id-1 div.sk-parallel-item:only-child::after {width: 0;}#sk-container-id-1 div.sk-dashed-wrapped {border: 1px dashed gray;margin: 0 0.4em 0.5em 0.4em;box-sizing: border-box;padding-bottom: 0.4em;background-color: white;}#sk-container-id-1 div.sk-label label {font-family: monospace;font-weight: bold;display: inline-block;line-height: 1.2em;}#sk-container-id-1 div.sk-label-container {text-align: center;}#sk-container-id-1 div.sk-container {/* jupyter's `normalize.less` sets `[hidden] { display: none; }` but bootstrap.min.css set `[hidden] { display: none !important; }` so we also need the `!important` here to be able to override the default hidden behavior on the sphinx rendered scikit-learn.org. See: https://github.com/scikit-learn/scikit-learn/issues/21755 */display: inline-block !important;position: relative;}#sk-container-id-1 div.sk-text-repr-fallback {display: none;}</style><div id=\"sk-container-id-1\" class=\"sk-top-container\"><div class=\"sk-text-repr-fallback\"><pre>Pipeline(steps=[(&#x27;ct&#x27;,\n",
       "                 ColumnTransformer(remainder=&#x27;passthrough&#x27;,\n",
       "                                   transformers=[(&#x27;reviewText&#x27;,\n",
       "                                                  Pipeline(steps=[(&#x27;squeez&#x27;,\n",
       "                                                                   FunctionTransformer(func=&lt;function &lt;lambda&gt; at 0x79721e69fd00&gt;)),\n",
       "                                                                  (&#x27;tfidf&#x27;,\n",
       "                                                                   TfidfVectorizer(max_features=10000,\n",
       "                                                                                   stop_words=&#x27;english&#x27;)),\n",
       "                                                                  (&#x27;toarray&#x27;,\n",
       "                                                                   FunctionTransformer(func=&lt;function &lt;lambda&gt; at 0x79721e69fbe0&gt;))]),\n",
       "                                                  [&#x27;reviewText&#x27;])])),\n",
       "                (&#x27;minmax&#x27;, MinMaxScaler()),\n",
       "                (&#x27;chi&#x27;,\n",
       "                 SelectKBest(k=&#x27;all&#x27;,\n",
       "                             score_func=&lt;function chi2 at 0x797224af7010&gt;)),\n",
       "                (&#x27;logisticregression&#x27;,\n",
       "                 LogisticRegression(random_state=42, solver=&#x27;saga&#x27;))])</pre><b>In a Jupyter environment, please rerun this cell to show the HTML representation or trust the notebook. <br />On GitHub, the HTML representation is unable to render, please try loading this page with nbviewer.org.</b></div><div class=\"sk-container\" hidden><div class=\"sk-item sk-dashed-wrapped\"><div class=\"sk-label-container\"><div class=\"sk-label sk-toggleable\"><input class=\"sk-toggleable__control sk-hidden--visually\" id=\"sk-estimator-id-1\" type=\"checkbox\" ><label for=\"sk-estimator-id-1\" class=\"sk-toggleable__label sk-toggleable__label-arrow\">Pipeline</label><div class=\"sk-toggleable__content\"><pre>Pipeline(steps=[(&#x27;ct&#x27;,\n",
       "                 ColumnTransformer(remainder=&#x27;passthrough&#x27;,\n",
       "                                   transformers=[(&#x27;reviewText&#x27;,\n",
       "                                                  Pipeline(steps=[(&#x27;squeez&#x27;,\n",
       "                                                                   FunctionTransformer(func=&lt;function &lt;lambda&gt; at 0x79721e69fd00&gt;)),\n",
       "                                                                  (&#x27;tfidf&#x27;,\n",
       "                                                                   TfidfVectorizer(max_features=10000,\n",
       "                                                                                   stop_words=&#x27;english&#x27;)),\n",
       "                                                                  (&#x27;toarray&#x27;,\n",
       "                                                                   FunctionTransformer(func=&lt;function &lt;lambda&gt; at 0x79721e69fbe0&gt;))]),\n",
       "                                                  [&#x27;reviewText&#x27;])])),\n",
       "                (&#x27;minmax&#x27;, MinMaxScaler()),\n",
       "                (&#x27;chi&#x27;,\n",
       "                 SelectKBest(k=&#x27;all&#x27;,\n",
       "                             score_func=&lt;function chi2 at 0x797224af7010&gt;)),\n",
       "                (&#x27;logisticregression&#x27;,\n",
       "                 LogisticRegression(random_state=42, solver=&#x27;saga&#x27;))])</pre></div></div></div><div class=\"sk-serial\"><div class=\"sk-item sk-dashed-wrapped\"><div class=\"sk-label-container\"><div class=\"sk-label sk-toggleable\"><input class=\"sk-toggleable__control sk-hidden--visually\" id=\"sk-estimator-id-2\" type=\"checkbox\" ><label for=\"sk-estimator-id-2\" class=\"sk-toggleable__label sk-toggleable__label-arrow\">ct: ColumnTransformer</label><div class=\"sk-toggleable__content\"><pre>ColumnTransformer(remainder=&#x27;passthrough&#x27;,\n",
       "                  transformers=[(&#x27;reviewText&#x27;,\n",
       "                                 Pipeline(steps=[(&#x27;squeez&#x27;,\n",
       "                                                  FunctionTransformer(func=&lt;function &lt;lambda&gt; at 0x79721e69fd00&gt;)),\n",
       "                                                 (&#x27;tfidf&#x27;,\n",
       "                                                  TfidfVectorizer(max_features=10000,\n",
       "                                                                  stop_words=&#x27;english&#x27;)),\n",
       "                                                 (&#x27;toarray&#x27;,\n",
       "                                                  FunctionTransformer(func=&lt;function &lt;lambda&gt; at 0x79721e69fbe0&gt;))]),\n",
       "                                 [&#x27;reviewText&#x27;])])</pre></div></div></div><div class=\"sk-parallel\"><div class=\"sk-parallel-item\"><div class=\"sk-item\"><div class=\"sk-label-container\"><div class=\"sk-label sk-toggleable\"><input class=\"sk-toggleable__control sk-hidden--visually\" id=\"sk-estimator-id-3\" type=\"checkbox\" ><label for=\"sk-estimator-id-3\" class=\"sk-toggleable__label sk-toggleable__label-arrow\">reviewText</label><div class=\"sk-toggleable__content\"><pre>[&#x27;reviewText&#x27;]</pre></div></div></div><div class=\"sk-serial\"><div class=\"sk-item\"><div class=\"sk-serial\"><div class=\"sk-item\"><div class=\"sk-estimator sk-toggleable\"><input class=\"sk-toggleable__control sk-hidden--visually\" id=\"sk-estimator-id-4\" type=\"checkbox\" ><label for=\"sk-estimator-id-4\" class=\"sk-toggleable__label sk-toggleable__label-arrow\">FunctionTransformer</label><div class=\"sk-toggleable__content\"><pre>FunctionTransformer(func=&lt;function &lt;lambda&gt; at 0x79721e69fd00&gt;)</pre></div></div></div><div class=\"sk-item\"><div class=\"sk-estimator sk-toggleable\"><input class=\"sk-toggleable__control sk-hidden--visually\" id=\"sk-estimator-id-5\" type=\"checkbox\" ><label for=\"sk-estimator-id-5\" class=\"sk-toggleable__label sk-toggleable__label-arrow\">TfidfVectorizer</label><div class=\"sk-toggleable__content\"><pre>TfidfVectorizer(max_features=10000, stop_words=&#x27;english&#x27;)</pre></div></div></div><div class=\"sk-item\"><div class=\"sk-estimator sk-toggleable\"><input class=\"sk-toggleable__control sk-hidden--visually\" id=\"sk-estimator-id-6\" type=\"checkbox\" ><label for=\"sk-estimator-id-6\" class=\"sk-toggleable__label sk-toggleable__label-arrow\">FunctionTransformer</label><div class=\"sk-toggleable__content\"><pre>FunctionTransformer(func=&lt;function &lt;lambda&gt; at 0x79721e69fbe0&gt;)</pre></div></div></div></div></div></div></div></div><div class=\"sk-parallel-item\"><div class=\"sk-item\"><div class=\"sk-label-container\"><div class=\"sk-label sk-toggleable\"><input class=\"sk-toggleable__control sk-hidden--visually\" id=\"sk-estimator-id-7\" type=\"checkbox\" ><label for=\"sk-estimator-id-7\" class=\"sk-toggleable__label sk-toggleable__label-arrow\">remainder</label><div class=\"sk-toggleable__content\"><pre></pre></div></div></div><div class=\"sk-serial\"><div class=\"sk-item\"><div class=\"sk-estimator sk-toggleable\"><input class=\"sk-toggleable__control sk-hidden--visually\" id=\"sk-estimator-id-8\" type=\"checkbox\" ><label for=\"sk-estimator-id-8\" class=\"sk-toggleable__label sk-toggleable__label-arrow\">passthrough</label><div class=\"sk-toggleable__content\"><pre>passthrough</pre></div></div></div></div></div></div></div></div><div class=\"sk-item\"><div class=\"sk-estimator sk-toggleable\"><input class=\"sk-toggleable__control sk-hidden--visually\" id=\"sk-estimator-id-9\" type=\"checkbox\" ><label for=\"sk-estimator-id-9\" class=\"sk-toggleable__label sk-toggleable__label-arrow\">MinMaxScaler</label><div class=\"sk-toggleable__content\"><pre>MinMaxScaler()</pre></div></div></div><div class=\"sk-item\"><div class=\"sk-estimator sk-toggleable\"><input class=\"sk-toggleable__control sk-hidden--visually\" id=\"sk-estimator-id-10\" type=\"checkbox\" ><label for=\"sk-estimator-id-10\" class=\"sk-toggleable__label sk-toggleable__label-arrow\">SelectKBest</label><div class=\"sk-toggleable__content\"><pre>SelectKBest(k=&#x27;all&#x27;, score_func=&lt;function chi2 at 0x797224af7010&gt;)</pre></div></div></div><div class=\"sk-item\"><div class=\"sk-estimator sk-toggleable\"><input class=\"sk-toggleable__control sk-hidden--visually\" id=\"sk-estimator-id-11\" type=\"checkbox\" ><label for=\"sk-estimator-id-11\" class=\"sk-toggleable__label sk-toggleable__label-arrow\">LogisticRegression</label><div class=\"sk-toggleable__content\"><pre>LogisticRegression(random_state=42, solver=&#x27;saga&#x27;)</pre></div></div></div></div></div></div></div>"
      ],
      "text/plain": [
       "Pipeline(steps=[('ct',\n",
       "                 ColumnTransformer(remainder='passthrough',\n",
       "                                   transformers=[('reviewText',\n",
       "                                                  Pipeline(steps=[('squeez',\n",
       "                                                                   FunctionTransformer(func=<function <lambda> at 0x79721e69fd00>)),\n",
       "                                                                  ('tfidf',\n",
       "                                                                   TfidfVectorizer(max_features=10000,\n",
       "                                                                                   stop_words='english')),\n",
       "                                                                  ('toarray',\n",
       "                                                                   FunctionTransformer(func=<function <lambda> at 0x79721e69fbe0>))]),\n",
       "                                                  ['reviewText'])])),\n",
       "                ('minmax', MinMaxScaler()),\n",
       "                ('chi',\n",
       "                 SelectKBest(k='all',\n",
       "                             score_func=<function chi2 at 0x797224af7010>)),\n",
       "                ('logisticregression',\n",
       "                 LogisticRegression(random_state=42, solver='saga'))])"
      ]
     },
     "execution_count": 7,
     "metadata": {},
     "output_type": "execute_result"
    }
   ],
   "source": [
    "TextProcessor = Pipeline(steps=[\n",
    "    (\"squeez\", FunctionTransformer(lambda x: x.squeeze())),\n",
    "    (\"tfidf\", TfidfVectorizer(max_features = 10000,stop_words ='english')),\n",
    "    (\"toarray\", FunctionTransformer(lambda x: x.toarray())),\n",
    "])\n",
    "\n",
    "\n",
    "ct = ColumnTransformer([\n",
    "    ('reviewText', TextProcessor, ['reviewText']),\n",
    "],\n",
    "    remainder='passthrough'\n",
    ")\n",
    "\n",
    "# best_alpha = grid_search.best_params_['multinomial__alpha'] # from HPT\n",
    "\n",
    "clf_logisticregression = Pipeline(steps=[\n",
    "    ('ct',ct),\n",
    "    ('minmax', MinMaxScaler()),\n",
    "    ('chi', SelectKBest(chi2, k='all')),\n",
    "    ('logisticregression', LogisticRegression(penalty='l2',random_state =42,solver='saga' ))\n",
    "])\n",
    "clf_logisticregression"
   ]
  },
  {
   "cell_type": "code",
   "execution_count": 8,
   "id": "16c929bb",
   "metadata": {
    "execution": {
     "iopub.execute_input": "2023-08-08T06:19:03.215193Z",
     "iopub.status.busy": "2023-08-08T06:19:03.214413Z",
     "iopub.status.idle": "2023-08-08T06:29:48.099810Z",
     "shell.execute_reply": "2023-08-08T06:29:48.098368Z"
    },
    "papermill": {
     "duration": 644.924148,
     "end_time": "2023-08-08T06:29:48.119491",
     "exception": false,
     "start_time": "2023-08-08T06:19:03.195343",
     "status": "completed"
    },
    "tags": []
   },
   "outputs": [
    {
     "data": {
      "text/html": [
       "<style>#sk-container-id-2 {color: black;background-color: white;}#sk-container-id-2 pre{padding: 0;}#sk-container-id-2 div.sk-toggleable {background-color: white;}#sk-container-id-2 label.sk-toggleable__label {cursor: pointer;display: block;width: 100%;margin-bottom: 0;padding: 0.3em;box-sizing: border-box;text-align: center;}#sk-container-id-2 label.sk-toggleable__label-arrow:before {content: \"▸\";float: left;margin-right: 0.25em;color: #696969;}#sk-container-id-2 label.sk-toggleable__label-arrow:hover:before {color: black;}#sk-container-id-2 div.sk-estimator:hover label.sk-toggleable__label-arrow:before {color: black;}#sk-container-id-2 div.sk-toggleable__content {max-height: 0;max-width: 0;overflow: hidden;text-align: left;background-color: #f0f8ff;}#sk-container-id-2 div.sk-toggleable__content pre {margin: 0.2em;color: black;border-radius: 0.25em;background-color: #f0f8ff;}#sk-container-id-2 input.sk-toggleable__control:checked~div.sk-toggleable__content {max-height: 200px;max-width: 100%;overflow: auto;}#sk-container-id-2 input.sk-toggleable__control:checked~label.sk-toggleable__label-arrow:before {content: \"▾\";}#sk-container-id-2 div.sk-estimator input.sk-toggleable__control:checked~label.sk-toggleable__label {background-color: #d4ebff;}#sk-container-id-2 div.sk-label input.sk-toggleable__control:checked~label.sk-toggleable__label {background-color: #d4ebff;}#sk-container-id-2 input.sk-hidden--visually {border: 0;clip: rect(1px 1px 1px 1px);clip: rect(1px, 1px, 1px, 1px);height: 1px;margin: -1px;overflow: hidden;padding: 0;position: absolute;width: 1px;}#sk-container-id-2 div.sk-estimator {font-family: monospace;background-color: #f0f8ff;border: 1px dotted black;border-radius: 0.25em;box-sizing: border-box;margin-bottom: 0.5em;}#sk-container-id-2 div.sk-estimator:hover {background-color: #d4ebff;}#sk-container-id-2 div.sk-parallel-item::after {content: \"\";width: 100%;border-bottom: 1px solid gray;flex-grow: 1;}#sk-container-id-2 div.sk-label:hover label.sk-toggleable__label {background-color: #d4ebff;}#sk-container-id-2 div.sk-serial::before {content: \"\";position: absolute;border-left: 1px solid gray;box-sizing: border-box;top: 0;bottom: 0;left: 50%;z-index: 0;}#sk-container-id-2 div.sk-serial {display: flex;flex-direction: column;align-items: center;background-color: white;padding-right: 0.2em;padding-left: 0.2em;position: relative;}#sk-container-id-2 div.sk-item {position: relative;z-index: 1;}#sk-container-id-2 div.sk-parallel {display: flex;align-items: stretch;justify-content: center;background-color: white;position: relative;}#sk-container-id-2 div.sk-item::before, #sk-container-id-2 div.sk-parallel-item::before {content: \"\";position: absolute;border-left: 1px solid gray;box-sizing: border-box;top: 0;bottom: 0;left: 50%;z-index: -1;}#sk-container-id-2 div.sk-parallel-item {display: flex;flex-direction: column;z-index: 1;position: relative;background-color: white;}#sk-container-id-2 div.sk-parallel-item:first-child::after {align-self: flex-end;width: 50%;}#sk-container-id-2 div.sk-parallel-item:last-child::after {align-self: flex-start;width: 50%;}#sk-container-id-2 div.sk-parallel-item:only-child::after {width: 0;}#sk-container-id-2 div.sk-dashed-wrapped {border: 1px dashed gray;margin: 0 0.4em 0.5em 0.4em;box-sizing: border-box;padding-bottom: 0.4em;background-color: white;}#sk-container-id-2 div.sk-label label {font-family: monospace;font-weight: bold;display: inline-block;line-height: 1.2em;}#sk-container-id-2 div.sk-label-container {text-align: center;}#sk-container-id-2 div.sk-container {/* jupyter's `normalize.less` sets `[hidden] { display: none; }` but bootstrap.min.css set `[hidden] { display: none !important; }` so we also need the `!important` here to be able to override the default hidden behavior on the sphinx rendered scikit-learn.org. See: https://github.com/scikit-learn/scikit-learn/issues/21755 */display: inline-block !important;position: relative;}#sk-container-id-2 div.sk-text-repr-fallback {display: none;}</style><div id=\"sk-container-id-2\" class=\"sk-top-container\"><div class=\"sk-text-repr-fallback\"><pre>Pipeline(steps=[(&#x27;ct&#x27;,\n",
       "                 ColumnTransformer(remainder=&#x27;passthrough&#x27;,\n",
       "                                   transformers=[(&#x27;reviewText&#x27;,\n",
       "                                                  Pipeline(steps=[(&#x27;squeez&#x27;,\n",
       "                                                                   FunctionTransformer(func=&lt;function &lt;lambda&gt; at 0x79721e69fd00&gt;)),\n",
       "                                                                  (&#x27;tfidf&#x27;,\n",
       "                                                                   TfidfVectorizer(max_features=10000,\n",
       "                                                                                   stop_words=&#x27;english&#x27;)),\n",
       "                                                                  (&#x27;toarray&#x27;,\n",
       "                                                                   FunctionTransformer(func=&lt;function &lt;lambda&gt; at 0x79721e69fbe0&gt;))]),\n",
       "                                                  [&#x27;reviewText&#x27;])])),\n",
       "                (&#x27;minmax&#x27;, MinMaxScaler()),\n",
       "                (&#x27;chi&#x27;,\n",
       "                 SelectKBest(k=&#x27;all&#x27;,\n",
       "                             score_func=&lt;function chi2 at 0x797224af7010&gt;)),\n",
       "                (&#x27;logisticregression&#x27;,\n",
       "                 LogisticRegression(random_state=42, solver=&#x27;saga&#x27;))])</pre><b>In a Jupyter environment, please rerun this cell to show the HTML representation or trust the notebook. <br />On GitHub, the HTML representation is unable to render, please try loading this page with nbviewer.org.</b></div><div class=\"sk-container\" hidden><div class=\"sk-item sk-dashed-wrapped\"><div class=\"sk-label-container\"><div class=\"sk-label sk-toggleable\"><input class=\"sk-toggleable__control sk-hidden--visually\" id=\"sk-estimator-id-12\" type=\"checkbox\" ><label for=\"sk-estimator-id-12\" class=\"sk-toggleable__label sk-toggleable__label-arrow\">Pipeline</label><div class=\"sk-toggleable__content\"><pre>Pipeline(steps=[(&#x27;ct&#x27;,\n",
       "                 ColumnTransformer(remainder=&#x27;passthrough&#x27;,\n",
       "                                   transformers=[(&#x27;reviewText&#x27;,\n",
       "                                                  Pipeline(steps=[(&#x27;squeez&#x27;,\n",
       "                                                                   FunctionTransformer(func=&lt;function &lt;lambda&gt; at 0x79721e69fd00&gt;)),\n",
       "                                                                  (&#x27;tfidf&#x27;,\n",
       "                                                                   TfidfVectorizer(max_features=10000,\n",
       "                                                                                   stop_words=&#x27;english&#x27;)),\n",
       "                                                                  (&#x27;toarray&#x27;,\n",
       "                                                                   FunctionTransformer(func=&lt;function &lt;lambda&gt; at 0x79721e69fbe0&gt;))]),\n",
       "                                                  [&#x27;reviewText&#x27;])])),\n",
       "                (&#x27;minmax&#x27;, MinMaxScaler()),\n",
       "                (&#x27;chi&#x27;,\n",
       "                 SelectKBest(k=&#x27;all&#x27;,\n",
       "                             score_func=&lt;function chi2 at 0x797224af7010&gt;)),\n",
       "                (&#x27;logisticregression&#x27;,\n",
       "                 LogisticRegression(random_state=42, solver=&#x27;saga&#x27;))])</pre></div></div></div><div class=\"sk-serial\"><div class=\"sk-item sk-dashed-wrapped\"><div class=\"sk-label-container\"><div class=\"sk-label sk-toggleable\"><input class=\"sk-toggleable__control sk-hidden--visually\" id=\"sk-estimator-id-13\" type=\"checkbox\" ><label for=\"sk-estimator-id-13\" class=\"sk-toggleable__label sk-toggleable__label-arrow\">ct: ColumnTransformer</label><div class=\"sk-toggleable__content\"><pre>ColumnTransformer(remainder=&#x27;passthrough&#x27;,\n",
       "                  transformers=[(&#x27;reviewText&#x27;,\n",
       "                                 Pipeline(steps=[(&#x27;squeez&#x27;,\n",
       "                                                  FunctionTransformer(func=&lt;function &lt;lambda&gt; at 0x79721e69fd00&gt;)),\n",
       "                                                 (&#x27;tfidf&#x27;,\n",
       "                                                  TfidfVectorizer(max_features=10000,\n",
       "                                                                  stop_words=&#x27;english&#x27;)),\n",
       "                                                 (&#x27;toarray&#x27;,\n",
       "                                                  FunctionTransformer(func=&lt;function &lt;lambda&gt; at 0x79721e69fbe0&gt;))]),\n",
       "                                 [&#x27;reviewText&#x27;])])</pre></div></div></div><div class=\"sk-parallel\"><div class=\"sk-parallel-item\"><div class=\"sk-item\"><div class=\"sk-label-container\"><div class=\"sk-label sk-toggleable\"><input class=\"sk-toggleable__control sk-hidden--visually\" id=\"sk-estimator-id-14\" type=\"checkbox\" ><label for=\"sk-estimator-id-14\" class=\"sk-toggleable__label sk-toggleable__label-arrow\">reviewText</label><div class=\"sk-toggleable__content\"><pre>[&#x27;reviewText&#x27;]</pre></div></div></div><div class=\"sk-serial\"><div class=\"sk-item\"><div class=\"sk-serial\"><div class=\"sk-item\"><div class=\"sk-estimator sk-toggleable\"><input class=\"sk-toggleable__control sk-hidden--visually\" id=\"sk-estimator-id-15\" type=\"checkbox\" ><label for=\"sk-estimator-id-15\" class=\"sk-toggleable__label sk-toggleable__label-arrow\">FunctionTransformer</label><div class=\"sk-toggleable__content\"><pre>FunctionTransformer(func=&lt;function &lt;lambda&gt; at 0x79721e69fd00&gt;)</pre></div></div></div><div class=\"sk-item\"><div class=\"sk-estimator sk-toggleable\"><input class=\"sk-toggleable__control sk-hidden--visually\" id=\"sk-estimator-id-16\" type=\"checkbox\" ><label for=\"sk-estimator-id-16\" class=\"sk-toggleable__label sk-toggleable__label-arrow\">TfidfVectorizer</label><div class=\"sk-toggleable__content\"><pre>TfidfVectorizer(max_features=10000, stop_words=&#x27;english&#x27;)</pre></div></div></div><div class=\"sk-item\"><div class=\"sk-estimator sk-toggleable\"><input class=\"sk-toggleable__control sk-hidden--visually\" id=\"sk-estimator-id-17\" type=\"checkbox\" ><label for=\"sk-estimator-id-17\" class=\"sk-toggleable__label sk-toggleable__label-arrow\">FunctionTransformer</label><div class=\"sk-toggleable__content\"><pre>FunctionTransformer(func=&lt;function &lt;lambda&gt; at 0x79721e69fbe0&gt;)</pre></div></div></div></div></div></div></div></div><div class=\"sk-parallel-item\"><div class=\"sk-item\"><div class=\"sk-label-container\"><div class=\"sk-label sk-toggleable\"><input class=\"sk-toggleable__control sk-hidden--visually\" id=\"sk-estimator-id-18\" type=\"checkbox\" ><label for=\"sk-estimator-id-18\" class=\"sk-toggleable__label sk-toggleable__label-arrow\">remainder</label><div class=\"sk-toggleable__content\"><pre>[&#x27;isFrequentReviewer&#x27;]</pre></div></div></div><div class=\"sk-serial\"><div class=\"sk-item\"><div class=\"sk-estimator sk-toggleable\"><input class=\"sk-toggleable__control sk-hidden--visually\" id=\"sk-estimator-id-19\" type=\"checkbox\" ><label for=\"sk-estimator-id-19\" class=\"sk-toggleable__label sk-toggleable__label-arrow\">passthrough</label><div class=\"sk-toggleable__content\"><pre>passthrough</pre></div></div></div></div></div></div></div></div><div class=\"sk-item\"><div class=\"sk-estimator sk-toggleable\"><input class=\"sk-toggleable__control sk-hidden--visually\" id=\"sk-estimator-id-20\" type=\"checkbox\" ><label for=\"sk-estimator-id-20\" class=\"sk-toggleable__label sk-toggleable__label-arrow\">MinMaxScaler</label><div class=\"sk-toggleable__content\"><pre>MinMaxScaler()</pre></div></div></div><div class=\"sk-item\"><div class=\"sk-estimator sk-toggleable\"><input class=\"sk-toggleable__control sk-hidden--visually\" id=\"sk-estimator-id-21\" type=\"checkbox\" ><label for=\"sk-estimator-id-21\" class=\"sk-toggleable__label sk-toggleable__label-arrow\">SelectKBest</label><div class=\"sk-toggleable__content\"><pre>SelectKBest(k=&#x27;all&#x27;, score_func=&lt;function chi2 at 0x797224af7010&gt;)</pre></div></div></div><div class=\"sk-item\"><div class=\"sk-estimator sk-toggleable\"><input class=\"sk-toggleable__control sk-hidden--visually\" id=\"sk-estimator-id-22\" type=\"checkbox\" ><label for=\"sk-estimator-id-22\" class=\"sk-toggleable__label sk-toggleable__label-arrow\">LogisticRegression</label><div class=\"sk-toggleable__content\"><pre>LogisticRegression(random_state=42, solver=&#x27;saga&#x27;)</pre></div></div></div></div></div></div></div>"
      ],
      "text/plain": [
       "Pipeline(steps=[('ct',\n",
       "                 ColumnTransformer(remainder='passthrough',\n",
       "                                   transformers=[('reviewText',\n",
       "                                                  Pipeline(steps=[('squeez',\n",
       "                                                                   FunctionTransformer(func=<function <lambda> at 0x79721e69fd00>)),\n",
       "                                                                  ('tfidf',\n",
       "                                                                   TfidfVectorizer(max_features=10000,\n",
       "                                                                                   stop_words='english')),\n",
       "                                                                  ('toarray',\n",
       "                                                                   FunctionTransformer(func=<function <lambda> at 0x79721e69fbe0>))]),\n",
       "                                                  ['reviewText'])])),\n",
       "                ('minmax', MinMaxScaler()),\n",
       "                ('chi',\n",
       "                 SelectKBest(k='all',\n",
       "                             score_func=<function chi2 at 0x797224af7010>)),\n",
       "                ('logisticregression',\n",
       "                 LogisticRegression(random_state=42, solver='saga'))])"
      ]
     },
     "execution_count": 8,
     "metadata": {},
     "output_type": "execute_result"
    }
   ],
   "source": [
    "clf_logisticregression.fit(X_train, y_train)"
   ]
  },
  {
   "cell_type": "code",
   "execution_count": 9,
   "id": "7b9c15ec",
   "metadata": {
    "execution": {
     "iopub.execute_input": "2023-08-08T06:29:48.157670Z",
     "iopub.status.busy": "2023-08-08T06:29:48.157349Z",
     "iopub.status.idle": "2023-08-08T06:30:20.072975Z",
     "shell.execute_reply": "2023-08-08T06:30:20.071989Z"
    },
    "papermill": {
     "duration": 31.966358,
     "end_time": "2023-08-08T06:30:20.104245",
     "exception": false,
     "start_time": "2023-08-08T06:29:48.137887",
     "status": "completed"
    },
    "tags": []
   },
   "outputs": [
    {
     "name": "stdout",
     "output_type": "stream",
     "text": [
      "0.8186940119686897\n"
     ]
    }
   ],
   "source": [
    "print(clf_logisticregression.score(X_train, y_train))"
   ]
  },
  {
   "cell_type": "code",
   "execution_count": 10,
   "id": "c87cf566",
   "metadata": {
    "execution": {
     "iopub.execute_input": "2023-08-08T06:30:20.154731Z",
     "iopub.status.busy": "2023-08-08T06:30:20.154313Z",
     "iopub.status.idle": "2023-08-08T06:30:20.242473Z",
     "shell.execute_reply": "2023-08-08T06:30:20.240873Z"
    },
    "papermill": {
     "duration": 0.116444,
     "end_time": "2023-08-08T06:30:20.245384",
     "exception": false,
     "start_time": "2023-08-08T06:30:20.128940",
     "status": "completed"
    },
    "tags": []
   },
   "outputs": [
    {
     "data": {
      "text/html": [
       "<style>#sk-container-id-3 {color: black;background-color: white;}#sk-container-id-3 pre{padding: 0;}#sk-container-id-3 div.sk-toggleable {background-color: white;}#sk-container-id-3 label.sk-toggleable__label {cursor: pointer;display: block;width: 100%;margin-bottom: 0;padding: 0.3em;box-sizing: border-box;text-align: center;}#sk-container-id-3 label.sk-toggleable__label-arrow:before {content: \"▸\";float: left;margin-right: 0.25em;color: #696969;}#sk-container-id-3 label.sk-toggleable__label-arrow:hover:before {color: black;}#sk-container-id-3 div.sk-estimator:hover label.sk-toggleable__label-arrow:before {color: black;}#sk-container-id-3 div.sk-toggleable__content {max-height: 0;max-width: 0;overflow: hidden;text-align: left;background-color: #f0f8ff;}#sk-container-id-3 div.sk-toggleable__content pre {margin: 0.2em;color: black;border-radius: 0.25em;background-color: #f0f8ff;}#sk-container-id-3 input.sk-toggleable__control:checked~div.sk-toggleable__content {max-height: 200px;max-width: 100%;overflow: auto;}#sk-container-id-3 input.sk-toggleable__control:checked~label.sk-toggleable__label-arrow:before {content: \"▾\";}#sk-container-id-3 div.sk-estimator input.sk-toggleable__control:checked~label.sk-toggleable__label {background-color: #d4ebff;}#sk-container-id-3 div.sk-label input.sk-toggleable__control:checked~label.sk-toggleable__label {background-color: #d4ebff;}#sk-container-id-3 input.sk-hidden--visually {border: 0;clip: rect(1px 1px 1px 1px);clip: rect(1px, 1px, 1px, 1px);height: 1px;margin: -1px;overflow: hidden;padding: 0;position: absolute;width: 1px;}#sk-container-id-3 div.sk-estimator {font-family: monospace;background-color: #f0f8ff;border: 1px dotted black;border-radius: 0.25em;box-sizing: border-box;margin-bottom: 0.5em;}#sk-container-id-3 div.sk-estimator:hover {background-color: #d4ebff;}#sk-container-id-3 div.sk-parallel-item::after {content: \"\";width: 100%;border-bottom: 1px solid gray;flex-grow: 1;}#sk-container-id-3 div.sk-label:hover label.sk-toggleable__label {background-color: #d4ebff;}#sk-container-id-3 div.sk-serial::before {content: \"\";position: absolute;border-left: 1px solid gray;box-sizing: border-box;top: 0;bottom: 0;left: 50%;z-index: 0;}#sk-container-id-3 div.sk-serial {display: flex;flex-direction: column;align-items: center;background-color: white;padding-right: 0.2em;padding-left: 0.2em;position: relative;}#sk-container-id-3 div.sk-item {position: relative;z-index: 1;}#sk-container-id-3 div.sk-parallel {display: flex;align-items: stretch;justify-content: center;background-color: white;position: relative;}#sk-container-id-3 div.sk-item::before, #sk-container-id-3 div.sk-parallel-item::before {content: \"\";position: absolute;border-left: 1px solid gray;box-sizing: border-box;top: 0;bottom: 0;left: 50%;z-index: -1;}#sk-container-id-3 div.sk-parallel-item {display: flex;flex-direction: column;z-index: 1;position: relative;background-color: white;}#sk-container-id-3 div.sk-parallel-item:first-child::after {align-self: flex-end;width: 50%;}#sk-container-id-3 div.sk-parallel-item:last-child::after {align-self: flex-start;width: 50%;}#sk-container-id-3 div.sk-parallel-item:only-child::after {width: 0;}#sk-container-id-3 div.sk-dashed-wrapped {border: 1px dashed gray;margin: 0 0.4em 0.5em 0.4em;box-sizing: border-box;padding-bottom: 0.4em;background-color: white;}#sk-container-id-3 div.sk-label label {font-family: monospace;font-weight: bold;display: inline-block;line-height: 1.2em;}#sk-container-id-3 div.sk-label-container {text-align: center;}#sk-container-id-3 div.sk-container {/* jupyter's `normalize.less` sets `[hidden] { display: none; }` but bootstrap.min.css set `[hidden] { display: none !important; }` so we also need the `!important` here to be able to override the default hidden behavior on the sphinx rendered scikit-learn.org. See: https://github.com/scikit-learn/scikit-learn/issues/21755 */display: inline-block !important;position: relative;}#sk-container-id-3 div.sk-text-repr-fallback {display: none;}</style><div id=\"sk-container-id-3\" class=\"sk-top-container\"><div class=\"sk-text-repr-fallback\"><pre>Pipeline(steps=[(&#x27;ct&#x27;,\n",
       "                 ColumnTransformer(remainder=&#x27;passthrough&#x27;,\n",
       "                                   transformers=[(&#x27;reviewText&#x27;,\n",
       "                                                  Pipeline(steps=[(&#x27;squeez&#x27;,\n",
       "                                                                   FunctionTransformer(func=&lt;function &lt;lambda&gt; at 0x79721e534310&gt;)),\n",
       "                                                                  (&#x27;tfidf&#x27;,\n",
       "                                                                   TfidfVectorizer(max_features=10000,\n",
       "                                                                                   stop_words=&#x27;english&#x27;)),\n",
       "                                                                  (&#x27;toarray&#x27;,\n",
       "                                                                   FunctionTransformer(func=&lt;function &lt;lambda&gt; at 0x79721e5345e0&gt;))]),\n",
       "                                                  [&#x27;reviewText&#x27;])])),\n",
       "                (&#x27;minmax&#x27;, MinMaxScaler()),\n",
       "                (&#x27;chi&#x27;,\n",
       "                 SelectKBest(k=&#x27;all&#x27;,\n",
       "                             score_func=&lt;function chi2 at 0x797224af7010&gt;)),\n",
       "                (&#x27;multinomial&#x27;, MultinomialNB(alpha=1.5))])</pre><b>In a Jupyter environment, please rerun this cell to show the HTML representation or trust the notebook. <br />On GitHub, the HTML representation is unable to render, please try loading this page with nbviewer.org.</b></div><div class=\"sk-container\" hidden><div class=\"sk-item sk-dashed-wrapped\"><div class=\"sk-label-container\"><div class=\"sk-label sk-toggleable\"><input class=\"sk-toggleable__control sk-hidden--visually\" id=\"sk-estimator-id-23\" type=\"checkbox\" ><label for=\"sk-estimator-id-23\" class=\"sk-toggleable__label sk-toggleable__label-arrow\">Pipeline</label><div class=\"sk-toggleable__content\"><pre>Pipeline(steps=[(&#x27;ct&#x27;,\n",
       "                 ColumnTransformer(remainder=&#x27;passthrough&#x27;,\n",
       "                                   transformers=[(&#x27;reviewText&#x27;,\n",
       "                                                  Pipeline(steps=[(&#x27;squeez&#x27;,\n",
       "                                                                   FunctionTransformer(func=&lt;function &lt;lambda&gt; at 0x79721e534310&gt;)),\n",
       "                                                                  (&#x27;tfidf&#x27;,\n",
       "                                                                   TfidfVectorizer(max_features=10000,\n",
       "                                                                                   stop_words=&#x27;english&#x27;)),\n",
       "                                                                  (&#x27;toarray&#x27;,\n",
       "                                                                   FunctionTransformer(func=&lt;function &lt;lambda&gt; at 0x79721e5345e0&gt;))]),\n",
       "                                                  [&#x27;reviewText&#x27;])])),\n",
       "                (&#x27;minmax&#x27;, MinMaxScaler()),\n",
       "                (&#x27;chi&#x27;,\n",
       "                 SelectKBest(k=&#x27;all&#x27;,\n",
       "                             score_func=&lt;function chi2 at 0x797224af7010&gt;)),\n",
       "                (&#x27;multinomial&#x27;, MultinomialNB(alpha=1.5))])</pre></div></div></div><div class=\"sk-serial\"><div class=\"sk-item sk-dashed-wrapped\"><div class=\"sk-label-container\"><div class=\"sk-label sk-toggleable\"><input class=\"sk-toggleable__control sk-hidden--visually\" id=\"sk-estimator-id-24\" type=\"checkbox\" ><label for=\"sk-estimator-id-24\" class=\"sk-toggleable__label sk-toggleable__label-arrow\">ct: ColumnTransformer</label><div class=\"sk-toggleable__content\"><pre>ColumnTransformer(remainder=&#x27;passthrough&#x27;,\n",
       "                  transformers=[(&#x27;reviewText&#x27;,\n",
       "                                 Pipeline(steps=[(&#x27;squeez&#x27;,\n",
       "                                                  FunctionTransformer(func=&lt;function &lt;lambda&gt; at 0x79721e534310&gt;)),\n",
       "                                                 (&#x27;tfidf&#x27;,\n",
       "                                                  TfidfVectorizer(max_features=10000,\n",
       "                                                                  stop_words=&#x27;english&#x27;)),\n",
       "                                                 (&#x27;toarray&#x27;,\n",
       "                                                  FunctionTransformer(func=&lt;function &lt;lambda&gt; at 0x79721e5345e0&gt;))]),\n",
       "                                 [&#x27;reviewText&#x27;])])</pre></div></div></div><div class=\"sk-parallel\"><div class=\"sk-parallel-item\"><div class=\"sk-item\"><div class=\"sk-label-container\"><div class=\"sk-label sk-toggleable\"><input class=\"sk-toggleable__control sk-hidden--visually\" id=\"sk-estimator-id-25\" type=\"checkbox\" ><label for=\"sk-estimator-id-25\" class=\"sk-toggleable__label sk-toggleable__label-arrow\">reviewText</label><div class=\"sk-toggleable__content\"><pre>[&#x27;reviewText&#x27;]</pre></div></div></div><div class=\"sk-serial\"><div class=\"sk-item\"><div class=\"sk-serial\"><div class=\"sk-item\"><div class=\"sk-estimator sk-toggleable\"><input class=\"sk-toggleable__control sk-hidden--visually\" id=\"sk-estimator-id-26\" type=\"checkbox\" ><label for=\"sk-estimator-id-26\" class=\"sk-toggleable__label sk-toggleable__label-arrow\">FunctionTransformer</label><div class=\"sk-toggleable__content\"><pre>FunctionTransformer(func=&lt;function &lt;lambda&gt; at 0x79721e534310&gt;)</pre></div></div></div><div class=\"sk-item\"><div class=\"sk-estimator sk-toggleable\"><input class=\"sk-toggleable__control sk-hidden--visually\" id=\"sk-estimator-id-27\" type=\"checkbox\" ><label for=\"sk-estimator-id-27\" class=\"sk-toggleable__label sk-toggleable__label-arrow\">TfidfVectorizer</label><div class=\"sk-toggleable__content\"><pre>TfidfVectorizer(max_features=10000, stop_words=&#x27;english&#x27;)</pre></div></div></div><div class=\"sk-item\"><div class=\"sk-estimator sk-toggleable\"><input class=\"sk-toggleable__control sk-hidden--visually\" id=\"sk-estimator-id-28\" type=\"checkbox\" ><label for=\"sk-estimator-id-28\" class=\"sk-toggleable__label sk-toggleable__label-arrow\">FunctionTransformer</label><div class=\"sk-toggleable__content\"><pre>FunctionTransformer(func=&lt;function &lt;lambda&gt; at 0x79721e5345e0&gt;)</pre></div></div></div></div></div></div></div></div><div class=\"sk-parallel-item\"><div class=\"sk-item\"><div class=\"sk-label-container\"><div class=\"sk-label sk-toggleable\"><input class=\"sk-toggleable__control sk-hidden--visually\" id=\"sk-estimator-id-29\" type=\"checkbox\" ><label for=\"sk-estimator-id-29\" class=\"sk-toggleable__label sk-toggleable__label-arrow\">remainder</label><div class=\"sk-toggleable__content\"><pre></pre></div></div></div><div class=\"sk-serial\"><div class=\"sk-item\"><div class=\"sk-estimator sk-toggleable\"><input class=\"sk-toggleable__control sk-hidden--visually\" id=\"sk-estimator-id-30\" type=\"checkbox\" ><label for=\"sk-estimator-id-30\" class=\"sk-toggleable__label sk-toggleable__label-arrow\">passthrough</label><div class=\"sk-toggleable__content\"><pre>passthrough</pre></div></div></div></div></div></div></div></div><div class=\"sk-item\"><div class=\"sk-estimator sk-toggleable\"><input class=\"sk-toggleable__control sk-hidden--visually\" id=\"sk-estimator-id-31\" type=\"checkbox\" ><label for=\"sk-estimator-id-31\" class=\"sk-toggleable__label sk-toggleable__label-arrow\">MinMaxScaler</label><div class=\"sk-toggleable__content\"><pre>MinMaxScaler()</pre></div></div></div><div class=\"sk-item\"><div class=\"sk-estimator sk-toggleable\"><input class=\"sk-toggleable__control sk-hidden--visually\" id=\"sk-estimator-id-32\" type=\"checkbox\" ><label for=\"sk-estimator-id-32\" class=\"sk-toggleable__label sk-toggleable__label-arrow\">SelectKBest</label><div class=\"sk-toggleable__content\"><pre>SelectKBest(k=&#x27;all&#x27;, score_func=&lt;function chi2 at 0x797224af7010&gt;)</pre></div></div></div><div class=\"sk-item\"><div class=\"sk-estimator sk-toggleable\"><input class=\"sk-toggleable__control sk-hidden--visually\" id=\"sk-estimator-id-33\" type=\"checkbox\" ><label for=\"sk-estimator-id-33\" class=\"sk-toggleable__label sk-toggleable__label-arrow\">MultinomialNB</label><div class=\"sk-toggleable__content\"><pre>MultinomialNB(alpha=1.5)</pre></div></div></div></div></div></div></div>"
      ],
      "text/plain": [
       "Pipeline(steps=[('ct',\n",
       "                 ColumnTransformer(remainder='passthrough',\n",
       "                                   transformers=[('reviewText',\n",
       "                                                  Pipeline(steps=[('squeez',\n",
       "                                                                   FunctionTransformer(func=<function <lambda> at 0x79721e534310>)),\n",
       "                                                                  ('tfidf',\n",
       "                                                                   TfidfVectorizer(max_features=10000,\n",
       "                                                                                   stop_words='english')),\n",
       "                                                                  ('toarray',\n",
       "                                                                   FunctionTransformer(func=<function <lambda> at 0x79721e5345e0>))]),\n",
       "                                                  ['reviewText'])])),\n",
       "                ('minmax', MinMaxScaler()),\n",
       "                ('chi',\n",
       "                 SelectKBest(k='all',\n",
       "                             score_func=<function chi2 at 0x797224af7010>)),\n",
       "                ('multinomial', MultinomialNB(alpha=1.5))])"
      ]
     },
     "execution_count": 10,
     "metadata": {},
     "output_type": "execute_result"
    }
   ],
   "source": [
    "TextProcessor = Pipeline(steps=[\n",
    "    (\"squeez\", FunctionTransformer(lambda x: x.squeeze())),\n",
    "    (\"tfidf\", TfidfVectorizer(max_features = 10000,stop_words ='english')),\n",
    "    (\"toarray\", FunctionTransformer(lambda x: x.toarray())),\n",
    "])\n",
    "\n",
    "\n",
    "ct = ColumnTransformer([\n",
    "    ('reviewText', TextProcessor, ['reviewText']),\n",
    "],\n",
    "    remainder='passthrough'\n",
    ")\n",
    "\n",
    "# best_alpha = grid_search.best_params_['multinomial__alpha'] # from HPT\n",
    "\n",
    "clf_multinomial_HPTuned = Pipeline(steps=[\n",
    "    ('ct',ct),\n",
    "    ('minmax', MinMaxScaler()),\n",
    "    ('chi', SelectKBest(chi2, k='all')),\n",
    "    ('multinomial', MultinomialNB(alpha=1.5))\n",
    "])\n",
    "clf_multinomial_HPTuned"
   ]
  },
  {
   "cell_type": "code",
   "execution_count": 11,
   "id": "e94cd11a",
   "metadata": {
    "execution": {
     "iopub.execute_input": "2023-08-08T06:30:20.285673Z",
     "iopub.status.busy": "2023-08-08T06:30:20.285300Z",
     "iopub.status.idle": "2023-08-08T06:30:20.289705Z",
     "shell.execute_reply": "2023-08-08T06:30:20.288527Z"
    },
    "papermill": {
     "duration": 0.028006,
     "end_time": "2023-08-08T06:30:20.292580",
     "exception": false,
     "start_time": "2023-08-08T06:30:20.264574",
     "status": "completed"
    },
    "tags": []
   },
   "outputs": [],
   "source": [
    "# clf_multinomial_HPTuned.fit(X_train, y_train)"
   ]
  },
  {
   "cell_type": "code",
   "execution_count": 12,
   "id": "d2e073e6",
   "metadata": {
    "execution": {
     "iopub.execute_input": "2023-08-08T06:30:20.334318Z",
     "iopub.status.busy": "2023-08-08T06:30:20.333936Z",
     "iopub.status.idle": "2023-08-08T06:30:20.338675Z",
     "shell.execute_reply": "2023-08-08T06:30:20.337332Z"
    },
    "papermill": {
     "duration": 0.028705,
     "end_time": "2023-08-08T06:30:20.341108",
     "exception": false,
     "start_time": "2023-08-08T06:30:20.312403",
     "status": "completed"
    },
    "tags": []
   },
   "outputs": [],
   "source": [
    "# print(clf_multinomial_HPTuned.score(X_train, y_train))"
   ]
  },
  {
   "cell_type": "code",
   "execution_count": 13,
   "id": "4a97abd3",
   "metadata": {
    "execution": {
     "iopub.execute_input": "2023-08-08T06:30:20.380908Z",
     "iopub.status.busy": "2023-08-08T06:30:20.380346Z",
     "iopub.status.idle": "2023-08-08T06:30:20.462495Z",
     "shell.execute_reply": "2023-08-08T06:30:20.461085Z"
    },
    "papermill": {
     "duration": 0.104694,
     "end_time": "2023-08-08T06:30:20.464699",
     "exception": false,
     "start_time": "2023-08-08T06:30:20.360005",
     "status": "completed"
    },
    "tags": []
   },
   "outputs": [
    {
     "data": {
      "text/html": [
       "<style>#sk-container-id-4 {color: black;background-color: white;}#sk-container-id-4 pre{padding: 0;}#sk-container-id-4 div.sk-toggleable {background-color: white;}#sk-container-id-4 label.sk-toggleable__label {cursor: pointer;display: block;width: 100%;margin-bottom: 0;padding: 0.3em;box-sizing: border-box;text-align: center;}#sk-container-id-4 label.sk-toggleable__label-arrow:before {content: \"▸\";float: left;margin-right: 0.25em;color: #696969;}#sk-container-id-4 label.sk-toggleable__label-arrow:hover:before {color: black;}#sk-container-id-4 div.sk-estimator:hover label.sk-toggleable__label-arrow:before {color: black;}#sk-container-id-4 div.sk-toggleable__content {max-height: 0;max-width: 0;overflow: hidden;text-align: left;background-color: #f0f8ff;}#sk-container-id-4 div.sk-toggleable__content pre {margin: 0.2em;color: black;border-radius: 0.25em;background-color: #f0f8ff;}#sk-container-id-4 input.sk-toggleable__control:checked~div.sk-toggleable__content {max-height: 200px;max-width: 100%;overflow: auto;}#sk-container-id-4 input.sk-toggleable__control:checked~label.sk-toggleable__label-arrow:before {content: \"▾\";}#sk-container-id-4 div.sk-estimator input.sk-toggleable__control:checked~label.sk-toggleable__label {background-color: #d4ebff;}#sk-container-id-4 div.sk-label input.sk-toggleable__control:checked~label.sk-toggleable__label {background-color: #d4ebff;}#sk-container-id-4 input.sk-hidden--visually {border: 0;clip: rect(1px 1px 1px 1px);clip: rect(1px, 1px, 1px, 1px);height: 1px;margin: -1px;overflow: hidden;padding: 0;position: absolute;width: 1px;}#sk-container-id-4 div.sk-estimator {font-family: monospace;background-color: #f0f8ff;border: 1px dotted black;border-radius: 0.25em;box-sizing: border-box;margin-bottom: 0.5em;}#sk-container-id-4 div.sk-estimator:hover {background-color: #d4ebff;}#sk-container-id-4 div.sk-parallel-item::after {content: \"\";width: 100%;border-bottom: 1px solid gray;flex-grow: 1;}#sk-container-id-4 div.sk-label:hover label.sk-toggleable__label {background-color: #d4ebff;}#sk-container-id-4 div.sk-serial::before {content: \"\";position: absolute;border-left: 1px solid gray;box-sizing: border-box;top: 0;bottom: 0;left: 50%;z-index: 0;}#sk-container-id-4 div.sk-serial {display: flex;flex-direction: column;align-items: center;background-color: white;padding-right: 0.2em;padding-left: 0.2em;position: relative;}#sk-container-id-4 div.sk-item {position: relative;z-index: 1;}#sk-container-id-4 div.sk-parallel {display: flex;align-items: stretch;justify-content: center;background-color: white;position: relative;}#sk-container-id-4 div.sk-item::before, #sk-container-id-4 div.sk-parallel-item::before {content: \"\";position: absolute;border-left: 1px solid gray;box-sizing: border-box;top: 0;bottom: 0;left: 50%;z-index: -1;}#sk-container-id-4 div.sk-parallel-item {display: flex;flex-direction: column;z-index: 1;position: relative;background-color: white;}#sk-container-id-4 div.sk-parallel-item:first-child::after {align-self: flex-end;width: 50%;}#sk-container-id-4 div.sk-parallel-item:last-child::after {align-self: flex-start;width: 50%;}#sk-container-id-4 div.sk-parallel-item:only-child::after {width: 0;}#sk-container-id-4 div.sk-dashed-wrapped {border: 1px dashed gray;margin: 0 0.4em 0.5em 0.4em;box-sizing: border-box;padding-bottom: 0.4em;background-color: white;}#sk-container-id-4 div.sk-label label {font-family: monospace;font-weight: bold;display: inline-block;line-height: 1.2em;}#sk-container-id-4 div.sk-label-container {text-align: center;}#sk-container-id-4 div.sk-container {/* jupyter's `normalize.less` sets `[hidden] { display: none; }` but bootstrap.min.css set `[hidden] { display: none !important; }` so we also need the `!important` here to be able to override the default hidden behavior on the sphinx rendered scikit-learn.org. See: https://github.com/scikit-learn/scikit-learn/issues/21755 */display: inline-block !important;position: relative;}#sk-container-id-4 div.sk-text-repr-fallback {display: none;}</style><div id=\"sk-container-id-4\" class=\"sk-top-container\"><div class=\"sk-text-repr-fallback\"><pre>Pipeline(steps=[(&#x27;ct&#x27;,\n",
       "                 ColumnTransformer(remainder=&#x27;passthrough&#x27;,\n",
       "                                   transformers=[(&#x27;reviewText&#x27;,\n",
       "                                                  Pipeline(steps=[(&#x27;squeez&#x27;,\n",
       "                                                                   FunctionTransformer(func=&lt;function &lt;lambda&gt; at 0x7972244afb50&gt;)),\n",
       "                                                                  (&#x27;tfidf&#x27;,\n",
       "                                                                   TfidfVectorizer(max_features=5000,\n",
       "                                                                                   stop_words=&#x27;english&#x27;)),\n",
       "                                                                  (&#x27;toarray&#x27;,\n",
       "                                                                   FunctionTransformer(func=&lt;function &lt;lambda&gt; at 0x79721e534550&gt;))]),\n",
       "                                                  [&#x27;reviewText&#x27;])])),\n",
       "                (&#x27;minmax&#x27;, MinMaxScaler()),\n",
       "                (&#x27;chi&#x27;,\n",
       "                 SelectKBest(k=5000,\n",
       "                             score_func=&lt;function chi2 at 0x797224af7010&gt;)),\n",
       "                (&#x27;multinomial&#x27;, RandomForestClassifier())])</pre><b>In a Jupyter environment, please rerun this cell to show the HTML representation or trust the notebook. <br />On GitHub, the HTML representation is unable to render, please try loading this page with nbviewer.org.</b></div><div class=\"sk-container\" hidden><div class=\"sk-item sk-dashed-wrapped\"><div class=\"sk-label-container\"><div class=\"sk-label sk-toggleable\"><input class=\"sk-toggleable__control sk-hidden--visually\" id=\"sk-estimator-id-34\" type=\"checkbox\" ><label for=\"sk-estimator-id-34\" class=\"sk-toggleable__label sk-toggleable__label-arrow\">Pipeline</label><div class=\"sk-toggleable__content\"><pre>Pipeline(steps=[(&#x27;ct&#x27;,\n",
       "                 ColumnTransformer(remainder=&#x27;passthrough&#x27;,\n",
       "                                   transformers=[(&#x27;reviewText&#x27;,\n",
       "                                                  Pipeline(steps=[(&#x27;squeez&#x27;,\n",
       "                                                                   FunctionTransformer(func=&lt;function &lt;lambda&gt; at 0x7972244afb50&gt;)),\n",
       "                                                                  (&#x27;tfidf&#x27;,\n",
       "                                                                   TfidfVectorizer(max_features=5000,\n",
       "                                                                                   stop_words=&#x27;english&#x27;)),\n",
       "                                                                  (&#x27;toarray&#x27;,\n",
       "                                                                   FunctionTransformer(func=&lt;function &lt;lambda&gt; at 0x79721e534550&gt;))]),\n",
       "                                                  [&#x27;reviewText&#x27;])])),\n",
       "                (&#x27;minmax&#x27;, MinMaxScaler()),\n",
       "                (&#x27;chi&#x27;,\n",
       "                 SelectKBest(k=5000,\n",
       "                             score_func=&lt;function chi2 at 0x797224af7010&gt;)),\n",
       "                (&#x27;multinomial&#x27;, RandomForestClassifier())])</pre></div></div></div><div class=\"sk-serial\"><div class=\"sk-item sk-dashed-wrapped\"><div class=\"sk-label-container\"><div class=\"sk-label sk-toggleable\"><input class=\"sk-toggleable__control sk-hidden--visually\" id=\"sk-estimator-id-35\" type=\"checkbox\" ><label for=\"sk-estimator-id-35\" class=\"sk-toggleable__label sk-toggleable__label-arrow\">ct: ColumnTransformer</label><div class=\"sk-toggleable__content\"><pre>ColumnTransformer(remainder=&#x27;passthrough&#x27;,\n",
       "                  transformers=[(&#x27;reviewText&#x27;,\n",
       "                                 Pipeline(steps=[(&#x27;squeez&#x27;,\n",
       "                                                  FunctionTransformer(func=&lt;function &lt;lambda&gt; at 0x7972244afb50&gt;)),\n",
       "                                                 (&#x27;tfidf&#x27;,\n",
       "                                                  TfidfVectorizer(max_features=5000,\n",
       "                                                                  stop_words=&#x27;english&#x27;)),\n",
       "                                                 (&#x27;toarray&#x27;,\n",
       "                                                  FunctionTransformer(func=&lt;function &lt;lambda&gt; at 0x79721e534550&gt;))]),\n",
       "                                 [&#x27;reviewText&#x27;])])</pre></div></div></div><div class=\"sk-parallel\"><div class=\"sk-parallel-item\"><div class=\"sk-item\"><div class=\"sk-label-container\"><div class=\"sk-label sk-toggleable\"><input class=\"sk-toggleable__control sk-hidden--visually\" id=\"sk-estimator-id-36\" type=\"checkbox\" ><label for=\"sk-estimator-id-36\" class=\"sk-toggleable__label sk-toggleable__label-arrow\">reviewText</label><div class=\"sk-toggleable__content\"><pre>[&#x27;reviewText&#x27;]</pre></div></div></div><div class=\"sk-serial\"><div class=\"sk-item\"><div class=\"sk-serial\"><div class=\"sk-item\"><div class=\"sk-estimator sk-toggleable\"><input class=\"sk-toggleable__control sk-hidden--visually\" id=\"sk-estimator-id-37\" type=\"checkbox\" ><label for=\"sk-estimator-id-37\" class=\"sk-toggleable__label sk-toggleable__label-arrow\">FunctionTransformer</label><div class=\"sk-toggleable__content\"><pre>FunctionTransformer(func=&lt;function &lt;lambda&gt; at 0x7972244afb50&gt;)</pre></div></div></div><div class=\"sk-item\"><div class=\"sk-estimator sk-toggleable\"><input class=\"sk-toggleable__control sk-hidden--visually\" id=\"sk-estimator-id-38\" type=\"checkbox\" ><label for=\"sk-estimator-id-38\" class=\"sk-toggleable__label sk-toggleable__label-arrow\">TfidfVectorizer</label><div class=\"sk-toggleable__content\"><pre>TfidfVectorizer(max_features=5000, stop_words=&#x27;english&#x27;)</pre></div></div></div><div class=\"sk-item\"><div class=\"sk-estimator sk-toggleable\"><input class=\"sk-toggleable__control sk-hidden--visually\" id=\"sk-estimator-id-39\" type=\"checkbox\" ><label for=\"sk-estimator-id-39\" class=\"sk-toggleable__label sk-toggleable__label-arrow\">FunctionTransformer</label><div class=\"sk-toggleable__content\"><pre>FunctionTransformer(func=&lt;function &lt;lambda&gt; at 0x79721e534550&gt;)</pre></div></div></div></div></div></div></div></div><div class=\"sk-parallel-item\"><div class=\"sk-item\"><div class=\"sk-label-container\"><div class=\"sk-label sk-toggleable\"><input class=\"sk-toggleable__control sk-hidden--visually\" id=\"sk-estimator-id-40\" type=\"checkbox\" ><label for=\"sk-estimator-id-40\" class=\"sk-toggleable__label sk-toggleable__label-arrow\">remainder</label><div class=\"sk-toggleable__content\"><pre></pre></div></div></div><div class=\"sk-serial\"><div class=\"sk-item\"><div class=\"sk-estimator sk-toggleable\"><input class=\"sk-toggleable__control sk-hidden--visually\" id=\"sk-estimator-id-41\" type=\"checkbox\" ><label for=\"sk-estimator-id-41\" class=\"sk-toggleable__label sk-toggleable__label-arrow\">passthrough</label><div class=\"sk-toggleable__content\"><pre>passthrough</pre></div></div></div></div></div></div></div></div><div class=\"sk-item\"><div class=\"sk-estimator sk-toggleable\"><input class=\"sk-toggleable__control sk-hidden--visually\" id=\"sk-estimator-id-42\" type=\"checkbox\" ><label for=\"sk-estimator-id-42\" class=\"sk-toggleable__label sk-toggleable__label-arrow\">MinMaxScaler</label><div class=\"sk-toggleable__content\"><pre>MinMaxScaler()</pre></div></div></div><div class=\"sk-item\"><div class=\"sk-estimator sk-toggleable\"><input class=\"sk-toggleable__control sk-hidden--visually\" id=\"sk-estimator-id-43\" type=\"checkbox\" ><label for=\"sk-estimator-id-43\" class=\"sk-toggleable__label sk-toggleable__label-arrow\">SelectKBest</label><div class=\"sk-toggleable__content\"><pre>SelectKBest(k=5000, score_func=&lt;function chi2 at 0x797224af7010&gt;)</pre></div></div></div><div class=\"sk-item\"><div class=\"sk-estimator sk-toggleable\"><input class=\"sk-toggleable__control sk-hidden--visually\" id=\"sk-estimator-id-44\" type=\"checkbox\" ><label for=\"sk-estimator-id-44\" class=\"sk-toggleable__label sk-toggleable__label-arrow\">RandomForestClassifier</label><div class=\"sk-toggleable__content\"><pre>RandomForestClassifier()</pre></div></div></div></div></div></div></div>"
      ],
      "text/plain": [
       "Pipeline(steps=[('ct',\n",
       "                 ColumnTransformer(remainder='passthrough',\n",
       "                                   transformers=[('reviewText',\n",
       "                                                  Pipeline(steps=[('squeez',\n",
       "                                                                   FunctionTransformer(func=<function <lambda> at 0x7972244afb50>)),\n",
       "                                                                  ('tfidf',\n",
       "                                                                   TfidfVectorizer(max_features=5000,\n",
       "                                                                                   stop_words='english')),\n",
       "                                                                  ('toarray',\n",
       "                                                                   FunctionTransformer(func=<function <lambda> at 0x79721e534550>))]),\n",
       "                                                  ['reviewText'])])),\n",
       "                ('minmax', MinMaxScaler()),\n",
       "                ('chi',\n",
       "                 SelectKBest(k=5000,\n",
       "                             score_func=<function chi2 at 0x797224af7010>)),\n",
       "                ('multinomial', RandomForestClassifier())])"
      ]
     },
     "execution_count": 13,
     "metadata": {},
     "output_type": "execute_result"
    }
   ],
   "source": [
    "TextProcessor = Pipeline(steps=[\n",
    "    (\"squeez\", FunctionTransformer(lambda x: x.squeeze())),\n",
    "    (\"tfidf\", TfidfVectorizer(max_features = 5000,stop_words ='english')),\n",
    "    (\"toarray\", FunctionTransformer(lambda x: x.toarray())),\n",
    "])\n",
    "\n",
    "\n",
    "ct = ColumnTransformer([\n",
    "    ('reviewText', TextProcessor, ['reviewText']),\n",
    "],\n",
    "    remainder='passthrough'\n",
    ")\n",
    "\n",
    "clf_RandomForestClassifier = Pipeline(steps=[\n",
    "    ('ct',ct),\n",
    "    ('minmax', MinMaxScaler()),\n",
    "    ('chi', SelectKBest(chi2, k=5000)),\n",
    "    ('multinomial', RandomForestClassifier())\n",
    "])\n",
    "clf_RandomForestClassifier"
   ]
  },
  {
   "cell_type": "code",
   "execution_count": 14,
   "id": "b2c79545",
   "metadata": {
    "execution": {
     "iopub.execute_input": "2023-08-08T06:30:20.505122Z",
     "iopub.status.busy": "2023-08-08T06:30:20.504753Z",
     "iopub.status.idle": "2023-08-08T06:30:20.509817Z",
     "shell.execute_reply": "2023-08-08T06:30:20.508099Z"
    },
    "papermill": {
     "duration": 0.028755,
     "end_time": "2023-08-08T06:30:20.512637",
     "exception": false,
     "start_time": "2023-08-08T06:30:20.483882",
     "status": "completed"
    },
    "tags": []
   },
   "outputs": [],
   "source": [
    "# clf_RandomForestClassifier.fit(X_train,y_train)"
   ]
  },
  {
   "cell_type": "code",
   "execution_count": 15,
   "id": "c1152f72",
   "metadata": {
    "execution": {
     "iopub.execute_input": "2023-08-08T06:30:20.553920Z",
     "iopub.status.busy": "2023-08-08T06:30:20.553574Z",
     "iopub.status.idle": "2023-08-08T06:30:20.558846Z",
     "shell.execute_reply": "2023-08-08T06:30:20.556922Z"
    },
    "papermill": {
     "duration": 0.029495,
     "end_time": "2023-08-08T06:30:20.561298",
     "exception": false,
     "start_time": "2023-08-08T06:30:20.531803",
     "status": "completed"
    },
    "tags": []
   },
   "outputs": [],
   "source": [
    "# print(clf_RandomForestClassifier.score(X_train, y_train))"
   ]
  },
  {
   "cell_type": "code",
   "execution_count": 16,
   "id": "1634a3f3",
   "metadata": {
    "execution": {
     "iopub.execute_input": "2023-08-08T06:30:20.603512Z",
     "iopub.status.busy": "2023-08-08T06:30:20.603150Z",
     "iopub.status.idle": "2023-08-08T06:30:20.686838Z",
     "shell.execute_reply": "2023-08-08T06:30:20.685805Z"
    },
    "papermill": {
     "duration": 0.107808,
     "end_time": "2023-08-08T06:30:20.689453",
     "exception": false,
     "start_time": "2023-08-08T06:30:20.581645",
     "status": "completed"
    },
    "tags": []
   },
   "outputs": [
    {
     "data": {
      "text/html": [
       "<style>#sk-container-id-5 {color: black;background-color: white;}#sk-container-id-5 pre{padding: 0;}#sk-container-id-5 div.sk-toggleable {background-color: white;}#sk-container-id-5 label.sk-toggleable__label {cursor: pointer;display: block;width: 100%;margin-bottom: 0;padding: 0.3em;box-sizing: border-box;text-align: center;}#sk-container-id-5 label.sk-toggleable__label-arrow:before {content: \"▸\";float: left;margin-right: 0.25em;color: #696969;}#sk-container-id-5 label.sk-toggleable__label-arrow:hover:before {color: black;}#sk-container-id-5 div.sk-estimator:hover label.sk-toggleable__label-arrow:before {color: black;}#sk-container-id-5 div.sk-toggleable__content {max-height: 0;max-width: 0;overflow: hidden;text-align: left;background-color: #f0f8ff;}#sk-container-id-5 div.sk-toggleable__content pre {margin: 0.2em;color: black;border-radius: 0.25em;background-color: #f0f8ff;}#sk-container-id-5 input.sk-toggleable__control:checked~div.sk-toggleable__content {max-height: 200px;max-width: 100%;overflow: auto;}#sk-container-id-5 input.sk-toggleable__control:checked~label.sk-toggleable__label-arrow:before {content: \"▾\";}#sk-container-id-5 div.sk-estimator input.sk-toggleable__control:checked~label.sk-toggleable__label {background-color: #d4ebff;}#sk-container-id-5 div.sk-label input.sk-toggleable__control:checked~label.sk-toggleable__label {background-color: #d4ebff;}#sk-container-id-5 input.sk-hidden--visually {border: 0;clip: rect(1px 1px 1px 1px);clip: rect(1px, 1px, 1px, 1px);height: 1px;margin: -1px;overflow: hidden;padding: 0;position: absolute;width: 1px;}#sk-container-id-5 div.sk-estimator {font-family: monospace;background-color: #f0f8ff;border: 1px dotted black;border-radius: 0.25em;box-sizing: border-box;margin-bottom: 0.5em;}#sk-container-id-5 div.sk-estimator:hover {background-color: #d4ebff;}#sk-container-id-5 div.sk-parallel-item::after {content: \"\";width: 100%;border-bottom: 1px solid gray;flex-grow: 1;}#sk-container-id-5 div.sk-label:hover label.sk-toggleable__label {background-color: #d4ebff;}#sk-container-id-5 div.sk-serial::before {content: \"\";position: absolute;border-left: 1px solid gray;box-sizing: border-box;top: 0;bottom: 0;left: 50%;z-index: 0;}#sk-container-id-5 div.sk-serial {display: flex;flex-direction: column;align-items: center;background-color: white;padding-right: 0.2em;padding-left: 0.2em;position: relative;}#sk-container-id-5 div.sk-item {position: relative;z-index: 1;}#sk-container-id-5 div.sk-parallel {display: flex;align-items: stretch;justify-content: center;background-color: white;position: relative;}#sk-container-id-5 div.sk-item::before, #sk-container-id-5 div.sk-parallel-item::before {content: \"\";position: absolute;border-left: 1px solid gray;box-sizing: border-box;top: 0;bottom: 0;left: 50%;z-index: -1;}#sk-container-id-5 div.sk-parallel-item {display: flex;flex-direction: column;z-index: 1;position: relative;background-color: white;}#sk-container-id-5 div.sk-parallel-item:first-child::after {align-self: flex-end;width: 50%;}#sk-container-id-5 div.sk-parallel-item:last-child::after {align-self: flex-start;width: 50%;}#sk-container-id-5 div.sk-parallel-item:only-child::after {width: 0;}#sk-container-id-5 div.sk-dashed-wrapped {border: 1px dashed gray;margin: 0 0.4em 0.5em 0.4em;box-sizing: border-box;padding-bottom: 0.4em;background-color: white;}#sk-container-id-5 div.sk-label label {font-family: monospace;font-weight: bold;display: inline-block;line-height: 1.2em;}#sk-container-id-5 div.sk-label-container {text-align: center;}#sk-container-id-5 div.sk-container {/* jupyter's `normalize.less` sets `[hidden] { display: none; }` but bootstrap.min.css set `[hidden] { display: none !important; }` so we also need the `!important` here to be able to override the default hidden behavior on the sphinx rendered scikit-learn.org. See: https://github.com/scikit-learn/scikit-learn/issues/21755 */display: inline-block !important;position: relative;}#sk-container-id-5 div.sk-text-repr-fallback {display: none;}</style><div id=\"sk-container-id-5\" class=\"sk-top-container\"><div class=\"sk-text-repr-fallback\"><pre>Pipeline(steps=[(&#x27;ct&#x27;,\n",
       "                 ColumnTransformer(remainder=&#x27;passthrough&#x27;,\n",
       "                                   transformers=[(&#x27;reviewText&#x27;,\n",
       "                                                  Pipeline(steps=[(&#x27;squeez&#x27;,\n",
       "                                                                   FunctionTransformer(func=&lt;function &lt;lambda&gt; at 0x79721e5344c0&gt;)),\n",
       "                                                                  (&#x27;tfidf&#x27;,\n",
       "                                                                   TfidfVectorizer(stop_words=&#x27;english&#x27;)),\n",
       "                                                                  (&#x27;toarray&#x27;,\n",
       "                                                                   FunctionTransformer(func=&lt;function &lt;lambda&gt; at 0x79721e534700&gt;))]),\n",
       "                                                  [&#x27;reviewText&#x27;])])),\n",
       "                (&#x27;minmax&#x27;, MinMaxScaler()),\n",
       "                (&#x27;chi&#x27;,\n",
       "                 SelectKBest(k=5000,\n",
       "                             score_func=&lt;function chi2 at 0x797224af7010&gt;)),\n",
       "                (&#x27;multinomial&#x27;,\n",
       "                 DecisionTreeClassifier(max_depth=5, random_state=42))])</pre><b>In a Jupyter environment, please rerun this cell to show the HTML representation or trust the notebook. <br />On GitHub, the HTML representation is unable to render, please try loading this page with nbviewer.org.</b></div><div class=\"sk-container\" hidden><div class=\"sk-item sk-dashed-wrapped\"><div class=\"sk-label-container\"><div class=\"sk-label sk-toggleable\"><input class=\"sk-toggleable__control sk-hidden--visually\" id=\"sk-estimator-id-45\" type=\"checkbox\" ><label for=\"sk-estimator-id-45\" class=\"sk-toggleable__label sk-toggleable__label-arrow\">Pipeline</label><div class=\"sk-toggleable__content\"><pre>Pipeline(steps=[(&#x27;ct&#x27;,\n",
       "                 ColumnTransformer(remainder=&#x27;passthrough&#x27;,\n",
       "                                   transformers=[(&#x27;reviewText&#x27;,\n",
       "                                                  Pipeline(steps=[(&#x27;squeez&#x27;,\n",
       "                                                                   FunctionTransformer(func=&lt;function &lt;lambda&gt; at 0x79721e5344c0&gt;)),\n",
       "                                                                  (&#x27;tfidf&#x27;,\n",
       "                                                                   TfidfVectorizer(stop_words=&#x27;english&#x27;)),\n",
       "                                                                  (&#x27;toarray&#x27;,\n",
       "                                                                   FunctionTransformer(func=&lt;function &lt;lambda&gt; at 0x79721e534700&gt;))]),\n",
       "                                                  [&#x27;reviewText&#x27;])])),\n",
       "                (&#x27;minmax&#x27;, MinMaxScaler()),\n",
       "                (&#x27;chi&#x27;,\n",
       "                 SelectKBest(k=5000,\n",
       "                             score_func=&lt;function chi2 at 0x797224af7010&gt;)),\n",
       "                (&#x27;multinomial&#x27;,\n",
       "                 DecisionTreeClassifier(max_depth=5, random_state=42))])</pre></div></div></div><div class=\"sk-serial\"><div class=\"sk-item sk-dashed-wrapped\"><div class=\"sk-label-container\"><div class=\"sk-label sk-toggleable\"><input class=\"sk-toggleable__control sk-hidden--visually\" id=\"sk-estimator-id-46\" type=\"checkbox\" ><label for=\"sk-estimator-id-46\" class=\"sk-toggleable__label sk-toggleable__label-arrow\">ct: ColumnTransformer</label><div class=\"sk-toggleable__content\"><pre>ColumnTransformer(remainder=&#x27;passthrough&#x27;,\n",
       "                  transformers=[(&#x27;reviewText&#x27;,\n",
       "                                 Pipeline(steps=[(&#x27;squeez&#x27;,\n",
       "                                                  FunctionTransformer(func=&lt;function &lt;lambda&gt; at 0x79721e5344c0&gt;)),\n",
       "                                                 (&#x27;tfidf&#x27;,\n",
       "                                                  TfidfVectorizer(stop_words=&#x27;english&#x27;)),\n",
       "                                                 (&#x27;toarray&#x27;,\n",
       "                                                  FunctionTransformer(func=&lt;function &lt;lambda&gt; at 0x79721e534700&gt;))]),\n",
       "                                 [&#x27;reviewText&#x27;])])</pre></div></div></div><div class=\"sk-parallel\"><div class=\"sk-parallel-item\"><div class=\"sk-item\"><div class=\"sk-label-container\"><div class=\"sk-label sk-toggleable\"><input class=\"sk-toggleable__control sk-hidden--visually\" id=\"sk-estimator-id-47\" type=\"checkbox\" ><label for=\"sk-estimator-id-47\" class=\"sk-toggleable__label sk-toggleable__label-arrow\">reviewText</label><div class=\"sk-toggleable__content\"><pre>[&#x27;reviewText&#x27;]</pre></div></div></div><div class=\"sk-serial\"><div class=\"sk-item\"><div class=\"sk-serial\"><div class=\"sk-item\"><div class=\"sk-estimator sk-toggleable\"><input class=\"sk-toggleable__control sk-hidden--visually\" id=\"sk-estimator-id-48\" type=\"checkbox\" ><label for=\"sk-estimator-id-48\" class=\"sk-toggleable__label sk-toggleable__label-arrow\">FunctionTransformer</label><div class=\"sk-toggleable__content\"><pre>FunctionTransformer(func=&lt;function &lt;lambda&gt; at 0x79721e5344c0&gt;)</pre></div></div></div><div class=\"sk-item\"><div class=\"sk-estimator sk-toggleable\"><input class=\"sk-toggleable__control sk-hidden--visually\" id=\"sk-estimator-id-49\" type=\"checkbox\" ><label for=\"sk-estimator-id-49\" class=\"sk-toggleable__label sk-toggleable__label-arrow\">TfidfVectorizer</label><div class=\"sk-toggleable__content\"><pre>TfidfVectorizer(stop_words=&#x27;english&#x27;)</pre></div></div></div><div class=\"sk-item\"><div class=\"sk-estimator sk-toggleable\"><input class=\"sk-toggleable__control sk-hidden--visually\" id=\"sk-estimator-id-50\" type=\"checkbox\" ><label for=\"sk-estimator-id-50\" class=\"sk-toggleable__label sk-toggleable__label-arrow\">FunctionTransformer</label><div class=\"sk-toggleable__content\"><pre>FunctionTransformer(func=&lt;function &lt;lambda&gt; at 0x79721e534700&gt;)</pre></div></div></div></div></div></div></div></div><div class=\"sk-parallel-item\"><div class=\"sk-item\"><div class=\"sk-label-container\"><div class=\"sk-label sk-toggleable\"><input class=\"sk-toggleable__control sk-hidden--visually\" id=\"sk-estimator-id-51\" type=\"checkbox\" ><label for=\"sk-estimator-id-51\" class=\"sk-toggleable__label sk-toggleable__label-arrow\">remainder</label><div class=\"sk-toggleable__content\"><pre></pre></div></div></div><div class=\"sk-serial\"><div class=\"sk-item\"><div class=\"sk-estimator sk-toggleable\"><input class=\"sk-toggleable__control sk-hidden--visually\" id=\"sk-estimator-id-52\" type=\"checkbox\" ><label for=\"sk-estimator-id-52\" class=\"sk-toggleable__label sk-toggleable__label-arrow\">passthrough</label><div class=\"sk-toggleable__content\"><pre>passthrough</pre></div></div></div></div></div></div></div></div><div class=\"sk-item\"><div class=\"sk-estimator sk-toggleable\"><input class=\"sk-toggleable__control sk-hidden--visually\" id=\"sk-estimator-id-53\" type=\"checkbox\" ><label for=\"sk-estimator-id-53\" class=\"sk-toggleable__label sk-toggleable__label-arrow\">MinMaxScaler</label><div class=\"sk-toggleable__content\"><pre>MinMaxScaler()</pre></div></div></div><div class=\"sk-item\"><div class=\"sk-estimator sk-toggleable\"><input class=\"sk-toggleable__control sk-hidden--visually\" id=\"sk-estimator-id-54\" type=\"checkbox\" ><label for=\"sk-estimator-id-54\" class=\"sk-toggleable__label sk-toggleable__label-arrow\">SelectKBest</label><div class=\"sk-toggleable__content\"><pre>SelectKBest(k=5000, score_func=&lt;function chi2 at 0x797224af7010&gt;)</pre></div></div></div><div class=\"sk-item\"><div class=\"sk-estimator sk-toggleable\"><input class=\"sk-toggleable__control sk-hidden--visually\" id=\"sk-estimator-id-55\" type=\"checkbox\" ><label for=\"sk-estimator-id-55\" class=\"sk-toggleable__label sk-toggleable__label-arrow\">DecisionTreeClassifier</label><div class=\"sk-toggleable__content\"><pre>DecisionTreeClassifier(max_depth=5, random_state=42)</pre></div></div></div></div></div></div></div>"
      ],
      "text/plain": [
       "Pipeline(steps=[('ct',\n",
       "                 ColumnTransformer(remainder='passthrough',\n",
       "                                   transformers=[('reviewText',\n",
       "                                                  Pipeline(steps=[('squeez',\n",
       "                                                                   FunctionTransformer(func=<function <lambda> at 0x79721e5344c0>)),\n",
       "                                                                  ('tfidf',\n",
       "                                                                   TfidfVectorizer(stop_words='english')),\n",
       "                                                                  ('toarray',\n",
       "                                                                   FunctionTransformer(func=<function <lambda> at 0x79721e534700>))]),\n",
       "                                                  ['reviewText'])])),\n",
       "                ('minmax', MinMaxScaler()),\n",
       "                ('chi',\n",
       "                 SelectKBest(k=5000,\n",
       "                             score_func=<function chi2 at 0x797224af7010>)),\n",
       "                ('multinomial',\n",
       "                 DecisionTreeClassifier(max_depth=5, random_state=42))])"
      ]
     },
     "execution_count": 16,
     "metadata": {},
     "output_type": "execute_result"
    }
   ],
   "source": [
    "TextProcessor = Pipeline(steps=[\n",
    "    (\"squeez\", FunctionTransformer(lambda x: x.squeeze())),\n",
    "    (\"tfidf\", TfidfVectorizer(stop_words ='english')),\n",
    "    (\"toarray\", FunctionTransformer(lambda x: x.toarray())),\n",
    "])\n",
    "\n",
    "\n",
    "ct = ColumnTransformer([\n",
    "    ('reviewText', TextProcessor, ['reviewText']),\n",
    "],\n",
    "    remainder='passthrough'\n",
    ")\n",
    "\n",
    "clf_DecisionTreeClassifier = Pipeline(steps=[\n",
    "    ('ct',ct),\n",
    "    ('minmax', MinMaxScaler()),\n",
    "    ('chi', SelectKBest(chi2, k=5000)),\n",
    "    ('multinomial', DecisionTreeClassifier(\n",
    "                                            max_depth=5,\n",
    "                                            min_samples_split=2,\n",
    "                                            min_samples_leaf=1,\n",
    "                                            min_impurity_decrease=0.0,\n",
    "                                            ccp_alpha=0.0,\n",
    "                                            random_state=42\n",
    "                                            ))\n",
    "])\n",
    "clf_DecisionTreeClassifier"
   ]
  },
  {
   "cell_type": "code",
   "execution_count": 17,
   "id": "27b9e62a",
   "metadata": {
    "execution": {
     "iopub.execute_input": "2023-08-08T06:30:20.730606Z",
     "iopub.status.busy": "2023-08-08T06:30:20.730208Z",
     "iopub.status.idle": "2023-08-08T06:30:20.735533Z",
     "shell.execute_reply": "2023-08-08T06:30:20.734531Z"
    },
    "papermill": {
     "duration": 0.02873,
     "end_time": "2023-08-08T06:30:20.737960",
     "exception": false,
     "start_time": "2023-08-08T06:30:20.709230",
     "status": "completed"
    },
    "tags": []
   },
   "outputs": [],
   "source": [
    "# clf_DecisionTreeClassifier.fit(X_train,y_train)"
   ]
  },
  {
   "cell_type": "code",
   "execution_count": 18,
   "id": "501c2eeb",
   "metadata": {
    "execution": {
     "iopub.execute_input": "2023-08-08T06:30:20.779579Z",
     "iopub.status.busy": "2023-08-08T06:30:20.779201Z",
     "iopub.status.idle": "2023-08-08T06:30:20.785409Z",
     "shell.execute_reply": "2023-08-08T06:30:20.783744Z"
    },
    "papermill": {
     "duration": 0.030026,
     "end_time": "2023-08-08T06:30:20.788171",
     "exception": false,
     "start_time": "2023-08-08T06:30:20.758145",
     "status": "completed"
    },
    "tags": []
   },
   "outputs": [],
   "source": [
    "# print(clf_DecisionTreeClassifier.score(X_train, y_train))"
   ]
  },
  {
   "cell_type": "markdown",
   "id": "f0cea7f6",
   "metadata": {
    "papermill": {
     "duration": 0.018751,
     "end_time": "2023-08-08T06:30:20.826288",
     "exception": false,
     "start_time": "2023-08-08T06:30:20.807537",
     "status": "completed"
    },
    "tags": []
   },
   "source": [
    "# 1. MERGING train and movies DATASETS, MANIPULATION & CLEANING\n",
    "### 1.1 converting date to month and day of week for \"releaseDateTheaters\" and \"releaseDateStreaming\" columns\n"
   ]
  },
  {
   "cell_type": "markdown",
   "id": "30a5414e",
   "metadata": {
    "papermill": {
     "duration": 0.019848,
     "end_time": "2023-08-08T06:30:20.867661",
     "exception": false,
     "start_time": "2023-08-08T06:30:20.847813",
     "status": "completed"
    },
    "tags": []
   },
   "source": [
    "### 1.2 REMOVING FEATUREs\n",
    "##### movieid                  : superkey\n",
    "##### title                    : additional-key\n",
    "##### ratingContent            : expansion of rating column\n",
    "##### releaseDateTheaters      : taken out usefull information - relaseDateTheater_month, .._dayofweek\n",
    "##### releaseDateStreaming     : taken out usefull information - relaseDateStreaming_month, .._dayofweek\n",
    "##### releaseDateTheaters_pd   : was created for finding month and dayof week\n",
    "##### releaseDateStreaming_pd   : was created for finding month and dayof week\n",
    "##### reviewerName              : ---\n",
    "##### boxOffice                 : has 90% is null\n",
    "##### rating                    : has 90% is null\n",
    "##### director                  : ---\n",
    "##### distributor               : has 84% is null\n",
    "##### soundType                 : has 89% is null"
   ]
  },
  {
   "cell_type": "code",
   "execution_count": 19,
   "id": "44feb584",
   "metadata": {
    "execution": {
     "iopub.execute_input": "2023-08-08T06:30:20.908844Z",
     "iopub.status.busy": "2023-08-08T06:30:20.908506Z",
     "iopub.status.idle": "2023-08-08T06:30:20.915675Z",
     "shell.execute_reply": "2023-08-08T06:30:20.914524Z"
    },
    "papermill": {
     "duration": 0.029901,
     "end_time": "2023-08-08T06:30:20.917454",
     "exception": false,
     "start_time": "2023-08-08T06:30:20.887553",
     "status": "completed"
    },
    "tags": []
   },
   "outputs": [],
   "source": [
    "def prepare_the_data(data):\n",
    "    movies = pd.read_csv('/kaggle/input/sentiment-prediction-on-movie-reviews/movies.csv')\n",
    "    movies = movies.drop_duplicates()\n",
    "    movies = movies.drop_duplicates(subset=['movieid'])\n",
    "    \n",
    "    train_merged = data.merge(movies, on='movieid', how='left')\n",
    "    \n",
    "    train_merged['releaseDateTheaters_pd'] = pd.to_datetime(train_merged.releaseDateTheaters)\n",
    "    train_merged['releaseDateTheaters_month'] = train_merged['releaseDateTheaters_pd'].dt.month\n",
    "    train_merged['releaseDateTheaters_dayofweek'] = train_merged['releaseDateTheaters_pd'].dt.dayofweek\n",
    "\n",
    "    train_merged['releaseDateStreaming_pd'] = pd.to_datetime(train_merged.releaseDateTheaters)\n",
    "    train_merged['releaseDateStreaming_month'] = train_merged['releaseDateStreaming_pd'].dt.month\n",
    "    train_merged['releaseDateStreaming_dayofweek'] = train_merged['releaseDateStreaming_pd'].dt.dayofweek\n",
    "    \n",
    "    train_merged = train_merged.drop(['movieid','title','ratingContents','releaseDateTheaters', 'releaseDateStreaming',\n",
    "                                 'releaseDateTheaters_pd','releaseDateStreaming_pd','reviewerName','boxOffice', 'rating', 'director',\n",
    "                                 'distributor','soundType'], axis=1)\n",
    "    \n",
    "    return train_merged"
   ]
  },
  {
   "cell_type": "code",
   "execution_count": 20,
   "id": "fae9f234",
   "metadata": {
    "execution": {
     "iopub.execute_input": "2023-08-08T06:30:20.958633Z",
     "iopub.status.busy": "2023-08-08T06:30:20.958273Z",
     "iopub.status.idle": "2023-08-08T06:30:22.290747Z",
     "shell.execute_reply": "2023-08-08T06:30:22.289024Z"
    },
    "papermill": {
     "duration": 1.356524,
     "end_time": "2023-08-08T06:30:22.293189",
     "exception": false,
     "start_time": "2023-08-08T06:30:20.936665",
     "status": "completed"
    },
    "tags": []
   },
   "outputs": [],
   "source": [
    "train_merged = prepare_the_data(train)"
   ]
  },
  {
   "cell_type": "code",
   "execution_count": 21,
   "id": "10ec913b",
   "metadata": {
    "execution": {
     "iopub.execute_input": "2023-08-08T06:30:22.334745Z",
     "iopub.status.busy": "2023-08-08T06:30:22.334367Z",
     "iopub.status.idle": "2023-08-08T06:30:22.382343Z",
     "shell.execute_reply": "2023-08-08T06:30:22.380483Z"
    },
    "papermill": {
     "duration": 0.071299,
     "end_time": "2023-08-08T06:30:22.384775",
     "exception": false,
     "start_time": "2023-08-08T06:30:22.313476",
     "status": "completed"
    },
    "tags": []
   },
   "outputs": [
    {
     "name": "stdout",
     "output_type": "stream",
     "text": [
      "(162758, 10)\n",
      "(162758,)\n"
     ]
    }
   ],
   "source": [
    "y = LabelEncoder().fit_transform(train_merged.sentiment)\n",
    "X = train_merged.drop(['sentiment'], axis=1)\n",
    "print(X.shape)\n",
    "print(y.shape)"
   ]
  },
  {
   "cell_type": "code",
   "execution_count": 22,
   "id": "1c817cca",
   "metadata": {
    "execution": {
     "iopub.execute_input": "2023-08-08T06:30:22.427100Z",
     "iopub.status.busy": "2023-08-08T06:30:22.425749Z",
     "iopub.status.idle": "2023-08-08T06:30:22.487735Z",
     "shell.execute_reply": "2023-08-08T06:30:22.486655Z"
    },
    "papermill": {
     "duration": 0.085923,
     "end_time": "2023-08-08T06:30:22.490621",
     "exception": false,
     "start_time": "2023-08-08T06:30:22.404698",
     "status": "completed"
    },
    "tags": []
   },
   "outputs": [],
   "source": [
    "from sklearn.model_selection import train_test_split\n",
    "X_train, X_validate, y_train, y_validate = train_test_split(X, y, test_size=0.33, random_state=42)"
   ]
  },
  {
   "cell_type": "markdown",
   "id": "377052e7",
   "metadata": {
    "papermill": {
     "duration": 0.019291,
     "end_time": "2023-08-08T06:30:22.529629",
     "exception": false,
     "start_time": "2023-08-08T06:30:22.510338",
     "status": "completed"
    },
    "tags": []
   },
   "source": [
    "# 3. PREPROCESSING"
   ]
  },
  {
   "cell_type": "code",
   "execution_count": 23,
   "id": "25207018",
   "metadata": {
    "execution": {
     "iopub.execute_input": "2023-08-08T06:30:22.570805Z",
     "iopub.status.busy": "2023-08-08T06:30:22.570434Z",
     "iopub.status.idle": "2023-08-08T06:30:22.577515Z",
     "shell.execute_reply": "2023-08-08T06:30:22.576210Z"
    },
    "papermill": {
     "duration": 0.030229,
     "end_time": "2023-08-08T06:30:22.579477",
     "exception": false,
     "start_time": "2023-08-08T06:30:22.549248",
     "status": "completed"
    },
    "tags": []
   },
   "outputs": [],
   "source": [
    "# def column_transformer(X_train):\n",
    "#     ##isFrequentReviewer\n",
    "#     # simple imputer - most_frequent on \"isFrequentReviewer\"\n",
    "#     X_train['isFrequentReviewer'] = X_train['isFrequentReviewer'].astype(str)\n",
    "#     si_isFrequentReviewer = SimpleImputer(strategy='most_frequent', missing_values='nan').fit(X_train['isFrequentReviewer'].array.reshape(-1,1))\n",
    "#     X_train.isFrequentReviewer = si_isFrequentReviewer.transform(X_train['isFrequentReviewer'].array.reshape(-1,1))\n",
    "#     # label encoder - on \"isFrequentReviewer\"\n",
    "#     le_isFrequentReviewer = LabelEncoder().fit(X_train.isFrequentReviewer)\n",
    "#     X_train.isFrequentReviewer = le_isFrequentReviewer.transform(X_train.isFrequentReviewer)\n",
    "    \n",
    "#     ##audienceScore\n",
    "#     # simple imputer - mean on \"audienceScore\"\n",
    "#     si_audienceScore = SimpleImputer(strategy='mean').fit(X_train['audienceScore'].array.reshape(-1,1))\n",
    "#     X_train.audienceScore = si_audienceScore.transform(X_train['audienceScore'].array.reshape(-1,1))\n",
    "    \n",
    "#     ##runtimeMinutes\n",
    "#     # simple imputer - mean on \"runtimeMinutes\"\n",
    "#     si_runtimeMinutes = SimpleImputer(strategy='mean').fit(X_train['runtimeMinutes'].array.reshape(-1,1))\n",
    "#     X_train.runtimeMinutes = si_runtimeMinutes.transform(X_train['runtimeMinutes'].array.reshape(-1,1))\n",
    "    \n",
    "#     ##genre\n",
    "#     # simple imputer - most_frequent on \"genre\"\n",
    "#     si_genre = SimpleImputer(strategy='most_frequent').fit(X_train['genre'].array.reshape(-1,1))\n",
    "#     X_train.genre = si_genre.transform(X_train['genre'].array.reshape(-1,1))\n",
    "    \n",
    "#     ##originalLanguage\n",
    "#     # simple imputer - most_frequent on \"originalLanguage\"\n",
    "#     si_originalLanguage = SimpleImputer(strategy='most_frequent').fit(X_train['originalLanguage'].array.reshape(-1,1))\n",
    "#     X_train.originalLanguage = si_originalLanguage.transform(X_train['originalLanguage'].array.reshape(-1,1))\n",
    "    \n",
    "#     ##releaseDateTheaters_month\n",
    "#     # simple imputer - most_frequent on \"releaseDateTheaters_month\"\n",
    "#     si_releaseDateTheaters_month = SimpleImputer(strategy='most_frequent').fit(X_train['releaseDateTheaters_month'].array.reshape(-1,1))\n",
    "#     X_train.releaseDateTheaters_month = si_releaseDateTheaters_month.transform(X_train['releaseDateTheaters_month'].array.reshape(-1,1))\n",
    "    \n",
    "#     ##releaseDateTheaters_dayofweek\n",
    "#     # simple imputer - most_frequent on \"releaseDateTheaters_dayofweek\"\n",
    "#     si_releaseDateTheaters_dayofweek = SimpleImputer(strategy='most_frequent').fit(X_train['releaseDateTheaters_dayofweek'].array.reshape(-1,1))\n",
    "#     X_train.releaseDateTheaters_dayofweek = si_releaseDateTheaters_dayofweek.transform(X_train['releaseDateTheaters_dayofweek'].array.reshape(-1,1))\n",
    "    \n",
    "#     ##releaseDateStreaming_month\n",
    "#     # simple imputer - most_frequent on \"releaseDateStreaming_month\"\n",
    "#     si_releaseDateStreaming_month = SimpleImputer(strategy='most_frequent').fit(X_train['releaseDateStreaming_month'].array.reshape(-1,1))\n",
    "#     X_train.releaseDateStreaming_month = si_releaseDateStreaming_month.transform(X_train['releaseDateStreaming_month'].array.reshape(-1,1))\n",
    "    \n",
    "#     ##releaseDateStreaming_dayofweek\n",
    "#     # simple imputer - most_frequent on \"releaseDateStreaming_dayofweek\"\n",
    "#     si_releaseDateStreaming_dayofweek = SimpleImputer(strategy='most_frequent').fit(X_train['releaseDateStreaming_dayofweek'].array.reshape(-1,1))\n",
    "#     X_train.releaseDateStreaming_dayofweek = si_releaseDateStreaming_dayofweek.transform(X_train['releaseDateStreaming_dayofweek'].array.reshape(-1,1))\n",
    "    \n",
    "#     X_train.fillna('', inplace=True)\n",
    "#     X_train['reviewText_genre_originalLanguage'] = X_train['reviewText'].astype(str) + \" \" + X_train['genre'].astype(str) + \" \" + X_train['originalLanguage'].astype(str)\n",
    "#     X_train = X_train.drop(['reviewText','genre','originalLanguage'], axis=1)\n",
    "#     return X_train\n",
    "\n",
    "# X_train = column_transformer(X_train)\n",
    "# X_validate = column_transformer(X_validate)\n",
    "# # X_train.head()"
   ]
  },
  {
   "cell_type": "code",
   "execution_count": 24,
   "id": "d6a1e5a9",
   "metadata": {
    "execution": {
     "iopub.execute_input": "2023-08-08T06:30:22.619640Z",
     "iopub.status.busy": "2023-08-08T06:30:22.619295Z",
     "iopub.status.idle": "2023-08-08T06:30:22.954630Z",
     "shell.execute_reply": "2023-08-08T06:30:22.953435Z"
    },
    "papermill": {
     "duration": 0.358375,
     "end_time": "2023-08-08T06:30:22.956993",
     "exception": false,
     "start_time": "2023-08-08T06:30:22.598618",
     "status": "completed"
    },
    "tags": []
   },
   "outputs": [],
   "source": [
    "##isFrequentReviewer\n",
    "# simple imputer - most_frequent on \"isFrequentReviewer\"\n",
    "X_train['isFrequentReviewer'] = X_train['isFrequentReviewer'].astype(str)\n",
    "si_isFrequentReviewer = SimpleImputer(strategy='most_frequent', missing_values='nan').fit(X_train['isFrequentReviewer'].array.reshape(-1,1))\n",
    "X_train.isFrequentReviewer = si_isFrequentReviewer.transform(X_train['isFrequentReviewer'].array.reshape(-1,1))\n",
    "# label encoder - on \"isFrequentReviewer\"\n",
    "le_isFrequentReviewer = LabelEncoder().fit(X_train.isFrequentReviewer)\n",
    "X_train.isFrequentReviewer = le_isFrequentReviewer.transform(X_train.isFrequentReviewer)\n",
    "\n",
    "##audienceScore\n",
    "# simple imputer - mean on \"audienceScore\"\n",
    "si_audienceScore = SimpleImputer(strategy='mean').fit(X_train['audienceScore'].array.reshape(-1,1))\n",
    "X_train.audienceScore = si_audienceScore.transform(X_train['audienceScore'].array.reshape(-1,1))\n",
    "\n",
    "##runtimeMinutes\n",
    "# simple imputer - mean on \"runtimeMinutes\"\n",
    "si_runtimeMinutes = SimpleImputer(strategy='mean').fit(X_train['runtimeMinutes'].array.reshape(-1,1))\n",
    "X_train.runtimeMinutes = si_runtimeMinutes.transform(X_train['runtimeMinutes'].array.reshape(-1,1))\n",
    "\n",
    "##genre\n",
    "# simple imputer - most_frequent on \"genre\"\n",
    "si_genre = SimpleImputer(strategy='most_frequent').fit(X_train['genre'].array.reshape(-1,1))\n",
    "X_train.genre = si_genre.transform(X_train['genre'].array.reshape(-1,1))\n",
    "\n",
    "##originalLanguage\n",
    "# simple imputer - most_frequent on \"originalLanguage\"\n",
    "si_originalLanguage = SimpleImputer(strategy='most_frequent').fit(X_train['originalLanguage'].array.reshape(-1,1))\n",
    "X_train.originalLanguage = si_originalLanguage.transform(X_train['originalLanguage'].array.reshape(-1,1))\n",
    "\n",
    "##releaseDateTheaters_month\n",
    "# simple imputer - most_frequent on \"releaseDateTheaters_month\"\n",
    "si_releaseDateTheaters_month = SimpleImputer(strategy='most_frequent').fit(X_train['releaseDateTheaters_month'].array.reshape(-1,1))\n",
    "X_train.releaseDateTheaters_month = si_releaseDateTheaters_month.transform(X_train['releaseDateTheaters_month'].array.reshape(-1,1))\n",
    "\n",
    "##releaseDateTheaters_dayofweek\n",
    "# simple imputer - most_frequent on \"releaseDateTheaters_dayofweek\"\n",
    "si_releaseDateTheaters_dayofweek = SimpleImputer(strategy='most_frequent').fit(X_train['releaseDateTheaters_dayofweek'].array.reshape(-1,1))\n",
    "X_train.releaseDateTheaters_dayofweek = si_releaseDateTheaters_dayofweek.transform(X_train['releaseDateTheaters_dayofweek'].array.reshape(-1,1))\n",
    "\n",
    "##releaseDateStreaming_month\n",
    "# simple imputer - most_frequent on \"releaseDateStreaming_month\"\n",
    "si_releaseDateStreaming_month = SimpleImputer(strategy='most_frequent').fit(X_train['releaseDateStreaming_month'].array.reshape(-1,1))\n",
    "X_train.releaseDateStreaming_month = si_releaseDateStreaming_month.transform(X_train['releaseDateStreaming_month'].array.reshape(-1,1))\n",
    "\n",
    "##releaseDateStreaming_dayofweek\n",
    "# simple imputer - most_frequent on \"releaseDateStreaming_dayofweek\"\n",
    "si_releaseDateStreaming_dayofweek = SimpleImputer(strategy='most_frequent').fit(X_train['releaseDateStreaming_dayofweek'].array.reshape(-1,1))\n",
    "X_train.releaseDateStreaming_dayofweek = si_releaseDateStreaming_dayofweek.transform(X_train['releaseDateStreaming_dayofweek'].array.reshape(-1,1))\n",
    "\n",
    "X_train.fillna('', inplace=True)\n",
    "X_train['reviewText_genre_originalLanguage'] = X_train['reviewText'].astype(str) + \" \" + X_train['genre'].astype(str) + \" \" + X_train['originalLanguage'].astype(str)\n",
    "X_train = X_train.drop(['reviewText','genre','originalLanguage'], axis=1)"
   ]
  },
  {
   "cell_type": "code",
   "execution_count": 25,
   "id": "98a163f3",
   "metadata": {
    "execution": {
     "iopub.execute_input": "2023-08-08T06:30:22.998765Z",
     "iopub.status.busy": "2023-08-08T06:30:22.998354Z",
     "iopub.status.idle": "2023-08-08T06:30:23.147072Z",
     "shell.execute_reply": "2023-08-08T06:30:23.146333Z"
    },
    "papermill": {
     "duration": 0.17261,
     "end_time": "2023-08-08T06:30:23.149649",
     "exception": false,
     "start_time": "2023-08-08T06:30:22.977039",
     "status": "completed"
    },
    "tags": []
   },
   "outputs": [],
   "source": [
    "##isFrequentReviewer\n",
    "# simple imputer - most_frequent on \"isFrequentReviewer\"\n",
    "X_validate['isFrequentReviewer'] = X_validate['isFrequentReviewer'].astype(str)\n",
    "### si_isFrequentReviewer = SimpleImputer(strategy='most_frequent', missing_values='nan').fit(X_train['isFrequentReviewer'].array.reshape(-1,1))\n",
    "X_validate.isFrequentReviewer = si_isFrequentReviewer.transform(X_validate['isFrequentReviewer'].array.reshape(-1,1))\n",
    "# label encoder - on \"isFrequentReviewer\"\n",
    "### le_isFrequentReviewer = LabelEncoder().fit(X_validate.isFrequentReviewer)\n",
    "X_validate.isFrequentReviewer = le_isFrequentReviewer.transform(X_validate.isFrequentReviewer)\n",
    "\n",
    "##audienceScore\n",
    "# simple imputer - mean on \"audienceScore\"\n",
    "### si_audienceScore = SimpleImputer(strategy='mean').fit(X_validate['audienceScore'].array.reshape(-1,1))\n",
    "X_validate.audienceScore = si_audienceScore.transform(X_validate['audienceScore'].array.reshape(-1,1))\n",
    "\n",
    "##runtimeMinutes\n",
    "# simple imputer - mean on \"runtimeMinutes\"\n",
    "### si_runtimeMinutes = SimpleImputer(strategy='mean').fit(X_validate['runtimeMinutes'].array.reshape(-1,1))\n",
    "X_validate.runtimeMinutes = si_runtimeMinutes.transform(X_validate['runtimeMinutes'].array.reshape(-1,1))\n",
    "\n",
    "##genre\n",
    "# simple imputer - most_frequent on \"genre\"\n",
    "### si_genre = SimpleImputer(strategy='most_frequent').fit(X_validate['genre'].array.reshape(-1,1))\n",
    "X_validate.genre = si_genre.transform(X_validate['genre'].array.reshape(-1,1))\n",
    "\n",
    "##originalLanguage\n",
    "# simple imputer - most_frequent on \"originalLanguage\"\n",
    "### si_originalLanguage = SimpleImputer(strategy='most_frequent').fit(X_validate['originalLanguage'].array.reshape(-1,1))\n",
    "X_validate.originalLanguage = si_originalLanguage.transform(X_validate['originalLanguage'].array.reshape(-1,1))\n",
    "\n",
    "##releaseDateTheaters_month\n",
    "# simple imputer - most_frequent on \"releaseDateTheaters_month\"\n",
    "### si_releaseDateTheaters_month = SimpleImputer(strategy='most_frequent').fit(X_validate['releaseDateTheaters_month'].array.reshape(-1,1))\n",
    "X_validate.releaseDateTheaters_month = si_releaseDateTheaters_month.transform(X_validate['releaseDateTheaters_month'].array.reshape(-1,1))\n",
    "\n",
    "##releaseDateTheaters_dayofweek\n",
    "# simple imputer - most_frequent on \"releaseDateTheaters_dayofweek\"\n",
    "### si_releaseDateTheaters_dayofweek = SimpleImputer(strategy='most_frequent').fit(X_validate['releaseDateTheaters_dayofweek'].array.reshape(-1,1))\n",
    "X_validate.releaseDateTheaters_dayofweek = si_releaseDateTheaters_dayofweek.transform(X_validate['releaseDateTheaters_dayofweek'].array.reshape(-1,1))\n",
    "\n",
    "##releaseDateStreaming_month\n",
    "# simple imputer - most_frequent on \"releaseDateStreaming_month\"\n",
    "### si_releaseDateStreaming_month = SimpleImputer(strategy='most_frequent').fit(X_validate['releaseDateStreaming_month'].array.reshape(-1,1))\n",
    "X_validate.releaseDateStreaming_month = si_releaseDateStreaming_month.transform(X_validate['releaseDateStreaming_month'].array.reshape(-1,1))\n",
    "\n",
    "##releaseDateStreaming_dayofweek\n",
    "# simple imputer - most_frequent on \"releaseDateStreaming_dayofweek\"\n",
    "### si_releaseDateStreaming_dayofweek = SimpleImputer(strategy='most_frequent').fit(X_validate['releaseDateStreaming_dayofweek'].array.reshape(-1,1))\n",
    "X_validate.releaseDateStreaming_dayofweek = si_releaseDateStreaming_dayofweek.transform(X_validate['releaseDateStreaming_dayofweek'].array.reshape(-1,1))\n",
    "\n",
    "X_validate.fillna('', inplace=True)\n",
    "X_validate['reviewText_genre_originalLanguage'] = X_validate['reviewText'].astype(str) + \" \" + X_validate['genre'].astype(str) + \" \" + X_validate['originalLanguage'].astype(str)\n",
    "X_validate = X_validate.drop(['reviewText','genre','originalLanguage'], axis=1)"
   ]
  },
  {
   "cell_type": "code",
   "execution_count": 26,
   "id": "3926c787",
   "metadata": {
    "execution": {
     "iopub.execute_input": "2023-08-08T06:30:23.193436Z",
     "iopub.status.busy": "2023-08-08T06:30:23.191916Z",
     "iopub.status.idle": "2023-08-08T06:30:23.224946Z",
     "shell.execute_reply": "2023-08-08T06:30:23.223502Z"
    },
    "papermill": {
     "duration": 0.057108,
     "end_time": "2023-08-08T06:30:23.227638",
     "exception": false,
     "start_time": "2023-08-08T06:30:23.170530",
     "status": "completed"
    },
    "tags": []
   },
   "outputs": [],
   "source": [
    "a = pd.DataFrame(X_train)\n",
    "b = pd.DataFrame(y_train)\n",
    "joined_df = pd.concat([a, b], axis=1)"
   ]
  },
  {
   "cell_type": "code",
   "execution_count": 27,
   "id": "f6d3f2a9",
   "metadata": {
    "execution": {
     "iopub.execute_input": "2023-08-08T06:30:23.269076Z",
     "iopub.status.busy": "2023-08-08T06:30:23.268695Z",
     "iopub.status.idle": "2023-08-08T06:30:24.052744Z",
     "shell.execute_reply": "2023-08-08T06:30:24.051891Z"
    },
    "papermill": {
     "duration": 0.806956,
     "end_time": "2023-08-08T06:30:24.054434",
     "exception": false,
     "start_time": "2023-08-08T06:30:23.247478",
     "status": "completed"
    },
    "tags": []
   },
   "outputs": [
    {
     "name": "stderr",
     "output_type": "stream",
     "text": [
      "/tmp/ipykernel_20/695129891.py:4: FutureWarning: The default value of numeric_only in DataFrame.corr is deprecated. In a future version, it will default to False. Select only valid columns or specify the value of numeric_only to silence this warning.\n",
      "  sns.heatmap(joined_df.corr(), annot=True, cmap='coolwarm')\n"
     ]
    },
    {
     "data": {
      "image/png": "[encoded data removed]",
      "text/plain": [
       "<Figure size 640x480 with 2 Axes>"
      ]
     },
     "metadata": {},
     "output_type": "display_data"
    }
   ],
   "source": [
    "import seaborn as sns\n",
    "import matplotlib.pyplot as plt\n",
    "\n",
    "sns.heatmap(joined_df.corr(), annot=True, cmap='coolwarm')\n",
    "plt.show()"
   ]
  },
  {
   "cell_type": "markdown",
   "id": "0e84f1b2",
   "metadata": {
    "papermill": {
     "duration": 0.020612,
     "end_time": "2023-08-08T06:30:24.096426",
     "exception": false,
     "start_time": "2023-08-08T06:30:24.075814",
     "status": "completed"
    },
    "tags": []
   },
   "source": [
    "# SGDClassifier"
   ]
  },
  {
   "cell_type": "code",
   "execution_count": 28,
   "id": "aa8b7c4a",
   "metadata": {
    "execution": {
     "iopub.execute_input": "2023-08-08T06:30:24.139100Z",
     "iopub.status.busy": "2023-08-08T06:30:24.138691Z",
     "iopub.status.idle": "2023-08-08T06:30:24.227958Z",
     "shell.execute_reply": "2023-08-08T06:30:24.226066Z"
    },
    "papermill": {
     "duration": 0.114225,
     "end_time": "2023-08-08T06:30:24.230907",
     "exception": false,
     "start_time": "2023-08-08T06:30:24.116682",
     "status": "completed"
    },
    "tags": []
   },
   "outputs": [
    {
     "data": {
      "text/html": [
       "<style>#sk-container-id-6 {color: black;background-color: white;}#sk-container-id-6 pre{padding: 0;}#sk-container-id-6 div.sk-toggleable {background-color: white;}#sk-container-id-6 label.sk-toggleable__label {cursor: pointer;display: block;width: 100%;margin-bottom: 0;padding: 0.3em;box-sizing: border-box;text-align: center;}#sk-container-id-6 label.sk-toggleable__label-arrow:before {content: \"▸\";float: left;margin-right: 0.25em;color: #696969;}#sk-container-id-6 label.sk-toggleable__label-arrow:hover:before {color: black;}#sk-container-id-6 div.sk-estimator:hover label.sk-toggleable__label-arrow:before {color: black;}#sk-container-id-6 div.sk-toggleable__content {max-height: 0;max-width: 0;overflow: hidden;text-align: left;background-color: #f0f8ff;}#sk-container-id-6 div.sk-toggleable__content pre {margin: 0.2em;color: black;border-radius: 0.25em;background-color: #f0f8ff;}#sk-container-id-6 input.sk-toggleable__control:checked~div.sk-toggleable__content {max-height: 200px;max-width: 100%;overflow: auto;}#sk-container-id-6 input.sk-toggleable__control:checked~label.sk-toggleable__label-arrow:before {content: \"▾\";}#sk-container-id-6 div.sk-estimator input.sk-toggleable__control:checked~label.sk-toggleable__label {background-color: #d4ebff;}#sk-container-id-6 div.sk-label input.sk-toggleable__control:checked~label.sk-toggleable__label {background-color: #d4ebff;}#sk-container-id-6 input.sk-hidden--visually {border: 0;clip: rect(1px 1px 1px 1px);clip: rect(1px, 1px, 1px, 1px);height: 1px;margin: -1px;overflow: hidden;padding: 0;position: absolute;width: 1px;}#sk-container-id-6 div.sk-estimator {font-family: monospace;background-color: #f0f8ff;border: 1px dotted black;border-radius: 0.25em;box-sizing: border-box;margin-bottom: 0.5em;}#sk-container-id-6 div.sk-estimator:hover {background-color: #d4ebff;}#sk-container-id-6 div.sk-parallel-item::after {content: \"\";width: 100%;border-bottom: 1px solid gray;flex-grow: 1;}#sk-container-id-6 div.sk-label:hover label.sk-toggleable__label {background-color: #d4ebff;}#sk-container-id-6 div.sk-serial::before {content: \"\";position: absolute;border-left: 1px solid gray;box-sizing: border-box;top: 0;bottom: 0;left: 50%;z-index: 0;}#sk-container-id-6 div.sk-serial {display: flex;flex-direction: column;align-items: center;background-color: white;padding-right: 0.2em;padding-left: 0.2em;position: relative;}#sk-container-id-6 div.sk-item {position: relative;z-index: 1;}#sk-container-id-6 div.sk-parallel {display: flex;align-items: stretch;justify-content: center;background-color: white;position: relative;}#sk-container-id-6 div.sk-item::before, #sk-container-id-6 div.sk-parallel-item::before {content: \"\";position: absolute;border-left: 1px solid gray;box-sizing: border-box;top: 0;bottom: 0;left: 50%;z-index: -1;}#sk-container-id-6 div.sk-parallel-item {display: flex;flex-direction: column;z-index: 1;position: relative;background-color: white;}#sk-container-id-6 div.sk-parallel-item:first-child::after {align-self: flex-end;width: 50%;}#sk-container-id-6 div.sk-parallel-item:last-child::after {align-self: flex-start;width: 50%;}#sk-container-id-6 div.sk-parallel-item:only-child::after {width: 0;}#sk-container-id-6 div.sk-dashed-wrapped {border: 1px dashed gray;margin: 0 0.4em 0.5em 0.4em;box-sizing: border-box;padding-bottom: 0.4em;background-color: white;}#sk-container-id-6 div.sk-label label {font-family: monospace;font-weight: bold;display: inline-block;line-height: 1.2em;}#sk-container-id-6 div.sk-label-container {text-align: center;}#sk-container-id-6 div.sk-container {/* jupyter's `normalize.less` sets `[hidden] { display: none; }` but bootstrap.min.css set `[hidden] { display: none !important; }` so we also need the `!important` here to be able to override the default hidden behavior on the sphinx rendered scikit-learn.org. See: https://github.com/scikit-learn/scikit-learn/issues/21755 */display: inline-block !important;position: relative;}#sk-container-id-6 div.sk-text-repr-fallback {display: none;}</style><div id=\"sk-container-id-6\" class=\"sk-top-container\"><div class=\"sk-text-repr-fallback\"><pre>Pipeline(steps=[(&#x27;ct&#x27;,\n",
       "                 ColumnTransformer(remainder=&#x27;passthrough&#x27;,\n",
       "                                   transformers=[(&#x27;reviewText_genre_originalLanguage&#x27;,\n",
       "                                                  Pipeline(steps=[(&#x27;squeez&#x27;,\n",
       "                                                                   FunctionTransformer(func=&lt;function &lt;lambda&gt; at 0x797221b905e0&gt;)),\n",
       "                                                                  (&#x27;tfidf&#x27;,\n",
       "                                                                   TfidfVectorizer(max_features=10000,\n",
       "                                                                                   stop_words=&#x27;english&#x27;)),\n",
       "                                                                  (&#x27;toarray&#x27;,\n",
       "                                                                   FunctionTransformer(func=&lt;function &lt;lambda&gt; at 0x797221b908b0&gt;))]),\n",
       "                                                  [&#x27;reviewText_genre_originalLanguage&#x27;])])),\n",
       "                (&#x27;minmax&#x27;, MinMaxScaler()),\n",
       "                (&#x27;chi&#x27;,\n",
       "                 SelectKBest(k=&#x27;all&#x27;,\n",
       "                             score_func=&lt;function chi2 at 0x797224af7010&gt;)),\n",
       "                (&#x27;multinomial&#x27;, SGDClassifier())])</pre><b>In a Jupyter environment, please rerun this cell to show the HTML representation or trust the notebook. <br />On GitHub, the HTML representation is unable to render, please try loading this page with nbviewer.org.</b></div><div class=\"sk-container\" hidden><div class=\"sk-item sk-dashed-wrapped\"><div class=\"sk-label-container\"><div class=\"sk-label sk-toggleable\"><input class=\"sk-toggleable__control sk-hidden--visually\" id=\"sk-estimator-id-56\" type=\"checkbox\" ><label for=\"sk-estimator-id-56\" class=\"sk-toggleable__label sk-toggleable__label-arrow\">Pipeline</label><div class=\"sk-toggleable__content\"><pre>Pipeline(steps=[(&#x27;ct&#x27;,\n",
       "                 ColumnTransformer(remainder=&#x27;passthrough&#x27;,\n",
       "                                   transformers=[(&#x27;reviewText_genre_originalLanguage&#x27;,\n",
       "                                                  Pipeline(steps=[(&#x27;squeez&#x27;,\n",
       "                                                                   FunctionTransformer(func=&lt;function &lt;lambda&gt; at 0x797221b905e0&gt;)),\n",
       "                                                                  (&#x27;tfidf&#x27;,\n",
       "                                                                   TfidfVectorizer(max_features=10000,\n",
       "                                                                                   stop_words=&#x27;english&#x27;)),\n",
       "                                                                  (&#x27;toarray&#x27;,\n",
       "                                                                   FunctionTransformer(func=&lt;function &lt;lambda&gt; at 0x797221b908b0&gt;))]),\n",
       "                                                  [&#x27;reviewText_genre_originalLanguage&#x27;])])),\n",
       "                (&#x27;minmax&#x27;, MinMaxScaler()),\n",
       "                (&#x27;chi&#x27;,\n",
       "                 SelectKBest(k=&#x27;all&#x27;,\n",
       "                             score_func=&lt;function chi2 at 0x797224af7010&gt;)),\n",
       "                (&#x27;multinomial&#x27;, SGDClassifier())])</pre></div></div></div><div class=\"sk-serial\"><div class=\"sk-item sk-dashed-wrapped\"><div class=\"sk-label-container\"><div class=\"sk-label sk-toggleable\"><input class=\"sk-toggleable__control sk-hidden--visually\" id=\"sk-estimator-id-57\" type=\"checkbox\" ><label for=\"sk-estimator-id-57\" class=\"sk-toggleable__label sk-toggleable__label-arrow\">ct: ColumnTransformer</label><div class=\"sk-toggleable__content\"><pre>ColumnTransformer(remainder=&#x27;passthrough&#x27;,\n",
       "                  transformers=[(&#x27;reviewText_genre_originalLanguage&#x27;,\n",
       "                                 Pipeline(steps=[(&#x27;squeez&#x27;,\n",
       "                                                  FunctionTransformer(func=&lt;function &lt;lambda&gt; at 0x797221b905e0&gt;)),\n",
       "                                                 (&#x27;tfidf&#x27;,\n",
       "                                                  TfidfVectorizer(max_features=10000,\n",
       "                                                                  stop_words=&#x27;english&#x27;)),\n",
       "                                                 (&#x27;toarray&#x27;,\n",
       "                                                  FunctionTransformer(func=&lt;function &lt;lambda&gt; at 0x797221b908b0&gt;))]),\n",
       "                                 [&#x27;reviewText_genre_originalLanguage&#x27;])])</pre></div></div></div><div class=\"sk-parallel\"><div class=\"sk-parallel-item\"><div class=\"sk-item\"><div class=\"sk-label-container\"><div class=\"sk-label sk-toggleable\"><input class=\"sk-toggleable__control sk-hidden--visually\" id=\"sk-estimator-id-58\" type=\"checkbox\" ><label for=\"sk-estimator-id-58\" class=\"sk-toggleable__label sk-toggleable__label-arrow\">reviewText_genre_originalLanguage</label><div class=\"sk-toggleable__content\"><pre>[&#x27;reviewText_genre_originalLanguage&#x27;]</pre></div></div></div><div class=\"sk-serial\"><div class=\"sk-item\"><div class=\"sk-serial\"><div class=\"sk-item\"><div class=\"sk-estimator sk-toggleable\"><input class=\"sk-toggleable__control sk-hidden--visually\" id=\"sk-estimator-id-59\" type=\"checkbox\" ><label for=\"sk-estimator-id-59\" class=\"sk-toggleable__label sk-toggleable__label-arrow\">FunctionTransformer</label><div class=\"sk-toggleable__content\"><pre>FunctionTransformer(func=&lt;function &lt;lambda&gt; at 0x797221b905e0&gt;)</pre></div></div></div><div class=\"sk-item\"><div class=\"sk-estimator sk-toggleable\"><input class=\"sk-toggleable__control sk-hidden--visually\" id=\"sk-estimator-id-60\" type=\"checkbox\" ><label for=\"sk-estimator-id-60\" class=\"sk-toggleable__label sk-toggleable__label-arrow\">TfidfVectorizer</label><div class=\"sk-toggleable__content\"><pre>TfidfVectorizer(max_features=10000, stop_words=&#x27;english&#x27;)</pre></div></div></div><div class=\"sk-item\"><div class=\"sk-estimator sk-toggleable\"><input class=\"sk-toggleable__control sk-hidden--visually\" id=\"sk-estimator-id-61\" type=\"checkbox\" ><label for=\"sk-estimator-id-61\" class=\"sk-toggleable__label sk-toggleable__label-arrow\">FunctionTransformer</label><div class=\"sk-toggleable__content\"><pre>FunctionTransformer(func=&lt;function &lt;lambda&gt; at 0x797221b908b0&gt;)</pre></div></div></div></div></div></div></div></div><div class=\"sk-parallel-item\"><div class=\"sk-item\"><div class=\"sk-label-container\"><div class=\"sk-label sk-toggleable\"><input class=\"sk-toggleable__control sk-hidden--visually\" id=\"sk-estimator-id-62\" type=\"checkbox\" ><label for=\"sk-estimator-id-62\" class=\"sk-toggleable__label sk-toggleable__label-arrow\">remainder</label><div class=\"sk-toggleable__content\"><pre></pre></div></div></div><div class=\"sk-serial\"><div class=\"sk-item\"><div class=\"sk-estimator sk-toggleable\"><input class=\"sk-toggleable__control sk-hidden--visually\" id=\"sk-estimator-id-63\" type=\"checkbox\" ><label for=\"sk-estimator-id-63\" class=\"sk-toggleable__label sk-toggleable__label-arrow\">passthrough</label><div class=\"sk-toggleable__content\"><pre>passthrough</pre></div></div></div></div></div></div></div></div><div class=\"sk-item\"><div class=\"sk-estimator sk-toggleable\"><input class=\"sk-toggleable__control sk-hidden--visually\" id=\"sk-estimator-id-64\" type=\"checkbox\" ><label for=\"sk-estimator-id-64\" class=\"sk-toggleable__label sk-toggleable__label-arrow\">MinMaxScaler</label><div class=\"sk-toggleable__content\"><pre>MinMaxScaler()</pre></div></div></div><div class=\"sk-item\"><div class=\"sk-estimator sk-toggleable\"><input class=\"sk-toggleable__control sk-hidden--visually\" id=\"sk-estimator-id-65\" type=\"checkbox\" ><label for=\"sk-estimator-id-65\" class=\"sk-toggleable__label sk-toggleable__label-arrow\">SelectKBest</label><div class=\"sk-toggleable__content\"><pre>SelectKBest(k=&#x27;all&#x27;, score_func=&lt;function chi2 at 0x797224af7010&gt;)</pre></div></div></div><div class=\"sk-item\"><div class=\"sk-estimator sk-toggleable\"><input class=\"sk-toggleable__control sk-hidden--visually\" id=\"sk-estimator-id-66\" type=\"checkbox\" ><label for=\"sk-estimator-id-66\" class=\"sk-toggleable__label sk-toggleable__label-arrow\">SGDClassifier</label><div class=\"sk-toggleable__content\"><pre>SGDClassifier()</pre></div></div></div></div></div></div></div>"
      ],
      "text/plain": [
       "Pipeline(steps=[('ct',\n",
       "                 ColumnTransformer(remainder='passthrough',\n",
       "                                   transformers=[('reviewText_genre_originalLanguage',\n",
       "                                                  Pipeline(steps=[('squeez',\n",
       "                                                                   FunctionTransformer(func=<function <lambda> at 0x797221b905e0>)),\n",
       "                                                                  ('tfidf',\n",
       "                                                                   TfidfVectorizer(max_features=10000,\n",
       "                                                                                   stop_words='english')),\n",
       "                                                                  ('toarray',\n",
       "                                                                   FunctionTransformer(func=<function <lambda> at 0x797221b908b0>))]),\n",
       "                                                  ['reviewText_genre_originalLanguage'])])),\n",
       "                ('minmax', MinMaxScaler()),\n",
       "                ('chi',\n",
       "                 SelectKBest(k='all',\n",
       "                             score_func=<function chi2 at 0x797224af7010>)),\n",
       "                ('multinomial', SGDClassifier())])"
      ]
     },
     "execution_count": 28,
     "metadata": {},
     "output_type": "execute_result"
    }
   ],
   "source": [
    "from sklearn.preprocessing import LabelEncoder\n",
    "from sklearn.pipeline import Pipeline, make_pipeline\n",
    "from sklearn.compose import ColumnTransformer\n",
    "from sklearn.feature_extraction.text import TfidfVectorizer\n",
    "from sklearn.linear_model import Perceptron, SGDClassifier\n",
    "from sklearn.naive_bayes import MultinomialNB\n",
    "from sklearn.preprocessing import OneHotEncoder\n",
    "from sklearn.preprocessing import FunctionTransformer\n",
    "from sklearn.impute import SimpleImputer\n",
    "from sklearn.feature_selection import SelectKBest, chi2\n",
    "from sklearn.tree import DecisionTreeClassifier\n",
    "from sklearn.ensemble import BaggingClassifier, RandomForestClassifier\n",
    "from sklearn.ensemble import AdaBoostClassifier, GradientBoostingClassifier\n",
    "from sklearn.model_selection import train_test_split, cross_validate, cross_val_score, ShuffleSplit\n",
    "from sklearn.preprocessing import MinMaxScaler\n",
    "\n",
    "\n",
    "TextProcessor = Pipeline(steps=[\n",
    "    (\"squeez\", FunctionTransformer(lambda x: x.squeeze())),\n",
    "    (\"tfidf\", TfidfVectorizer(max_features = 10000,stop_words ='english')),\n",
    "    (\"toarray\", FunctionTransformer(lambda x: x.toarray())),\n",
    "])\n",
    "\n",
    "\n",
    "ct = ColumnTransformer([\n",
    "    ('reviewText_genre_originalLanguage', TextProcessor, ['reviewText_genre_originalLanguage']),\n",
    "],\n",
    "    remainder='passthrough'\n",
    ")\n",
    "\n",
    "clf_sgdclassifier = Pipeline(steps=[\n",
    "    ('ct',ct),\n",
    "    ('minmax', MinMaxScaler()),\n",
    "    ('chi', SelectKBest(chi2, k='all')),\n",
    "    ('multinomial', SGDClassifier())\n",
    "])\n",
    "clf_sgdclassifier"
   ]
  },
  {
   "cell_type": "code",
   "execution_count": 29,
   "id": "5c065678",
   "metadata": {
    "execution": {
     "iopub.execute_input": "2023-08-08T06:30:24.274426Z",
     "iopub.status.busy": "2023-08-08T06:30:24.274023Z",
     "iopub.status.idle": "2023-08-08T06:30:24.278724Z",
     "shell.execute_reply": "2023-08-08T06:30:24.277380Z"
    },
    "papermill": {
     "duration": 0.029188,
     "end_time": "2023-08-08T06:30:24.280999",
     "exception": false,
     "start_time": "2023-08-08T06:30:24.251811",
     "status": "completed"
    },
    "tags": []
   },
   "outputs": [],
   "source": [
    "# clf_sgdclassifier.fit(X_train,y_train)"
   ]
  },
  {
   "cell_type": "code",
   "execution_count": 30,
   "id": "aae9927a",
   "metadata": {
    "execution": {
     "iopub.execute_input": "2023-08-08T06:30:24.327316Z",
     "iopub.status.busy": "2023-08-08T06:30:24.326919Z",
     "iopub.status.idle": "2023-08-08T06:30:24.330362Z",
     "shell.execute_reply": "2023-08-08T06:30:24.329645Z"
    },
    "papermill": {
     "duration": 0.029183,
     "end_time": "2023-08-08T06:30:24.332157",
     "exception": false,
     "start_time": "2023-08-08T06:30:24.302974",
     "status": "completed"
    },
    "tags": []
   },
   "outputs": [],
   "source": [
    "# print(clf_sgdclassifier.score(X_train, y_train))\n",
    "# print(clf_sgdclassifier.score(X_validate, y_validate))"
   ]
  },
  {
   "cell_type": "markdown",
   "id": "cca21b06",
   "metadata": {
    "papermill": {
     "duration": 0.021627,
     "end_time": "2023-08-08T06:30:24.375230",
     "exception": false,
     "start_time": "2023-08-08T06:30:24.353603",
     "status": "completed"
    },
    "tags": []
   },
   "source": [
    "score without MinMaxScaler;\n",
    "train: 0.75\n",
    "validate: 0.749\n",
    "\n",
    "score with MinMaxScaler;\n",
    "train: 0.78\n",
    "validate: 0.77"
   ]
  },
  {
   "cell_type": "markdown",
   "id": "a410518d",
   "metadata": {
    "papermill": {
     "duration": 0.021407,
     "end_time": "2023-08-08T06:30:24.419091",
     "exception": false,
     "start_time": "2023-08-08T06:30:24.397684",
     "status": "completed"
    },
    "tags": []
   },
   "source": [
    "# Multinomial"
   ]
  },
  {
   "cell_type": "code",
   "execution_count": 31,
   "id": "03e7cfd9",
   "metadata": {
    "execution": {
     "iopub.execute_input": "2023-08-08T06:30:24.464634Z",
     "iopub.status.busy": "2023-08-08T06:30:24.464285Z",
     "iopub.status.idle": "2023-08-08T06:30:24.546828Z",
     "shell.execute_reply": "2023-08-08T06:30:24.545011Z"
    },
    "papermill": {
     "duration": 0.108294,
     "end_time": "2023-08-08T06:30:24.549643",
     "exception": false,
     "start_time": "2023-08-08T06:30:24.441349",
     "status": "completed"
    },
    "tags": []
   },
   "outputs": [
    {
     "data": {
      "text/html": [
       "<style>#sk-container-id-7 {color: black;background-color: white;}#sk-container-id-7 pre{padding: 0;}#sk-container-id-7 div.sk-toggleable {background-color: white;}#sk-container-id-7 label.sk-toggleable__label {cursor: pointer;display: block;width: 100%;margin-bottom: 0;padding: 0.3em;box-sizing: border-box;text-align: center;}#sk-container-id-7 label.sk-toggleable__label-arrow:before {content: \"▸\";float: left;margin-right: 0.25em;color: #696969;}#sk-container-id-7 label.sk-toggleable__label-arrow:hover:before {color: black;}#sk-container-id-7 div.sk-estimator:hover label.sk-toggleable__label-arrow:before {color: black;}#sk-container-id-7 div.sk-toggleable__content {max-height: 0;max-width: 0;overflow: hidden;text-align: left;background-color: #f0f8ff;}#sk-container-id-7 div.sk-toggleable__content pre {margin: 0.2em;color: black;border-radius: 0.25em;background-color: #f0f8ff;}#sk-container-id-7 input.sk-toggleable__control:checked~div.sk-toggleable__content {max-height: 200px;max-width: 100%;overflow: auto;}#sk-container-id-7 input.sk-toggleable__control:checked~label.sk-toggleable__label-arrow:before {content: \"▾\";}#sk-container-id-7 div.sk-estimator input.sk-toggleable__control:checked~label.sk-toggleable__label {background-color: #d4ebff;}#sk-container-id-7 div.sk-label input.sk-toggleable__control:checked~label.sk-toggleable__label {background-color: #d4ebff;}#sk-container-id-7 input.sk-hidden--visually {border: 0;clip: rect(1px 1px 1px 1px);clip: rect(1px, 1px, 1px, 1px);height: 1px;margin: -1px;overflow: hidden;padding: 0;position: absolute;width: 1px;}#sk-container-id-7 div.sk-estimator {font-family: monospace;background-color: #f0f8ff;border: 1px dotted black;border-radius: 0.25em;box-sizing: border-box;margin-bottom: 0.5em;}#sk-container-id-7 div.sk-estimator:hover {background-color: #d4ebff;}#sk-container-id-7 div.sk-parallel-item::after {content: \"\";width: 100%;border-bottom: 1px solid gray;flex-grow: 1;}#sk-container-id-7 div.sk-label:hover label.sk-toggleable__label {background-color: #d4ebff;}#sk-container-id-7 div.sk-serial::before {content: \"\";position: absolute;border-left: 1px solid gray;box-sizing: border-box;top: 0;bottom: 0;left: 50%;z-index: 0;}#sk-container-id-7 div.sk-serial {display: flex;flex-direction: column;align-items: center;background-color: white;padding-right: 0.2em;padding-left: 0.2em;position: relative;}#sk-container-id-7 div.sk-item {position: relative;z-index: 1;}#sk-container-id-7 div.sk-parallel {display: flex;align-items: stretch;justify-content: center;background-color: white;position: relative;}#sk-container-id-7 div.sk-item::before, #sk-container-id-7 div.sk-parallel-item::before {content: \"\";position: absolute;border-left: 1px solid gray;box-sizing: border-box;top: 0;bottom: 0;left: 50%;z-index: -1;}#sk-container-id-7 div.sk-parallel-item {display: flex;flex-direction: column;z-index: 1;position: relative;background-color: white;}#sk-container-id-7 div.sk-parallel-item:first-child::after {align-self: flex-end;width: 50%;}#sk-container-id-7 div.sk-parallel-item:last-child::after {align-self: flex-start;width: 50%;}#sk-container-id-7 div.sk-parallel-item:only-child::after {width: 0;}#sk-container-id-7 div.sk-dashed-wrapped {border: 1px dashed gray;margin: 0 0.4em 0.5em 0.4em;box-sizing: border-box;padding-bottom: 0.4em;background-color: white;}#sk-container-id-7 div.sk-label label {font-family: monospace;font-weight: bold;display: inline-block;line-height: 1.2em;}#sk-container-id-7 div.sk-label-container {text-align: center;}#sk-container-id-7 div.sk-container {/* jupyter's `normalize.less` sets `[hidden] { display: none; }` but bootstrap.min.css set `[hidden] { display: none !important; }` so we also need the `!important` here to be able to override the default hidden behavior on the sphinx rendered scikit-learn.org. See: https://github.com/scikit-learn/scikit-learn/issues/21755 */display: inline-block !important;position: relative;}#sk-container-id-7 div.sk-text-repr-fallback {display: none;}</style><div id=\"sk-container-id-7\" class=\"sk-top-container\"><div class=\"sk-text-repr-fallback\"><pre>Pipeline(steps=[(&#x27;ct&#x27;,\n",
       "                 ColumnTransformer(remainder=&#x27;passthrough&#x27;,\n",
       "                                   transformers=[(&#x27;reviewText_genre_originalLanguage&#x27;,\n",
       "                                                  Pipeline(steps=[(&#x27;squeez&#x27;,\n",
       "                                                                   FunctionTransformer(func=&lt;function &lt;lambda&gt; at 0x797221d81870&gt;)),\n",
       "                                                                  (&#x27;tfidf&#x27;,\n",
       "                                                                   TfidfVectorizer(max_features=10000,\n",
       "                                                                                   stop_words=&#x27;english&#x27;)),\n",
       "                                                                  (&#x27;toarray&#x27;,\n",
       "                                                                   FunctionTransformer(func=&lt;function &lt;lambda&gt; at 0x797221d81990&gt;))]),\n",
       "                                                  [&#x27;reviewText_genre_originalLanguage&#x27;])])),\n",
       "                (&#x27;minmax&#x27;, MinMaxScaler()),\n",
       "                (&#x27;chi&#x27;,\n",
       "                 SelectKBest(k=&#x27;all&#x27;,\n",
       "                             score_func=&lt;function chi2 at 0x797224af7010&gt;)),\n",
       "                (&#x27;multinomial&#x27;, MultinomialNB())])</pre><b>In a Jupyter environment, please rerun this cell to show the HTML representation or trust the notebook. <br />On GitHub, the HTML representation is unable to render, please try loading this page with nbviewer.org.</b></div><div class=\"sk-container\" hidden><div class=\"sk-item sk-dashed-wrapped\"><div class=\"sk-label-container\"><div class=\"sk-label sk-toggleable\"><input class=\"sk-toggleable__control sk-hidden--visually\" id=\"sk-estimator-id-67\" type=\"checkbox\" ><label for=\"sk-estimator-id-67\" class=\"sk-toggleable__label sk-toggleable__label-arrow\">Pipeline</label><div class=\"sk-toggleable__content\"><pre>Pipeline(steps=[(&#x27;ct&#x27;,\n",
       "                 ColumnTransformer(remainder=&#x27;passthrough&#x27;,\n",
       "                                   transformers=[(&#x27;reviewText_genre_originalLanguage&#x27;,\n",
       "                                                  Pipeline(steps=[(&#x27;squeez&#x27;,\n",
       "                                                                   FunctionTransformer(func=&lt;function &lt;lambda&gt; at 0x797221d81870&gt;)),\n",
       "                                                                  (&#x27;tfidf&#x27;,\n",
       "                                                                   TfidfVectorizer(max_features=10000,\n",
       "                                                                                   stop_words=&#x27;english&#x27;)),\n",
       "                                                                  (&#x27;toarray&#x27;,\n",
       "                                                                   FunctionTransformer(func=&lt;function &lt;lambda&gt; at 0x797221d81990&gt;))]),\n",
       "                                                  [&#x27;reviewText_genre_originalLanguage&#x27;])])),\n",
       "                (&#x27;minmax&#x27;, MinMaxScaler()),\n",
       "                (&#x27;chi&#x27;,\n",
       "                 SelectKBest(k=&#x27;all&#x27;,\n",
       "                             score_func=&lt;function chi2 at 0x797224af7010&gt;)),\n",
       "                (&#x27;multinomial&#x27;, MultinomialNB())])</pre></div></div></div><div class=\"sk-serial\"><div class=\"sk-item sk-dashed-wrapped\"><div class=\"sk-label-container\"><div class=\"sk-label sk-toggleable\"><input class=\"sk-toggleable__control sk-hidden--visually\" id=\"sk-estimator-id-68\" type=\"checkbox\" ><label for=\"sk-estimator-id-68\" class=\"sk-toggleable__label sk-toggleable__label-arrow\">ct: ColumnTransformer</label><div class=\"sk-toggleable__content\"><pre>ColumnTransformer(remainder=&#x27;passthrough&#x27;,\n",
       "                  transformers=[(&#x27;reviewText_genre_originalLanguage&#x27;,\n",
       "                                 Pipeline(steps=[(&#x27;squeez&#x27;,\n",
       "                                                  FunctionTransformer(func=&lt;function &lt;lambda&gt; at 0x797221d81870&gt;)),\n",
       "                                                 (&#x27;tfidf&#x27;,\n",
       "                                                  TfidfVectorizer(max_features=10000,\n",
       "                                                                  stop_words=&#x27;english&#x27;)),\n",
       "                                                 (&#x27;toarray&#x27;,\n",
       "                                                  FunctionTransformer(func=&lt;function &lt;lambda&gt; at 0x797221d81990&gt;))]),\n",
       "                                 [&#x27;reviewText_genre_originalLanguage&#x27;])])</pre></div></div></div><div class=\"sk-parallel\"><div class=\"sk-parallel-item\"><div class=\"sk-item\"><div class=\"sk-label-container\"><div class=\"sk-label sk-toggleable\"><input class=\"sk-toggleable__control sk-hidden--visually\" id=\"sk-estimator-id-69\" type=\"checkbox\" ><label for=\"sk-estimator-id-69\" class=\"sk-toggleable__label sk-toggleable__label-arrow\">reviewText_genre_originalLanguage</label><div class=\"sk-toggleable__content\"><pre>[&#x27;reviewText_genre_originalLanguage&#x27;]</pre></div></div></div><div class=\"sk-serial\"><div class=\"sk-item\"><div class=\"sk-serial\"><div class=\"sk-item\"><div class=\"sk-estimator sk-toggleable\"><input class=\"sk-toggleable__control sk-hidden--visually\" id=\"sk-estimator-id-70\" type=\"checkbox\" ><label for=\"sk-estimator-id-70\" class=\"sk-toggleable__label sk-toggleable__label-arrow\">FunctionTransformer</label><div class=\"sk-toggleable__content\"><pre>FunctionTransformer(func=&lt;function &lt;lambda&gt; at 0x797221d81870&gt;)</pre></div></div></div><div class=\"sk-item\"><div class=\"sk-estimator sk-toggleable\"><input class=\"sk-toggleable__control sk-hidden--visually\" id=\"sk-estimator-id-71\" type=\"checkbox\" ><label for=\"sk-estimator-id-71\" class=\"sk-toggleable__label sk-toggleable__label-arrow\">TfidfVectorizer</label><div class=\"sk-toggleable__content\"><pre>TfidfVectorizer(max_features=10000, stop_words=&#x27;english&#x27;)</pre></div></div></div><div class=\"sk-item\"><div class=\"sk-estimator sk-toggleable\"><input class=\"sk-toggleable__control sk-hidden--visually\" id=\"sk-estimator-id-72\" type=\"checkbox\" ><label for=\"sk-estimator-id-72\" class=\"sk-toggleable__label sk-toggleable__label-arrow\">FunctionTransformer</label><div class=\"sk-toggleable__content\"><pre>FunctionTransformer(func=&lt;function &lt;lambda&gt; at 0x797221d81990&gt;)</pre></div></div></div></div></div></div></div></div><div class=\"sk-parallel-item\"><div class=\"sk-item\"><div class=\"sk-label-container\"><div class=\"sk-label sk-toggleable\"><input class=\"sk-toggleable__control sk-hidden--visually\" id=\"sk-estimator-id-73\" type=\"checkbox\" ><label for=\"sk-estimator-id-73\" class=\"sk-toggleable__label sk-toggleable__label-arrow\">remainder</label><div class=\"sk-toggleable__content\"><pre></pre></div></div></div><div class=\"sk-serial\"><div class=\"sk-item\"><div class=\"sk-estimator sk-toggleable\"><input class=\"sk-toggleable__control sk-hidden--visually\" id=\"sk-estimator-id-74\" type=\"checkbox\" ><label for=\"sk-estimator-id-74\" class=\"sk-toggleable__label sk-toggleable__label-arrow\">passthrough</label><div class=\"sk-toggleable__content\"><pre>passthrough</pre></div></div></div></div></div></div></div></div><div class=\"sk-item\"><div class=\"sk-estimator sk-toggleable\"><input class=\"sk-toggleable__control sk-hidden--visually\" id=\"sk-estimator-id-75\" type=\"checkbox\" ><label for=\"sk-estimator-id-75\" class=\"sk-toggleable__label sk-toggleable__label-arrow\">MinMaxScaler</label><div class=\"sk-toggleable__content\"><pre>MinMaxScaler()</pre></div></div></div><div class=\"sk-item\"><div class=\"sk-estimator sk-toggleable\"><input class=\"sk-toggleable__control sk-hidden--visually\" id=\"sk-estimator-id-76\" type=\"checkbox\" ><label for=\"sk-estimator-id-76\" class=\"sk-toggleable__label sk-toggleable__label-arrow\">SelectKBest</label><div class=\"sk-toggleable__content\"><pre>SelectKBest(k=&#x27;all&#x27;, score_func=&lt;function chi2 at 0x797224af7010&gt;)</pre></div></div></div><div class=\"sk-item\"><div class=\"sk-estimator sk-toggleable\"><input class=\"sk-toggleable__control sk-hidden--visually\" id=\"sk-estimator-id-77\" type=\"checkbox\" ><label for=\"sk-estimator-id-77\" class=\"sk-toggleable__label sk-toggleable__label-arrow\">MultinomialNB</label><div class=\"sk-toggleable__content\"><pre>MultinomialNB()</pre></div></div></div></div></div></div></div>"
      ],
      "text/plain": [
       "Pipeline(steps=[('ct',\n",
       "                 ColumnTransformer(remainder='passthrough',\n",
       "                                   transformers=[('reviewText_genre_originalLanguage',\n",
       "                                                  Pipeline(steps=[('squeez',\n",
       "                                                                   FunctionTransformer(func=<function <lambda> at 0x797221d81870>)),\n",
       "                                                                  ('tfidf',\n",
       "                                                                   TfidfVectorizer(max_features=10000,\n",
       "                                                                                   stop_words='english')),\n",
       "                                                                  ('toarray',\n",
       "                                                                   FunctionTransformer(func=<function <lambda> at 0x797221d81990>))]),\n",
       "                                                  ['reviewText_genre_originalLanguage'])])),\n",
       "                ('minmax', MinMaxScaler()),\n",
       "                ('chi',\n",
       "                 SelectKBest(k='all',\n",
       "                             score_func=<function chi2 at 0x797224af7010>)),\n",
       "                ('multinomial', MultinomialNB())])"
      ]
     },
     "execution_count": 31,
     "metadata": {},
     "output_type": "execute_result"
    }
   ],
   "source": [
    "TextProcessor = Pipeline(steps=[\n",
    "    (\"squeez\", FunctionTransformer(lambda x: x.squeeze())),\n",
    "    (\"tfidf\", TfidfVectorizer(max_features = 10000,stop_words ='english')),\n",
    "    (\"toarray\", FunctionTransformer(lambda x: x.toarray())),\n",
    "])\n",
    "\n",
    "\n",
    "ct = ColumnTransformer([\n",
    "    ('reviewText_genre_originalLanguage', TextProcessor, ['reviewText_genre_originalLanguage']),\n",
    "],\n",
    "    remainder='passthrough'\n",
    ")\n",
    "\n",
    "clf_multinomial = Pipeline(steps=[\n",
    "    ('ct',ct),\n",
    "    ('minmax', MinMaxScaler()),\n",
    "    ('chi', SelectKBest(chi2, k='all')),\n",
    "    ('multinomial', MultinomialNB())\n",
    "])\n",
    "clf_multinomial"
   ]
  },
  {
   "cell_type": "code",
   "execution_count": 32,
   "id": "f022cf5e",
   "metadata": {
    "execution": {
     "iopub.execute_input": "2023-08-08T06:30:24.594163Z",
     "iopub.status.busy": "2023-08-08T06:30:24.593802Z",
     "iopub.status.idle": "2023-08-08T06:30:24.597718Z",
     "shell.execute_reply": "2023-08-08T06:30:24.596820Z"
    },
    "papermill": {
     "duration": 0.028072,
     "end_time": "2023-08-08T06:30:24.599419",
     "exception": false,
     "start_time": "2023-08-08T06:30:24.571347",
     "status": "completed"
    },
    "tags": []
   },
   "outputs": [],
   "source": [
    "# clf_multinomial.fit(X_train,y_train)"
   ]
  },
  {
   "cell_type": "code",
   "execution_count": 33,
   "id": "63296951",
   "metadata": {
    "execution": {
     "iopub.execute_input": "2023-08-08T06:30:24.644894Z",
     "iopub.status.busy": "2023-08-08T06:30:24.644203Z",
     "iopub.status.idle": "2023-08-08T06:30:24.648894Z",
     "shell.execute_reply": "2023-08-08T06:30:24.647592Z"
    },
    "papermill": {
     "duration": 0.030205,
     "end_time": "2023-08-08T06:30:24.651463",
     "exception": false,
     "start_time": "2023-08-08T06:30:24.621258",
     "status": "completed"
    },
    "tags": []
   },
   "outputs": [],
   "source": [
    "# print(clf_multinomial.score(X_train, y_train))\n",
    "# print(clf_multinomial.score(X_validate, y_validate))"
   ]
  },
  {
   "cell_type": "markdown",
   "id": "ebf12f26",
   "metadata": {
    "papermill": {
     "duration": 0.021614,
     "end_time": "2023-08-08T06:30:24.694979",
     "exception": false,
     "start_time": "2023-08-08T06:30:24.673365",
     "status": "completed"
    },
    "tags": []
   },
   "source": [
    "score without MinMaxScaler;\n",
    "train: 0.71\n",
    "validate: 0.71\n",
    "\n",
    "score with MinMaxScaler;\n",
    "train: 0.78\n",
    "validate: 0.77"
   ]
  },
  {
   "cell_type": "markdown",
   "id": "2deba2de",
   "metadata": {
    "papermill": {
     "duration": 0.021352,
     "end_time": "2023-08-08T06:30:24.738830",
     "exception": false,
     "start_time": "2023-08-08T06:30:24.717478",
     "status": "completed"
    },
    "tags": []
   },
   "source": [
    "# HPTuning for Multinomial"
   ]
  },
  {
   "cell_type": "code",
   "execution_count": 34,
   "id": "da4fcf68",
   "metadata": {
    "execution": {
     "iopub.execute_input": "2023-08-08T06:30:24.784031Z",
     "iopub.status.busy": "2023-08-08T06:30:24.783433Z",
     "iopub.status.idle": "2023-08-08T06:30:24.864414Z",
     "shell.execute_reply": "2023-08-08T06:30:24.862869Z"
    },
    "papermill": {
     "duration": 0.107069,
     "end_time": "2023-08-08T06:30:24.867748",
     "exception": false,
     "start_time": "2023-08-08T06:30:24.760679",
     "status": "completed"
    },
    "tags": []
   },
   "outputs": [
    {
     "data": {
      "text/html": [
       "<style>#sk-container-id-8 {color: black;background-color: white;}#sk-container-id-8 pre{padding: 0;}#sk-container-id-8 div.sk-toggleable {background-color: white;}#sk-container-id-8 label.sk-toggleable__label {cursor: pointer;display: block;width: 100%;margin-bottom: 0;padding: 0.3em;box-sizing: border-box;text-align: center;}#sk-container-id-8 label.sk-toggleable__label-arrow:before {content: \"▸\";float: left;margin-right: 0.25em;color: #696969;}#sk-container-id-8 label.sk-toggleable__label-arrow:hover:before {color: black;}#sk-container-id-8 div.sk-estimator:hover label.sk-toggleable__label-arrow:before {color: black;}#sk-container-id-8 div.sk-toggleable__content {max-height: 0;max-width: 0;overflow: hidden;text-align: left;background-color: #f0f8ff;}#sk-container-id-8 div.sk-toggleable__content pre {margin: 0.2em;color: black;border-radius: 0.25em;background-color: #f0f8ff;}#sk-container-id-8 input.sk-toggleable__control:checked~div.sk-toggleable__content {max-height: 200px;max-width: 100%;overflow: auto;}#sk-container-id-8 input.sk-toggleable__control:checked~label.sk-toggleable__label-arrow:before {content: \"▾\";}#sk-container-id-8 div.sk-estimator input.sk-toggleable__control:checked~label.sk-toggleable__label {background-color: #d4ebff;}#sk-container-id-8 div.sk-label input.sk-toggleable__control:checked~label.sk-toggleable__label {background-color: #d4ebff;}#sk-container-id-8 input.sk-hidden--visually {border: 0;clip: rect(1px 1px 1px 1px);clip: rect(1px, 1px, 1px, 1px);height: 1px;margin: -1px;overflow: hidden;padding: 0;position: absolute;width: 1px;}#sk-container-id-8 div.sk-estimator {font-family: monospace;background-color: #f0f8ff;border: 1px dotted black;border-radius: 0.25em;box-sizing: border-box;margin-bottom: 0.5em;}#sk-container-id-8 div.sk-estimator:hover {background-color: #d4ebff;}#sk-container-id-8 div.sk-parallel-item::after {content: \"\";width: 100%;border-bottom: 1px solid gray;flex-grow: 1;}#sk-container-id-8 div.sk-label:hover label.sk-toggleable__label {background-color: #d4ebff;}#sk-container-id-8 div.sk-serial::before {content: \"\";position: absolute;border-left: 1px solid gray;box-sizing: border-box;top: 0;bottom: 0;left: 50%;z-index: 0;}#sk-container-id-8 div.sk-serial {display: flex;flex-direction: column;align-items: center;background-color: white;padding-right: 0.2em;padding-left: 0.2em;position: relative;}#sk-container-id-8 div.sk-item {position: relative;z-index: 1;}#sk-container-id-8 div.sk-parallel {display: flex;align-items: stretch;justify-content: center;background-color: white;position: relative;}#sk-container-id-8 div.sk-item::before, #sk-container-id-8 div.sk-parallel-item::before {content: \"\";position: absolute;border-left: 1px solid gray;box-sizing: border-box;top: 0;bottom: 0;left: 50%;z-index: -1;}#sk-container-id-8 div.sk-parallel-item {display: flex;flex-direction: column;z-index: 1;position: relative;background-color: white;}#sk-container-id-8 div.sk-parallel-item:first-child::after {align-self: flex-end;width: 50%;}#sk-container-id-8 div.sk-parallel-item:last-child::after {align-self: flex-start;width: 50%;}#sk-container-id-8 div.sk-parallel-item:only-child::after {width: 0;}#sk-container-id-8 div.sk-dashed-wrapped {border: 1px dashed gray;margin: 0 0.4em 0.5em 0.4em;box-sizing: border-box;padding-bottom: 0.4em;background-color: white;}#sk-container-id-8 div.sk-label label {font-family: monospace;font-weight: bold;display: inline-block;line-height: 1.2em;}#sk-container-id-8 div.sk-label-container {text-align: center;}#sk-container-id-8 div.sk-container {/* jupyter's `normalize.less` sets `[hidden] { display: none; }` but bootstrap.min.css set `[hidden] { display: none !important; }` so we also need the `!important` here to be able to override the default hidden behavior on the sphinx rendered scikit-learn.org. See: https://github.com/scikit-learn/scikit-learn/issues/21755 */display: inline-block !important;position: relative;}#sk-container-id-8 div.sk-text-repr-fallback {display: none;}</style><div id=\"sk-container-id-8\" class=\"sk-top-container\"><div class=\"sk-text-repr-fallback\"><pre>Pipeline(steps=[(&#x27;ct&#x27;,\n",
       "                 ColumnTransformer(remainder=&#x27;passthrough&#x27;,\n",
       "                                   transformers=[(&#x27;reviewText_genre_originalLanguage&#x27;,\n",
       "                                                  Pipeline(steps=[(&#x27;squeez&#x27;,\n",
       "                                                                   FunctionTransformer(func=&lt;function &lt;lambda&gt; at 0x797221d815a0&gt;)),\n",
       "                                                                  (&#x27;tfidf&#x27;,\n",
       "                                                                   TfidfVectorizer(max_features=10000,\n",
       "                                                                                   stop_words=&#x27;english&#x27;)),\n",
       "                                                                  (&#x27;toarray&#x27;,\n",
       "                                                                   FunctionTransformer(func=&lt;function &lt;lambda&gt; at 0x797221d81a20&gt;))]),\n",
       "                                                  [&#x27;reviewText_genre_originalLanguage&#x27;])])),\n",
       "                (&#x27;minmax&#x27;, MinMaxScaler()),\n",
       "                (&#x27;chi&#x27;,\n",
       "                 SelectKBest(k=&#x27;all&#x27;,\n",
       "                             score_func=&lt;function chi2 at 0x797224af7010&gt;)),\n",
       "                (&#x27;multinomial&#x27;, MultinomialNB())])</pre><b>In a Jupyter environment, please rerun this cell to show the HTML representation or trust the notebook. <br />On GitHub, the HTML representation is unable to render, please try loading this page with nbviewer.org.</b></div><div class=\"sk-container\" hidden><div class=\"sk-item sk-dashed-wrapped\"><div class=\"sk-label-container\"><div class=\"sk-label sk-toggleable\"><input class=\"sk-toggleable__control sk-hidden--visually\" id=\"sk-estimator-id-78\" type=\"checkbox\" ><label for=\"sk-estimator-id-78\" class=\"sk-toggleable__label sk-toggleable__label-arrow\">Pipeline</label><div class=\"sk-toggleable__content\"><pre>Pipeline(steps=[(&#x27;ct&#x27;,\n",
       "                 ColumnTransformer(remainder=&#x27;passthrough&#x27;,\n",
       "                                   transformers=[(&#x27;reviewText_genre_originalLanguage&#x27;,\n",
       "                                                  Pipeline(steps=[(&#x27;squeez&#x27;,\n",
       "                                                                   FunctionTransformer(func=&lt;function &lt;lambda&gt; at 0x797221d815a0&gt;)),\n",
       "                                                                  (&#x27;tfidf&#x27;,\n",
       "                                                                   TfidfVectorizer(max_features=10000,\n",
       "                                                                                   stop_words=&#x27;english&#x27;)),\n",
       "                                                                  (&#x27;toarray&#x27;,\n",
       "                                                                   FunctionTransformer(func=&lt;function &lt;lambda&gt; at 0x797221d81a20&gt;))]),\n",
       "                                                  [&#x27;reviewText_genre_originalLanguage&#x27;])])),\n",
       "                (&#x27;minmax&#x27;, MinMaxScaler()),\n",
       "                (&#x27;chi&#x27;,\n",
       "                 SelectKBest(k=&#x27;all&#x27;,\n",
       "                             score_func=&lt;function chi2 at 0x797224af7010&gt;)),\n",
       "                (&#x27;multinomial&#x27;, MultinomialNB())])</pre></div></div></div><div class=\"sk-serial\"><div class=\"sk-item sk-dashed-wrapped\"><div class=\"sk-label-container\"><div class=\"sk-label sk-toggleable\"><input class=\"sk-toggleable__control sk-hidden--visually\" id=\"sk-estimator-id-79\" type=\"checkbox\" ><label for=\"sk-estimator-id-79\" class=\"sk-toggleable__label sk-toggleable__label-arrow\">ct: ColumnTransformer</label><div class=\"sk-toggleable__content\"><pre>ColumnTransformer(remainder=&#x27;passthrough&#x27;,\n",
       "                  transformers=[(&#x27;reviewText_genre_originalLanguage&#x27;,\n",
       "                                 Pipeline(steps=[(&#x27;squeez&#x27;,\n",
       "                                                  FunctionTransformer(func=&lt;function &lt;lambda&gt; at 0x797221d815a0&gt;)),\n",
       "                                                 (&#x27;tfidf&#x27;,\n",
       "                                                  TfidfVectorizer(max_features=10000,\n",
       "                                                                  stop_words=&#x27;english&#x27;)),\n",
       "                                                 (&#x27;toarray&#x27;,\n",
       "                                                  FunctionTransformer(func=&lt;function &lt;lambda&gt; at 0x797221d81a20&gt;))]),\n",
       "                                 [&#x27;reviewText_genre_originalLanguage&#x27;])])</pre></div></div></div><div class=\"sk-parallel\"><div class=\"sk-parallel-item\"><div class=\"sk-item\"><div class=\"sk-label-container\"><div class=\"sk-label sk-toggleable\"><input class=\"sk-toggleable__control sk-hidden--visually\" id=\"sk-estimator-id-80\" type=\"checkbox\" ><label for=\"sk-estimator-id-80\" class=\"sk-toggleable__label sk-toggleable__label-arrow\">reviewText_genre_originalLanguage</label><div class=\"sk-toggleable__content\"><pre>[&#x27;reviewText_genre_originalLanguage&#x27;]</pre></div></div></div><div class=\"sk-serial\"><div class=\"sk-item\"><div class=\"sk-serial\"><div class=\"sk-item\"><div class=\"sk-estimator sk-toggleable\"><input class=\"sk-toggleable__control sk-hidden--visually\" id=\"sk-estimator-id-81\" type=\"checkbox\" ><label for=\"sk-estimator-id-81\" class=\"sk-toggleable__label sk-toggleable__label-arrow\">FunctionTransformer</label><div class=\"sk-toggleable__content\"><pre>FunctionTransformer(func=&lt;function &lt;lambda&gt; at 0x797221d815a0&gt;)</pre></div></div></div><div class=\"sk-item\"><div class=\"sk-estimator sk-toggleable\"><input class=\"sk-toggleable__control sk-hidden--visually\" id=\"sk-estimator-id-82\" type=\"checkbox\" ><label for=\"sk-estimator-id-82\" class=\"sk-toggleable__label sk-toggleable__label-arrow\">TfidfVectorizer</label><div class=\"sk-toggleable__content\"><pre>TfidfVectorizer(max_features=10000, stop_words=&#x27;english&#x27;)</pre></div></div></div><div class=\"sk-item\"><div class=\"sk-estimator sk-toggleable\"><input class=\"sk-toggleable__control sk-hidden--visually\" id=\"sk-estimator-id-83\" type=\"checkbox\" ><label for=\"sk-estimator-id-83\" class=\"sk-toggleable__label sk-toggleable__label-arrow\">FunctionTransformer</label><div class=\"sk-toggleable__content\"><pre>FunctionTransformer(func=&lt;function &lt;lambda&gt; at 0x797221d81a20&gt;)</pre></div></div></div></div></div></div></div></div><div class=\"sk-parallel-item\"><div class=\"sk-item\"><div class=\"sk-label-container\"><div class=\"sk-label sk-toggleable\"><input class=\"sk-toggleable__control sk-hidden--visually\" id=\"sk-estimator-id-84\" type=\"checkbox\" ><label for=\"sk-estimator-id-84\" class=\"sk-toggleable__label sk-toggleable__label-arrow\">remainder</label><div class=\"sk-toggleable__content\"><pre></pre></div></div></div><div class=\"sk-serial\"><div class=\"sk-item\"><div class=\"sk-estimator sk-toggleable\"><input class=\"sk-toggleable__control sk-hidden--visually\" id=\"sk-estimator-id-85\" type=\"checkbox\" ><label for=\"sk-estimator-id-85\" class=\"sk-toggleable__label sk-toggleable__label-arrow\">passthrough</label><div class=\"sk-toggleable__content\"><pre>passthrough</pre></div></div></div></div></div></div></div></div><div class=\"sk-item\"><div class=\"sk-estimator sk-toggleable\"><input class=\"sk-toggleable__control sk-hidden--visually\" id=\"sk-estimator-id-86\" type=\"checkbox\" ><label for=\"sk-estimator-id-86\" class=\"sk-toggleable__label sk-toggleable__label-arrow\">MinMaxScaler</label><div class=\"sk-toggleable__content\"><pre>MinMaxScaler()</pre></div></div></div><div class=\"sk-item\"><div class=\"sk-estimator sk-toggleable\"><input class=\"sk-toggleable__control sk-hidden--visually\" id=\"sk-estimator-id-87\" type=\"checkbox\" ><label for=\"sk-estimator-id-87\" class=\"sk-toggleable__label sk-toggleable__label-arrow\">SelectKBest</label><div class=\"sk-toggleable__content\"><pre>SelectKBest(k=&#x27;all&#x27;, score_func=&lt;function chi2 at 0x797224af7010&gt;)</pre></div></div></div><div class=\"sk-item\"><div class=\"sk-estimator sk-toggleable\"><input class=\"sk-toggleable__control sk-hidden--visually\" id=\"sk-estimator-id-88\" type=\"checkbox\" ><label for=\"sk-estimator-id-88\" class=\"sk-toggleable__label sk-toggleable__label-arrow\">MultinomialNB</label><div class=\"sk-toggleable__content\"><pre>MultinomialNB()</pre></div></div></div></div></div></div></div>"
      ],
      "text/plain": [
       "Pipeline(steps=[('ct',\n",
       "                 ColumnTransformer(remainder='passthrough',\n",
       "                                   transformers=[('reviewText_genre_originalLanguage',\n",
       "                                                  Pipeline(steps=[('squeez',\n",
       "                                                                   FunctionTransformer(func=<function <lambda> at 0x797221d815a0>)),\n",
       "                                                                  ('tfidf',\n",
       "                                                                   TfidfVectorizer(max_features=10000,\n",
       "                                                                                   stop_words='english')),\n",
       "                                                                  ('toarray',\n",
       "                                                                   FunctionTransformer(func=<function <lambda> at 0x797221d81a20>))]),\n",
       "                                                  ['reviewText_genre_originalLanguage'])])),\n",
       "                ('minmax', MinMaxScaler()),\n",
       "                ('chi',\n",
       "                 SelectKBest(k='all',\n",
       "                             score_func=<function chi2 at 0x797224af7010>)),\n",
       "                ('multinomial', MultinomialNB())])"
      ]
     },
     "execution_count": 34,
     "metadata": {},
     "output_type": "execute_result"
    }
   ],
   "source": [
    "TextProcessor = Pipeline(steps=[\n",
    "    (\"squeez\", FunctionTransformer(lambda x: x.squeeze())),\n",
    "    (\"tfidf\", TfidfVectorizer(max_features = 10000,stop_words ='english')),\n",
    "    (\"toarray\", FunctionTransformer(lambda x: x.toarray())),\n",
    "])\n",
    "\n",
    "\n",
    "ct = ColumnTransformer([\n",
    "    ('reviewText_genre_originalLanguage', TextProcessor, ['reviewText_genre_originalLanguage']),\n",
    "],\n",
    "    remainder='passthrough'\n",
    ")\n",
    "\n",
    "clf_multinomial_GS = Pipeline(steps=[\n",
    "    ('ct',ct),\n",
    "    ('minmax', MinMaxScaler()),\n",
    "    ('chi', SelectKBest(chi2, k='all')),\n",
    "    ('multinomial', MultinomialNB())\n",
    "])\n",
    "clf_multinomial_GS"
   ]
  },
  {
   "cell_type": "code",
   "execution_count": 35,
   "id": "4c864c66",
   "metadata": {
    "execution": {
     "iopub.execute_input": "2023-08-08T06:30:24.914886Z",
     "iopub.status.busy": "2023-08-08T06:30:24.914544Z",
     "iopub.status.idle": "2023-08-08T06:30:24.920505Z",
     "shell.execute_reply": "2023-08-08T06:30:24.919135Z"
    },
    "papermill": {
     "duration": 0.033071,
     "end_time": "2023-08-08T06:30:24.922621",
     "exception": false,
     "start_time": "2023-08-08T06:30:24.889550",
     "status": "completed"
    },
    "tags": []
   },
   "outputs": [],
   "source": [
    "from sklearn.model_selection import GridSearchCV\n",
    "from sklearn.metrics import accuracy_score\n",
    "\n",
    "scoring_metric = 'accuracy'\n",
    "\n",
    "alpha_values = [0.1, 0.5, 1.0, 2.0]\n",
    "\n",
    "param_grid = {'multinomial__alpha': alpha_values}\n",
    "# nb_model = MultinomialNB()\n",
    "grid_search = GridSearchCV(clf_multinomial_GS, param_grid, scoring=scoring_metric, cv=5)"
   ]
  },
  {
   "cell_type": "code",
   "execution_count": 36,
   "id": "0cc83b4c",
   "metadata": {
    "execution": {
     "iopub.execute_input": "2023-08-08T06:30:24.969883Z",
     "iopub.status.busy": "2023-08-08T06:30:24.968833Z",
     "iopub.status.idle": "2023-08-08T06:30:24.975293Z",
     "shell.execute_reply": "2023-08-08T06:30:24.973703Z"
    },
    "papermill": {
     "duration": 0.034681,
     "end_time": "2023-08-08T06:30:24.978801",
     "exception": false,
     "start_time": "2023-08-08T06:30:24.944120",
     "status": "completed"
    },
    "tags": []
   },
   "outputs": [],
   "source": [
    "# grid_search.fit(X_train, y_train)"
   ]
  },
  {
   "cell_type": "code",
   "execution_count": 37,
   "id": "cdfae6cc",
   "metadata": {
    "execution": {
     "iopub.execute_input": "2023-08-08T06:30:25.030650Z",
     "iopub.status.busy": "2023-08-08T06:30:25.029788Z",
     "iopub.status.idle": "2023-08-08T06:30:25.034398Z",
     "shell.execute_reply": "2023-08-08T06:30:25.033487Z"
    },
    "papermill": {
     "duration": 0.031396,
     "end_time": "2023-08-08T06:30:25.037086",
     "exception": false,
     "start_time": "2023-08-08T06:30:25.005690",
     "status": "completed"
    },
    "tags": []
   },
   "outputs": [],
   "source": [
    "# grid_search.best_params_"
   ]
  },
  {
   "cell_type": "markdown",
   "id": "45e1e84a",
   "metadata": {
    "papermill": {
     "duration": 0.021581,
     "end_time": "2023-08-08T06:30:25.082303",
     "exception": false,
     "start_time": "2023-08-08T06:30:25.060722",
     "status": "completed"
    },
    "tags": []
   },
   "source": [
    "{'multinomial__alpha': 1.0}"
   ]
  },
  {
   "cell_type": "code",
   "execution_count": 38,
   "id": "e2a4f475",
   "metadata": {
    "execution": {
     "iopub.execute_input": "2023-08-08T06:30:25.131328Z",
     "iopub.status.busy": "2023-08-08T06:30:25.130891Z",
     "iopub.status.idle": "2023-08-08T06:30:25.135987Z",
     "shell.execute_reply": "2023-08-08T06:30:25.134522Z"
    },
    "papermill": {
     "duration": 0.033381,
     "end_time": "2023-08-08T06:30:25.138498",
     "exception": false,
     "start_time": "2023-08-08T06:30:25.105117",
     "status": "completed"
    },
    "tags": []
   },
   "outputs": [],
   "source": [
    "# TextProcessor = Pipeline(steps=[\n",
    "#     (\"squeez\", FunctionTransformer(lambda x: x.squeeze())),\n",
    "#     (\"tfidf\", TfidfVectorizer(max_features = 10000,stop_words ='english')),\n",
    "#     (\"toarray\", FunctionTransformer(lambda x: x.toarray())),\n",
    "# ])\n",
    "\n",
    "\n",
    "# ct = ColumnTransformer([\n",
    "#     ('reviewText_genre_originalLanguage', TextProcessor, ['reviewText_genre_originalLanguage']),\n",
    "# ],\n",
    "#     remainder='passthrough'\n",
    "# )\n",
    "\n",
    "# best_alpha = grid_search.best_params_['multinomial__alpha'] # from HPT\n",
    "\n",
    "# clf_multinomial_HPTuned = Pipeline(steps=[\n",
    "#     ('ct',ct),\n",
    "#     ('minmax', MinMaxScaler()),\n",
    "#     ('chi', SelectKBest(chi2, k='all')),\n",
    "#     ('multinomial', MultinomialNB(alpha=best_alpha))\n",
    "# ])\n",
    "# clf_multinomial_HPTuned"
   ]
  },
  {
   "cell_type": "code",
   "execution_count": 39,
   "id": "5737fed5",
   "metadata": {
    "execution": {
     "iopub.execute_input": "2023-08-08T06:30:25.183878Z",
     "iopub.status.busy": "2023-08-08T06:30:25.183417Z",
     "iopub.status.idle": "2023-08-08T06:30:25.187386Z",
     "shell.execute_reply": "2023-08-08T06:30:25.186628Z"
    },
    "papermill": {
     "duration": 0.029899,
     "end_time": "2023-08-08T06:30:25.190196",
     "exception": false,
     "start_time": "2023-08-08T06:30:25.160297",
     "status": "completed"
    },
    "tags": []
   },
   "outputs": [],
   "source": [
    "# clf_multinomial_HPTuned.fit(X_train, y_train)"
   ]
  },
  {
   "cell_type": "code",
   "execution_count": 40,
   "id": "f53af566",
   "metadata": {
    "execution": {
     "iopub.execute_input": "2023-08-08T06:30:25.237102Z",
     "iopub.status.busy": "2023-08-08T06:30:25.236445Z",
     "iopub.status.idle": "2023-08-08T06:30:25.239969Z",
     "shell.execute_reply": "2023-08-08T06:30:25.239325Z"
    },
    "papermill": {
     "duration": 0.02999,
     "end_time": "2023-08-08T06:30:25.242448",
     "exception": false,
     "start_time": "2023-08-08T06:30:25.212458",
     "status": "completed"
    },
    "tags": []
   },
   "outputs": [],
   "source": [
    "# print(clf_multinomial_HPTuned.score(X_train, y_train))\n",
    "# print(clf_multinomial_HPTuned.score(X_validate, y_validate))"
   ]
  },
  {
   "cell_type": "markdown",
   "id": "ec4b17a6",
   "metadata": {
    "papermill": {
     "duration": 0.02145,
     "end_time": "2023-08-08T06:30:25.285997",
     "exception": false,
     "start_time": "2023-08-08T06:30:25.264547",
     "status": "completed"
    },
    "tags": []
   },
   "source": [
    "0.805836015662971\n",
    "0.7814600361192306"
   ]
  },
  {
   "cell_type": "code",
   "execution_count": 41,
   "id": "999fc95a",
   "metadata": {
    "execution": {
     "iopub.execute_input": "2023-08-08T06:30:25.332532Z",
     "iopub.status.busy": "2023-08-08T06:30:25.331616Z",
     "iopub.status.idle": "2023-08-08T06:30:25.336556Z",
     "shell.execute_reply": "2023-08-08T06:30:25.335381Z"
    },
    "papermill": {
     "duration": 0.0308,
     "end_time": "2023-08-08T06:30:25.339219",
     "exception": false,
     "start_time": "2023-08-08T06:30:25.308419",
     "status": "completed"
    },
    "tags": []
   },
   "outputs": [],
   "source": [
    "# y_pred = clf_multinomial_HPTuned.predict(X_validate)\n",
    "# final_accuracy = accuracy_score(y_validate, y_validate)\n",
    "\n",
    "# print(\"Best alpha:\", best_alpha)\n",
    "# print(\"Final accuracy:\", final_accuracy)"
   ]
  },
  {
   "cell_type": "markdown",
   "id": "2aa31240",
   "metadata": {
    "papermill": {
     "duration": 0.021203,
     "end_time": "2023-08-08T06:30:25.382246",
     "exception": false,
     "start_time": "2023-08-08T06:30:25.361043",
     "status": "completed"
    },
    "tags": []
   },
   "source": [
    "Best alpha: 1.0\n",
    "Final accuracy: 1.0"
   ]
  },
  {
   "cell_type": "markdown",
   "id": "f28c0654",
   "metadata": {
    "papermill": {
     "duration": 0.021609,
     "end_time": "2023-08-08T06:30:25.425527",
     "exception": false,
     "start_time": "2023-08-08T06:30:25.403918",
     "status": "completed"
    },
    "tags": []
   },
   "source": [
    "# Tranining MulninomialNB with HPTuned parameters "
   ]
  },
  {
   "cell_type": "code",
   "execution_count": 42,
   "id": "0d9131f3",
   "metadata": {
    "execution": {
     "iopub.execute_input": "2023-08-08T06:30:25.471353Z",
     "iopub.status.busy": "2023-08-08T06:30:25.470704Z",
     "iopub.status.idle": "2023-08-08T06:30:25.476328Z",
     "shell.execute_reply": "2023-08-08T06:30:25.475184Z"
    },
    "papermill": {
     "duration": 0.030922,
     "end_time": "2023-08-08T06:30:25.478645",
     "exception": false,
     "start_time": "2023-08-08T06:30:25.447723",
     "status": "completed"
    },
    "tags": []
   },
   "outputs": [],
   "source": [
    "X_whole = X\n",
    "y_whole = y"
   ]
  },
  {
   "cell_type": "code",
   "execution_count": 43,
   "id": "2f98cff0",
   "metadata": {
    "execution": {
     "iopub.execute_input": "2023-08-08T06:30:25.524369Z",
     "iopub.status.busy": "2023-08-08T06:30:25.523945Z",
     "iopub.status.idle": "2023-08-08T06:30:25.979110Z",
     "shell.execute_reply": "2023-08-08T06:30:25.977469Z"
    },
    "papermill": {
     "duration": 0.480486,
     "end_time": "2023-08-08T06:30:25.981522",
     "exception": false,
     "start_time": "2023-08-08T06:30:25.501036",
     "status": "completed"
    },
    "tags": []
   },
   "outputs": [],
   "source": [
    "##isFrequentReviewer\n",
    "# simple imputer - most_frequent on \"isFrequentReviewer\"\n",
    "X_whole['isFrequentReviewer'] = X_whole['isFrequentReviewer'].astype(str)\n",
    "si_isFrequentReviewer = SimpleImputer(strategy='most_frequent', missing_values='nan').fit(X_whole['isFrequentReviewer'].array.reshape(-1,1))\n",
    "X_whole.isFrequentReviewer = si_isFrequentReviewer.transform(X_whole['isFrequentReviewer'].array.reshape(-1,1))\n",
    "# label encoder - on \"isFrequentReviewer\"\n",
    "le_isFrequentReviewer = LabelEncoder().fit(X_whole.isFrequentReviewer)\n",
    "X_whole.isFrequentReviewer = le_isFrequentReviewer.transform(X_whole.isFrequentReviewer)\n",
    "\n",
    "##audienceScore\n",
    "# simple imputer - mean on \"audienceScore\"\n",
    "si_audienceScore = SimpleImputer(strategy='mean').fit(X_whole['audienceScore'].array.reshape(-1,1))\n",
    "X_whole.audienceScore = si_audienceScore.transform(X_whole['audienceScore'].array.reshape(-1,1))\n",
    "\n",
    "##runtimeMinutes\n",
    "# simple imputer - mean on \"runtimeMinutes\"\n",
    "si_runtimeMinutes = SimpleImputer(strategy='mean').fit(X_whole['runtimeMinutes'].array.reshape(-1,1))\n",
    "X_whole.runtimeMinutes = si_runtimeMinutes.transform(X_whole['runtimeMinutes'].array.reshape(-1,1))\n",
    "\n",
    "##genre\n",
    "# simple imputer - most_frequent on \"genre\"\n",
    "si_genre = SimpleImputer(strategy='most_frequent').fit(X_whole['genre'].array.reshape(-1,1))\n",
    "X_whole.genre = si_genre.transform(X_whole['genre'].array.reshape(-1,1))\n",
    "\n",
    "##originalLanguage\n",
    "# simple imputer - most_frequent on \"originalLanguage\"\n",
    "si_originalLanguage = SimpleImputer(strategy='most_frequent').fit(X_whole['originalLanguage'].array.reshape(-1,1))\n",
    "X_whole.originalLanguage = si_originalLanguage.transform(X_whole['originalLanguage'].array.reshape(-1,1))\n",
    "\n",
    "##releaseDateTheaters_month\n",
    "# simple imputer - most_frequent on \"releaseDateTheaters_month\"\n",
    "si_releaseDateTheaters_month = SimpleImputer(strategy='most_frequent').fit(X_whole['releaseDateTheaters_month'].array.reshape(-1,1))\n",
    "X_whole.releaseDateTheaters_month = si_releaseDateTheaters_month.transform(X_whole['releaseDateTheaters_month'].array.reshape(-1,1))\n",
    "\n",
    "##releaseDateTheaters_dayofweek\n",
    "# simple imputer - most_frequent on \"releaseDateTheaters_dayofweek\"\n",
    "si_releaseDateTheaters_dayofweek = SimpleImputer(strategy='most_frequent').fit(X_whole['releaseDateTheaters_dayofweek'].array.reshape(-1,1))\n",
    "X_whole.releaseDateTheaters_dayofweek = si_releaseDateTheaters_dayofweek.transform(X_whole['releaseDateTheaters_dayofweek'].array.reshape(-1,1))\n",
    "\n",
    "##releaseDateStreaming_month\n",
    "# simple imputer - most_frequent on \"releaseDateStreaming_month\"\n",
    "si_releaseDateStreaming_month = SimpleImputer(strategy='most_frequent').fit(X_whole['releaseDateStreaming_month'].array.reshape(-1,1))\n",
    "X_whole.releaseDateStreaming_month = si_releaseDateStreaming_month.transform(X_whole['releaseDateStreaming_month'].array.reshape(-1,1))\n",
    "\n",
    "##releaseDateStreaming_dayofweek\n",
    "# simple imputer - most_frequent on \"releaseDateStreaming_dayofweek\"\n",
    "si_releaseDateStreaming_dayofweek = SimpleImputer(strategy='most_frequent').fit(X_whole['releaseDateStreaming_dayofweek'].array.reshape(-1,1))\n",
    "X_whole.releaseDateStreaming_dayofweek = si_releaseDateStreaming_dayofweek.transform(X_whole['releaseDateStreaming_dayofweek'].array.reshape(-1,1))\n",
    "\n",
    "X_whole.fillna('', inplace=True)\n",
    "X_whole['reviewText_genre_originalLanguage'] = X_whole['reviewText'].astype(str) + \" \" + X_whole['genre'].astype(str) + \" \" + X_whole['originalLanguage'].astype(str)\n",
    "X_whole = X_whole.drop(['reviewText','genre','originalLanguage'], axis=1)"
   ]
  },
  {
   "cell_type": "code",
   "execution_count": 44,
   "id": "7e4a684a",
   "metadata": {
    "execution": {
     "iopub.execute_input": "2023-08-08T06:30:26.026935Z",
     "iopub.status.busy": "2023-08-08T06:30:26.026606Z",
     "iopub.status.idle": "2023-08-08T06:30:26.110392Z",
     "shell.execute_reply": "2023-08-08T06:30:26.108582Z"
    },
    "papermill": {
     "duration": 0.109648,
     "end_time": "2023-08-08T06:30:26.113177",
     "exception": false,
     "start_time": "2023-08-08T06:30:26.003529",
     "status": "completed"
    },
    "tags": []
   },
   "outputs": [
    {
     "data": {
      "text/html": [
       "<style>#sk-container-id-9 {color: black;background-color: white;}#sk-container-id-9 pre{padding: 0;}#sk-container-id-9 div.sk-toggleable {background-color: white;}#sk-container-id-9 label.sk-toggleable__label {cursor: pointer;display: block;width: 100%;margin-bottom: 0;padding: 0.3em;box-sizing: border-box;text-align: center;}#sk-container-id-9 label.sk-toggleable__label-arrow:before {content: \"▸\";float: left;margin-right: 0.25em;color: #696969;}#sk-container-id-9 label.sk-toggleable__label-arrow:hover:before {color: black;}#sk-container-id-9 div.sk-estimator:hover label.sk-toggleable__label-arrow:before {color: black;}#sk-container-id-9 div.sk-toggleable__content {max-height: 0;max-width: 0;overflow: hidden;text-align: left;background-color: #f0f8ff;}#sk-container-id-9 div.sk-toggleable__content pre {margin: 0.2em;color: black;border-radius: 0.25em;background-color: #f0f8ff;}#sk-container-id-9 input.sk-toggleable__control:checked~div.sk-toggleable__content {max-height: 200px;max-width: 100%;overflow: auto;}#sk-container-id-9 input.sk-toggleable__control:checked~label.sk-toggleable__label-arrow:before {content: \"▾\";}#sk-container-id-9 div.sk-estimator input.sk-toggleable__control:checked~label.sk-toggleable__label {background-color: #d4ebff;}#sk-container-id-9 div.sk-label input.sk-toggleable__control:checked~label.sk-toggleable__label {background-color: #d4ebff;}#sk-container-id-9 input.sk-hidden--visually {border: 0;clip: rect(1px 1px 1px 1px);clip: rect(1px, 1px, 1px, 1px);height: 1px;margin: -1px;overflow: hidden;padding: 0;position: absolute;width: 1px;}#sk-container-id-9 div.sk-estimator {font-family: monospace;background-color: #f0f8ff;border: 1px dotted black;border-radius: 0.25em;box-sizing: border-box;margin-bottom: 0.5em;}#sk-container-id-9 div.sk-estimator:hover {background-color: #d4ebff;}#sk-container-id-9 div.sk-parallel-item::after {content: \"\";width: 100%;border-bottom: 1px solid gray;flex-grow: 1;}#sk-container-id-9 div.sk-label:hover label.sk-toggleable__label {background-color: #d4ebff;}#sk-container-id-9 div.sk-serial::before {content: \"\";position: absolute;border-left: 1px solid gray;box-sizing: border-box;top: 0;bottom: 0;left: 50%;z-index: 0;}#sk-container-id-9 div.sk-serial {display: flex;flex-direction: column;align-items: center;background-color: white;padding-right: 0.2em;padding-left: 0.2em;position: relative;}#sk-container-id-9 div.sk-item {position: relative;z-index: 1;}#sk-container-id-9 div.sk-parallel {display: flex;align-items: stretch;justify-content: center;background-color: white;position: relative;}#sk-container-id-9 div.sk-item::before, #sk-container-id-9 div.sk-parallel-item::before {content: \"\";position: absolute;border-left: 1px solid gray;box-sizing: border-box;top: 0;bottom: 0;left: 50%;z-index: -1;}#sk-container-id-9 div.sk-parallel-item {display: flex;flex-direction: column;z-index: 1;position: relative;background-color: white;}#sk-container-id-9 div.sk-parallel-item:first-child::after {align-self: flex-end;width: 50%;}#sk-container-id-9 div.sk-parallel-item:last-child::after {align-self: flex-start;width: 50%;}#sk-container-id-9 div.sk-parallel-item:only-child::after {width: 0;}#sk-container-id-9 div.sk-dashed-wrapped {border: 1px dashed gray;margin: 0 0.4em 0.5em 0.4em;box-sizing: border-box;padding-bottom: 0.4em;background-color: white;}#sk-container-id-9 div.sk-label label {font-family: monospace;font-weight: bold;display: inline-block;line-height: 1.2em;}#sk-container-id-9 div.sk-label-container {text-align: center;}#sk-container-id-9 div.sk-container {/* jupyter's `normalize.less` sets `[hidden] { display: none; }` but bootstrap.min.css set `[hidden] { display: none !important; }` so we also need the `!important` here to be able to override the default hidden behavior on the sphinx rendered scikit-learn.org. See: https://github.com/scikit-learn/scikit-learn/issues/21755 */display: inline-block !important;position: relative;}#sk-container-id-9 div.sk-text-repr-fallback {display: none;}</style><div id=\"sk-container-id-9\" class=\"sk-top-container\"><div class=\"sk-text-repr-fallback\"><pre>Pipeline(steps=[(&#x27;ct&#x27;,\n",
       "                 ColumnTransformer(remainder=&#x27;passthrough&#x27;,\n",
       "                                   transformers=[(&#x27;reviewText_genre_originalLanguage&#x27;,\n",
       "                                                  Pipeline(steps=[(&#x27;squeez&#x27;,\n",
       "                                                                   FunctionTransformer(func=&lt;function &lt;lambda&gt; at 0x797213780af0&gt;)),\n",
       "                                                                  (&#x27;tfidf&#x27;,\n",
       "                                                                   TfidfVectorizer(max_features=10000,\n",
       "                                                                                   stop_words=&#x27;english&#x27;)),\n",
       "                                                                  (&#x27;toarray&#x27;,\n",
       "                                                                   FunctionTransformer(func=&lt;function &lt;lambda&gt; at 0x797213780a60&gt;))]),\n",
       "                                                  [&#x27;reviewText_genre_originalLanguage&#x27;])])),\n",
       "                (&#x27;minmax&#x27;, MinMaxScaler()),\n",
       "                (&#x27;chi&#x27;,\n",
       "                 SelectKBest(k=&#x27;all&#x27;,\n",
       "                             score_func=&lt;function chi2 at 0x797224af7010&gt;)),\n",
       "                (&#x27;multinomial&#x27;, MultinomialNB())])</pre><b>In a Jupyter environment, please rerun this cell to show the HTML representation or trust the notebook. <br />On GitHub, the HTML representation is unable to render, please try loading this page with nbviewer.org.</b></div><div class=\"sk-container\" hidden><div class=\"sk-item sk-dashed-wrapped\"><div class=\"sk-label-container\"><div class=\"sk-label sk-toggleable\"><input class=\"sk-toggleable__control sk-hidden--visually\" id=\"sk-estimator-id-89\" type=\"checkbox\" ><label for=\"sk-estimator-id-89\" class=\"sk-toggleable__label sk-toggleable__label-arrow\">Pipeline</label><div class=\"sk-toggleable__content\"><pre>Pipeline(steps=[(&#x27;ct&#x27;,\n",
       "                 ColumnTransformer(remainder=&#x27;passthrough&#x27;,\n",
       "                                   transformers=[(&#x27;reviewText_genre_originalLanguage&#x27;,\n",
       "                                                  Pipeline(steps=[(&#x27;squeez&#x27;,\n",
       "                                                                   FunctionTransformer(func=&lt;function &lt;lambda&gt; at 0x797213780af0&gt;)),\n",
       "                                                                  (&#x27;tfidf&#x27;,\n",
       "                                                                   TfidfVectorizer(max_features=10000,\n",
       "                                                                                   stop_words=&#x27;english&#x27;)),\n",
       "                                                                  (&#x27;toarray&#x27;,\n",
       "                                                                   FunctionTransformer(func=&lt;function &lt;lambda&gt; at 0x797213780a60&gt;))]),\n",
       "                                                  [&#x27;reviewText_genre_originalLanguage&#x27;])])),\n",
       "                (&#x27;minmax&#x27;, MinMaxScaler()),\n",
       "                (&#x27;chi&#x27;,\n",
       "                 SelectKBest(k=&#x27;all&#x27;,\n",
       "                             score_func=&lt;function chi2 at 0x797224af7010&gt;)),\n",
       "                (&#x27;multinomial&#x27;, MultinomialNB())])</pre></div></div></div><div class=\"sk-serial\"><div class=\"sk-item sk-dashed-wrapped\"><div class=\"sk-label-container\"><div class=\"sk-label sk-toggleable\"><input class=\"sk-toggleable__control sk-hidden--visually\" id=\"sk-estimator-id-90\" type=\"checkbox\" ><label for=\"sk-estimator-id-90\" class=\"sk-toggleable__label sk-toggleable__label-arrow\">ct: ColumnTransformer</label><div class=\"sk-toggleable__content\"><pre>ColumnTransformer(remainder=&#x27;passthrough&#x27;,\n",
       "                  transformers=[(&#x27;reviewText_genre_originalLanguage&#x27;,\n",
       "                                 Pipeline(steps=[(&#x27;squeez&#x27;,\n",
       "                                                  FunctionTransformer(func=&lt;function &lt;lambda&gt; at 0x797213780af0&gt;)),\n",
       "                                                 (&#x27;tfidf&#x27;,\n",
       "                                                  TfidfVectorizer(max_features=10000,\n",
       "                                                                  stop_words=&#x27;english&#x27;)),\n",
       "                                                 (&#x27;toarray&#x27;,\n",
       "                                                  FunctionTransformer(func=&lt;function &lt;lambda&gt; at 0x797213780a60&gt;))]),\n",
       "                                 [&#x27;reviewText_genre_originalLanguage&#x27;])])</pre></div></div></div><div class=\"sk-parallel\"><div class=\"sk-parallel-item\"><div class=\"sk-item\"><div class=\"sk-label-container\"><div class=\"sk-label sk-toggleable\"><input class=\"sk-toggleable__control sk-hidden--visually\" id=\"sk-estimator-id-91\" type=\"checkbox\" ><label for=\"sk-estimator-id-91\" class=\"sk-toggleable__label sk-toggleable__label-arrow\">reviewText_genre_originalLanguage</label><div class=\"sk-toggleable__content\"><pre>[&#x27;reviewText_genre_originalLanguage&#x27;]</pre></div></div></div><div class=\"sk-serial\"><div class=\"sk-item\"><div class=\"sk-serial\"><div class=\"sk-item\"><div class=\"sk-estimator sk-toggleable\"><input class=\"sk-toggleable__control sk-hidden--visually\" id=\"sk-estimator-id-92\" type=\"checkbox\" ><label for=\"sk-estimator-id-92\" class=\"sk-toggleable__label sk-toggleable__label-arrow\">FunctionTransformer</label><div class=\"sk-toggleable__content\"><pre>FunctionTransformer(func=&lt;function &lt;lambda&gt; at 0x797213780af0&gt;)</pre></div></div></div><div class=\"sk-item\"><div class=\"sk-estimator sk-toggleable\"><input class=\"sk-toggleable__control sk-hidden--visually\" id=\"sk-estimator-id-93\" type=\"checkbox\" ><label for=\"sk-estimator-id-93\" class=\"sk-toggleable__label sk-toggleable__label-arrow\">TfidfVectorizer</label><div class=\"sk-toggleable__content\"><pre>TfidfVectorizer(max_features=10000, stop_words=&#x27;english&#x27;)</pre></div></div></div><div class=\"sk-item\"><div class=\"sk-estimator sk-toggleable\"><input class=\"sk-toggleable__control sk-hidden--visually\" id=\"sk-estimator-id-94\" type=\"checkbox\" ><label for=\"sk-estimator-id-94\" class=\"sk-toggleable__label sk-toggleable__label-arrow\">FunctionTransformer</label><div class=\"sk-toggleable__content\"><pre>FunctionTransformer(func=&lt;function &lt;lambda&gt; at 0x797213780a60&gt;)</pre></div></div></div></div></div></div></div></div><div class=\"sk-parallel-item\"><div class=\"sk-item\"><div class=\"sk-label-container\"><div class=\"sk-label sk-toggleable\"><input class=\"sk-toggleable__control sk-hidden--visually\" id=\"sk-estimator-id-95\" type=\"checkbox\" ><label for=\"sk-estimator-id-95\" class=\"sk-toggleable__label sk-toggleable__label-arrow\">remainder</label><div class=\"sk-toggleable__content\"><pre></pre></div></div></div><div class=\"sk-serial\"><div class=\"sk-item\"><div class=\"sk-estimator sk-toggleable\"><input class=\"sk-toggleable__control sk-hidden--visually\" id=\"sk-estimator-id-96\" type=\"checkbox\" ><label for=\"sk-estimator-id-96\" class=\"sk-toggleable__label sk-toggleable__label-arrow\">passthrough</label><div class=\"sk-toggleable__content\"><pre>passthrough</pre></div></div></div></div></div></div></div></div><div class=\"sk-item\"><div class=\"sk-estimator sk-toggleable\"><input class=\"sk-toggleable__control sk-hidden--visually\" id=\"sk-estimator-id-97\" type=\"checkbox\" ><label for=\"sk-estimator-id-97\" class=\"sk-toggleable__label sk-toggleable__label-arrow\">MinMaxScaler</label><div class=\"sk-toggleable__content\"><pre>MinMaxScaler()</pre></div></div></div><div class=\"sk-item\"><div class=\"sk-estimator sk-toggleable\"><input class=\"sk-toggleable__control sk-hidden--visually\" id=\"sk-estimator-id-98\" type=\"checkbox\" ><label for=\"sk-estimator-id-98\" class=\"sk-toggleable__label sk-toggleable__label-arrow\">SelectKBest</label><div class=\"sk-toggleable__content\"><pre>SelectKBest(k=&#x27;all&#x27;, score_func=&lt;function chi2 at 0x797224af7010&gt;)</pre></div></div></div><div class=\"sk-item\"><div class=\"sk-estimator sk-toggleable\"><input class=\"sk-toggleable__control sk-hidden--visually\" id=\"sk-estimator-id-99\" type=\"checkbox\" ><label for=\"sk-estimator-id-99\" class=\"sk-toggleable__label sk-toggleable__label-arrow\">MultinomialNB</label><div class=\"sk-toggleable__content\"><pre>MultinomialNB()</pre></div></div></div></div></div></div></div>"
      ],
      "text/plain": [
       "Pipeline(steps=[('ct',\n",
       "                 ColumnTransformer(remainder='passthrough',\n",
       "                                   transformers=[('reviewText_genre_originalLanguage',\n",
       "                                                  Pipeline(steps=[('squeez',\n",
       "                                                                   FunctionTransformer(func=<function <lambda> at 0x797213780af0>)),\n",
       "                                                                  ('tfidf',\n",
       "                                                                   TfidfVectorizer(max_features=10000,\n",
       "                                                                                   stop_words='english')),\n",
       "                                                                  ('toarray',\n",
       "                                                                   FunctionTransformer(func=<function <lambda> at 0x797213780a60>))]),\n",
       "                                                  ['reviewText_genre_originalLanguage'])])),\n",
       "                ('minmax', MinMaxScaler()),\n",
       "                ('chi',\n",
       "                 SelectKBest(k='all',\n",
       "                             score_func=<function chi2 at 0x797224af7010>)),\n",
       "                ('multinomial', MultinomialNB())])"
      ]
     },
     "execution_count": 44,
     "metadata": {},
     "output_type": "execute_result"
    }
   ],
   "source": [
    "TextProcessor = Pipeline(steps=[\n",
    "    (\"squeez\", FunctionTransformer(lambda x: x.squeeze())),\n",
    "    (\"tfidf\", TfidfVectorizer(max_features = 10000,stop_words ='english')),\n",
    "    (\"toarray\", FunctionTransformer(lambda x: x.toarray())),\n",
    "])\n",
    "\n",
    "\n",
    "ct = ColumnTransformer([\n",
    "    ('reviewText_genre_originalLanguage', TextProcessor, ['reviewText_genre_originalLanguage']),\n",
    "],\n",
    "    remainder='passthrough'\n",
    ")\n",
    "\n",
    "# best_alpha = grid_search.best_params_['multinomial__alpha'] # from HPT\n",
    "\n",
    "clf_multinomial_HPTuned = Pipeline(steps=[\n",
    "    ('ct',ct),\n",
    "    ('minmax', MinMaxScaler()),\n",
    "    ('chi', SelectKBest(chi2, k='all')),\n",
    "    ('multinomial', MultinomialNB(alpha=1.0))\n",
    "])\n",
    "clf_multinomial_HPTuned"
   ]
  },
  {
   "cell_type": "code",
   "execution_count": 45,
   "id": "23d7796f",
   "metadata": {
    "execution": {
     "iopub.execute_input": "2023-08-08T06:30:26.161326Z",
     "iopub.status.busy": "2023-08-08T06:30:26.160475Z",
     "iopub.status.idle": "2023-08-08T06:30:59.549994Z",
     "shell.execute_reply": "2023-08-08T06:30:59.549234Z"
    },
    "papermill": {
     "duration": 33.437802,
     "end_time": "2023-08-08T06:30:59.574031",
     "exception": false,
     "start_time": "2023-08-08T06:30:26.136229",
     "status": "completed"
    },
    "tags": []
   },
   "outputs": [
    {
     "data": {
      "text/html": [
       "<style>#sk-container-id-10 {color: black;background-color: white;}#sk-container-id-10 pre{padding: 0;}#sk-container-id-10 div.sk-toggleable {background-color: white;}#sk-container-id-10 label.sk-toggleable__label {cursor: pointer;display: block;width: 100%;margin-bottom: 0;padding: 0.3em;box-sizing: border-box;text-align: center;}#sk-container-id-10 label.sk-toggleable__label-arrow:before {content: \"▸\";float: left;margin-right: 0.25em;color: #696969;}#sk-container-id-10 label.sk-toggleable__label-arrow:hover:before {color: black;}#sk-container-id-10 div.sk-estimator:hover label.sk-toggleable__label-arrow:before {color: black;}#sk-container-id-10 div.sk-toggleable__content {max-height: 0;max-width: 0;overflow: hidden;text-align: left;background-color: #f0f8ff;}#sk-container-id-10 div.sk-toggleable__content pre {margin: 0.2em;color: black;border-radius: 0.25em;background-color: #f0f8ff;}#sk-container-id-10 input.sk-toggleable__control:checked~div.sk-toggleable__content {max-height: 200px;max-width: 100%;overflow: auto;}#sk-container-id-10 input.sk-toggleable__control:checked~label.sk-toggleable__label-arrow:before {content: \"▾\";}#sk-container-id-10 div.sk-estimator input.sk-toggleable__control:checked~label.sk-toggleable__label {background-color: #d4ebff;}#sk-container-id-10 div.sk-label input.sk-toggleable__control:checked~label.sk-toggleable__label {background-color: #d4ebff;}#sk-container-id-10 input.sk-hidden--visually {border: 0;clip: rect(1px 1px 1px 1px);clip: rect(1px, 1px, 1px, 1px);height: 1px;margin: -1px;overflow: hidden;padding: 0;position: absolute;width: 1px;}#sk-container-id-10 div.sk-estimator {font-family: monospace;background-color: #f0f8ff;border: 1px dotted black;border-radius: 0.25em;box-sizing: border-box;margin-bottom: 0.5em;}#sk-container-id-10 div.sk-estimator:hover {background-color: #d4ebff;}#sk-container-id-10 div.sk-parallel-item::after {content: \"\";width: 100%;border-bottom: 1px solid gray;flex-grow: 1;}#sk-container-id-10 div.sk-label:hover label.sk-toggleable__label {background-color: #d4ebff;}#sk-container-id-10 div.sk-serial::before {content: \"\";position: absolute;border-left: 1px solid gray;box-sizing: border-box;top: 0;bottom: 0;left: 50%;z-index: 0;}#sk-container-id-10 div.sk-serial {display: flex;flex-direction: column;align-items: center;background-color: white;padding-right: 0.2em;padding-left: 0.2em;position: relative;}#sk-container-id-10 div.sk-item {position: relative;z-index: 1;}#sk-container-id-10 div.sk-parallel {display: flex;align-items: stretch;justify-content: center;background-color: white;position: relative;}#sk-container-id-10 div.sk-item::before, #sk-container-id-10 div.sk-parallel-item::before {content: \"\";position: absolute;border-left: 1px solid gray;box-sizing: border-box;top: 0;bottom: 0;left: 50%;z-index: -1;}#sk-container-id-10 div.sk-parallel-item {display: flex;flex-direction: column;z-index: 1;position: relative;background-color: white;}#sk-container-id-10 div.sk-parallel-item:first-child::after {align-self: flex-end;width: 50%;}#sk-container-id-10 div.sk-parallel-item:last-child::after {align-self: flex-start;width: 50%;}#sk-container-id-10 div.sk-parallel-item:only-child::after {width: 0;}#sk-container-id-10 div.sk-dashed-wrapped {border: 1px dashed gray;margin: 0 0.4em 0.5em 0.4em;box-sizing: border-box;padding-bottom: 0.4em;background-color: white;}#sk-container-id-10 div.sk-label label {font-family: monospace;font-weight: bold;display: inline-block;line-height: 1.2em;}#sk-container-id-10 div.sk-label-container {text-align: center;}#sk-container-id-10 div.sk-container {/* jupyter's `normalize.less` sets `[hidden] { display: none; }` but bootstrap.min.css set `[hidden] { display: none !important; }` so we also need the `!important` here to be able to override the default hidden behavior on the sphinx rendered scikit-learn.org. See: https://github.com/scikit-learn/scikit-learn/issues/21755 */display: inline-block !important;position: relative;}#sk-container-id-10 div.sk-text-repr-fallback {display: none;}</style><div id=\"sk-container-id-10\" class=\"sk-top-container\"><div class=\"sk-text-repr-fallback\"><pre>Pipeline(steps=[(&#x27;ct&#x27;,\n",
       "                 ColumnTransformer(remainder=&#x27;passthrough&#x27;,\n",
       "                                   transformers=[(&#x27;reviewText_genre_originalLanguage&#x27;,\n",
       "                                                  Pipeline(steps=[(&#x27;squeez&#x27;,\n",
       "                                                                   FunctionTransformer(func=&lt;function &lt;lambda&gt; at 0x797213780af0&gt;)),\n",
       "                                                                  (&#x27;tfidf&#x27;,\n",
       "                                                                   TfidfVectorizer(max_features=10000,\n",
       "                                                                                   stop_words=&#x27;english&#x27;)),\n",
       "                                                                  (&#x27;toarray&#x27;,\n",
       "                                                                   FunctionTransformer(func=&lt;function &lt;lambda&gt; at 0x797213780a60&gt;))]),\n",
       "                                                  [&#x27;reviewText_genre_originalLanguage&#x27;])])),\n",
       "                (&#x27;minmax&#x27;, MinMaxScaler()),\n",
       "                (&#x27;chi&#x27;,\n",
       "                 SelectKBest(k=&#x27;all&#x27;,\n",
       "                             score_func=&lt;function chi2 at 0x797224af7010&gt;)),\n",
       "                (&#x27;multinomial&#x27;, MultinomialNB())])</pre><b>In a Jupyter environment, please rerun this cell to show the HTML representation or trust the notebook. <br />On GitHub, the HTML representation is unable to render, please try loading this page with nbviewer.org.</b></div><div class=\"sk-container\" hidden><div class=\"sk-item sk-dashed-wrapped\"><div class=\"sk-label-container\"><div class=\"sk-label sk-toggleable\"><input class=\"sk-toggleable__control sk-hidden--visually\" id=\"sk-estimator-id-100\" type=\"checkbox\" ><label for=\"sk-estimator-id-100\" class=\"sk-toggleable__label sk-toggleable__label-arrow\">Pipeline</label><div class=\"sk-toggleable__content\"><pre>Pipeline(steps=[(&#x27;ct&#x27;,\n",
       "                 ColumnTransformer(remainder=&#x27;passthrough&#x27;,\n",
       "                                   transformers=[(&#x27;reviewText_genre_originalLanguage&#x27;,\n",
       "                                                  Pipeline(steps=[(&#x27;squeez&#x27;,\n",
       "                                                                   FunctionTransformer(func=&lt;function &lt;lambda&gt; at 0x797213780af0&gt;)),\n",
       "                                                                  (&#x27;tfidf&#x27;,\n",
       "                                                                   TfidfVectorizer(max_features=10000,\n",
       "                                                                                   stop_words=&#x27;english&#x27;)),\n",
       "                                                                  (&#x27;toarray&#x27;,\n",
       "                                                                   FunctionTransformer(func=&lt;function &lt;lambda&gt; at 0x797213780a60&gt;))]),\n",
       "                                                  [&#x27;reviewText_genre_originalLanguage&#x27;])])),\n",
       "                (&#x27;minmax&#x27;, MinMaxScaler()),\n",
       "                (&#x27;chi&#x27;,\n",
       "                 SelectKBest(k=&#x27;all&#x27;,\n",
       "                             score_func=&lt;function chi2 at 0x797224af7010&gt;)),\n",
       "                (&#x27;multinomial&#x27;, MultinomialNB())])</pre></div></div></div><div class=\"sk-serial\"><div class=\"sk-item sk-dashed-wrapped\"><div class=\"sk-label-container\"><div class=\"sk-label sk-toggleable\"><input class=\"sk-toggleable__control sk-hidden--visually\" id=\"sk-estimator-id-101\" type=\"checkbox\" ><label for=\"sk-estimator-id-101\" class=\"sk-toggleable__label sk-toggleable__label-arrow\">ct: ColumnTransformer</label><div class=\"sk-toggleable__content\"><pre>ColumnTransformer(remainder=&#x27;passthrough&#x27;,\n",
       "                  transformers=[(&#x27;reviewText_genre_originalLanguage&#x27;,\n",
       "                                 Pipeline(steps=[(&#x27;squeez&#x27;,\n",
       "                                                  FunctionTransformer(func=&lt;function &lt;lambda&gt; at 0x797213780af0&gt;)),\n",
       "                                                 (&#x27;tfidf&#x27;,\n",
       "                                                  TfidfVectorizer(max_features=10000,\n",
       "                                                                  stop_words=&#x27;english&#x27;)),\n",
       "                                                 (&#x27;toarray&#x27;,\n",
       "                                                  FunctionTransformer(func=&lt;function &lt;lambda&gt; at 0x797213780a60&gt;))]),\n",
       "                                 [&#x27;reviewText_genre_originalLanguage&#x27;])])</pre></div></div></div><div class=\"sk-parallel\"><div class=\"sk-parallel-item\"><div class=\"sk-item\"><div class=\"sk-label-container\"><div class=\"sk-label sk-toggleable\"><input class=\"sk-toggleable__control sk-hidden--visually\" id=\"sk-estimator-id-102\" type=\"checkbox\" ><label for=\"sk-estimator-id-102\" class=\"sk-toggleable__label sk-toggleable__label-arrow\">reviewText_genre_originalLanguage</label><div class=\"sk-toggleable__content\"><pre>[&#x27;reviewText_genre_originalLanguage&#x27;]</pre></div></div></div><div class=\"sk-serial\"><div class=\"sk-item\"><div class=\"sk-serial\"><div class=\"sk-item\"><div class=\"sk-estimator sk-toggleable\"><input class=\"sk-toggleable__control sk-hidden--visually\" id=\"sk-estimator-id-103\" type=\"checkbox\" ><label for=\"sk-estimator-id-103\" class=\"sk-toggleable__label sk-toggleable__label-arrow\">FunctionTransformer</label><div class=\"sk-toggleable__content\"><pre>FunctionTransformer(func=&lt;function &lt;lambda&gt; at 0x797213780af0&gt;)</pre></div></div></div><div class=\"sk-item\"><div class=\"sk-estimator sk-toggleable\"><input class=\"sk-toggleable__control sk-hidden--visually\" id=\"sk-estimator-id-104\" type=\"checkbox\" ><label for=\"sk-estimator-id-104\" class=\"sk-toggleable__label sk-toggleable__label-arrow\">TfidfVectorizer</label><div class=\"sk-toggleable__content\"><pre>TfidfVectorizer(max_features=10000, stop_words=&#x27;english&#x27;)</pre></div></div></div><div class=\"sk-item\"><div class=\"sk-estimator sk-toggleable\"><input class=\"sk-toggleable__control sk-hidden--visually\" id=\"sk-estimator-id-105\" type=\"checkbox\" ><label for=\"sk-estimator-id-105\" class=\"sk-toggleable__label sk-toggleable__label-arrow\">FunctionTransformer</label><div class=\"sk-toggleable__content\"><pre>FunctionTransformer(func=&lt;function &lt;lambda&gt; at 0x797213780a60&gt;)</pre></div></div></div></div></div></div></div></div><div class=\"sk-parallel-item\"><div class=\"sk-item\"><div class=\"sk-label-container\"><div class=\"sk-label sk-toggleable\"><input class=\"sk-toggleable__control sk-hidden--visually\" id=\"sk-estimator-id-106\" type=\"checkbox\" ><label for=\"sk-estimator-id-106\" class=\"sk-toggleable__label sk-toggleable__label-arrow\">remainder</label><div class=\"sk-toggleable__content\"><pre>[&#x27;isFrequentReviewer&#x27;, &#x27;audienceScore&#x27;, &#x27;runtimeMinutes&#x27;, &#x27;releaseDateTheaters_month&#x27;, &#x27;releaseDateTheaters_dayofweek&#x27;, &#x27;releaseDateStreaming_month&#x27;, &#x27;releaseDateStreaming_dayofweek&#x27;]</pre></div></div></div><div class=\"sk-serial\"><div class=\"sk-item\"><div class=\"sk-estimator sk-toggleable\"><input class=\"sk-toggleable__control sk-hidden--visually\" id=\"sk-estimator-id-107\" type=\"checkbox\" ><label for=\"sk-estimator-id-107\" class=\"sk-toggleable__label sk-toggleable__label-arrow\">passthrough</label><div class=\"sk-toggleable__content\"><pre>passthrough</pre></div></div></div></div></div></div></div></div><div class=\"sk-item\"><div class=\"sk-estimator sk-toggleable\"><input class=\"sk-toggleable__control sk-hidden--visually\" id=\"sk-estimator-id-108\" type=\"checkbox\" ><label for=\"sk-estimator-id-108\" class=\"sk-toggleable__label sk-toggleable__label-arrow\">MinMaxScaler</label><div class=\"sk-toggleable__content\"><pre>MinMaxScaler()</pre></div></div></div><div class=\"sk-item\"><div class=\"sk-estimator sk-toggleable\"><input class=\"sk-toggleable__control sk-hidden--visually\" id=\"sk-estimator-id-109\" type=\"checkbox\" ><label for=\"sk-estimator-id-109\" class=\"sk-toggleable__label sk-toggleable__label-arrow\">SelectKBest</label><div class=\"sk-toggleable__content\"><pre>SelectKBest(k=&#x27;all&#x27;, score_func=&lt;function chi2 at 0x797224af7010&gt;)</pre></div></div></div><div class=\"sk-item\"><div class=\"sk-estimator sk-toggleable\"><input class=\"sk-toggleable__control sk-hidden--visually\" id=\"sk-estimator-id-110\" type=\"checkbox\" ><label for=\"sk-estimator-id-110\" class=\"sk-toggleable__label sk-toggleable__label-arrow\">MultinomialNB</label><div class=\"sk-toggleable__content\"><pre>MultinomialNB()</pre></div></div></div></div></div></div></div>"
      ],
      "text/plain": [
       "Pipeline(steps=[('ct',\n",
       "                 ColumnTransformer(remainder='passthrough',\n",
       "                                   transformers=[('reviewText_genre_originalLanguage',\n",
       "                                                  Pipeline(steps=[('squeez',\n",
       "                                                                   FunctionTransformer(func=<function <lambda> at 0x797213780af0>)),\n",
       "                                                                  ('tfidf',\n",
       "                                                                   TfidfVectorizer(max_features=10000,\n",
       "                                                                                   stop_words='english')),\n",
       "                                                                  ('toarray',\n",
       "                                                                   FunctionTransformer(func=<function <lambda> at 0x797213780a60>))]),\n",
       "                                                  ['reviewText_genre_originalLanguage'])])),\n",
       "                ('minmax', MinMaxScaler()),\n",
       "                ('chi',\n",
       "                 SelectKBest(k='all',\n",
       "                             score_func=<function chi2 at 0x797224af7010>)),\n",
       "                ('multinomial', MultinomialNB())])"
      ]
     },
     "execution_count": 45,
     "metadata": {},
     "output_type": "execute_result"
    }
   ],
   "source": [
    "clf_multinomial_HPTuned.fit(X_whole, y_whole)"
   ]
  },
  {
   "cell_type": "code",
   "execution_count": 46,
   "id": "02654315",
   "metadata": {
    "execution": {
     "iopub.execute_input": "2023-08-08T06:30:59.620584Z",
     "iopub.status.busy": "2023-08-08T06:30:59.619977Z",
     "iopub.status.idle": "2023-08-08T06:31:21.734902Z",
     "shell.execute_reply": "2023-08-08T06:31:21.733938Z"
    },
    "papermill": {
     "duration": 22.140761,
     "end_time": "2023-08-08T06:31:21.737007",
     "exception": false,
     "start_time": "2023-08-08T06:30:59.596246",
     "status": "completed"
    },
    "tags": []
   },
   "outputs": [
    {
     "name": "stdout",
     "output_type": "stream",
     "text": [
      "0.8002371619213802\n"
     ]
    }
   ],
   "source": [
    "print(clf_multinomial_HPTuned.score(X_whole, y_whole))"
   ]
  },
  {
   "cell_type": "markdown",
   "id": "bfc8ac40",
   "metadata": {
    "papermill": {
     "duration": 0.028973,
     "end_time": "2023-08-08T06:31:21.795568",
     "exception": false,
     "start_time": "2023-08-08T06:31:21.766595",
     "status": "completed"
    },
    "tags": []
   },
   "source": [
    "0.8002371619213802"
   ]
  },
  {
   "cell_type": "markdown",
   "id": "9d96f679",
   "metadata": {
    "papermill": {
     "duration": 0.022177,
     "end_time": "2023-08-08T06:31:21.843401",
     "exception": false,
     "start_time": "2023-08-08T06:31:21.821224",
     "status": "completed"
    },
    "tags": []
   },
   "source": [
    "# Perceptron"
   ]
  },
  {
   "cell_type": "code",
   "execution_count": 47,
   "id": "08107b03",
   "metadata": {
    "execution": {
     "iopub.execute_input": "2023-08-08T06:31:21.889013Z",
     "iopub.status.busy": "2023-08-08T06:31:21.888694Z",
     "iopub.status.idle": "2023-08-08T06:31:21.971475Z",
     "shell.execute_reply": "2023-08-08T06:31:21.970514Z"
    },
    "papermill": {
     "duration": 0.107675,
     "end_time": "2023-08-08T06:31:21.973256",
     "exception": false,
     "start_time": "2023-08-08T06:31:21.865581",
     "status": "completed"
    },
    "tags": []
   },
   "outputs": [
    {
     "data": {
      "text/html": [
       "<style>#sk-container-id-11 {color: black;background-color: white;}#sk-container-id-11 pre{padding: 0;}#sk-container-id-11 div.sk-toggleable {background-color: white;}#sk-container-id-11 label.sk-toggleable__label {cursor: pointer;display: block;width: 100%;margin-bottom: 0;padding: 0.3em;box-sizing: border-box;text-align: center;}#sk-container-id-11 label.sk-toggleable__label-arrow:before {content: \"▸\";float: left;margin-right: 0.25em;color: #696969;}#sk-container-id-11 label.sk-toggleable__label-arrow:hover:before {color: black;}#sk-container-id-11 div.sk-estimator:hover label.sk-toggleable__label-arrow:before {color: black;}#sk-container-id-11 div.sk-toggleable__content {max-height: 0;max-width: 0;overflow: hidden;text-align: left;background-color: #f0f8ff;}#sk-container-id-11 div.sk-toggleable__content pre {margin: 0.2em;color: black;border-radius: 0.25em;background-color: #f0f8ff;}#sk-container-id-11 input.sk-toggleable__control:checked~div.sk-toggleable__content {max-height: 200px;max-width: 100%;overflow: auto;}#sk-container-id-11 input.sk-toggleable__control:checked~label.sk-toggleable__label-arrow:before {content: \"▾\";}#sk-container-id-11 div.sk-estimator input.sk-toggleable__control:checked~label.sk-toggleable__label {background-color: #d4ebff;}#sk-container-id-11 div.sk-label input.sk-toggleable__control:checked~label.sk-toggleable__label {background-color: #d4ebff;}#sk-container-id-11 input.sk-hidden--visually {border: 0;clip: rect(1px 1px 1px 1px);clip: rect(1px, 1px, 1px, 1px);height: 1px;margin: -1px;overflow: hidden;padding: 0;position: absolute;width: 1px;}#sk-container-id-11 div.sk-estimator {font-family: monospace;background-color: #f0f8ff;border: 1px dotted black;border-radius: 0.25em;box-sizing: border-box;margin-bottom: 0.5em;}#sk-container-id-11 div.sk-estimator:hover {background-color: #d4ebff;}#sk-container-id-11 div.sk-parallel-item::after {content: \"\";width: 100%;border-bottom: 1px solid gray;flex-grow: 1;}#sk-container-id-11 div.sk-label:hover label.sk-toggleable__label {background-color: #d4ebff;}#sk-container-id-11 div.sk-serial::before {content: \"\";position: absolute;border-left: 1px solid gray;box-sizing: border-box;top: 0;bottom: 0;left: 50%;z-index: 0;}#sk-container-id-11 div.sk-serial {display: flex;flex-direction: column;align-items: center;background-color: white;padding-right: 0.2em;padding-left: 0.2em;position: relative;}#sk-container-id-11 div.sk-item {position: relative;z-index: 1;}#sk-container-id-11 div.sk-parallel {display: flex;align-items: stretch;justify-content: center;background-color: white;position: relative;}#sk-container-id-11 div.sk-item::before, #sk-container-id-11 div.sk-parallel-item::before {content: \"\";position: absolute;border-left: 1px solid gray;box-sizing: border-box;top: 0;bottom: 0;left: 50%;z-index: -1;}#sk-container-id-11 div.sk-parallel-item {display: flex;flex-direction: column;z-index: 1;position: relative;background-color: white;}#sk-container-id-11 div.sk-parallel-item:first-child::after {align-self: flex-end;width: 50%;}#sk-container-id-11 div.sk-parallel-item:last-child::after {align-self: flex-start;width: 50%;}#sk-container-id-11 div.sk-parallel-item:only-child::after {width: 0;}#sk-container-id-11 div.sk-dashed-wrapped {border: 1px dashed gray;margin: 0 0.4em 0.5em 0.4em;box-sizing: border-box;padding-bottom: 0.4em;background-color: white;}#sk-container-id-11 div.sk-label label {font-family: monospace;font-weight: bold;display: inline-block;line-height: 1.2em;}#sk-container-id-11 div.sk-label-container {text-align: center;}#sk-container-id-11 div.sk-container {/* jupyter's `normalize.less` sets `[hidden] { display: none; }` but bootstrap.min.css set `[hidden] { display: none !important; }` so we also need the `!important` here to be able to override the default hidden behavior on the sphinx rendered scikit-learn.org. See: https://github.com/scikit-learn/scikit-learn/issues/21755 */display: inline-block !important;position: relative;}#sk-container-id-11 div.sk-text-repr-fallback {display: none;}</style><div id=\"sk-container-id-11\" class=\"sk-top-container\"><div class=\"sk-text-repr-fallback\"><pre>Pipeline(steps=[(&#x27;ct&#x27;,\n",
       "                 ColumnTransformer(remainder=&#x27;passthrough&#x27;,\n",
       "                                   transformers=[(&#x27;reviewText_genre_originalLanguage&#x27;,\n",
       "                                                  Pipeline(steps=[(&#x27;squeez&#x27;,\n",
       "                                                                   FunctionTransformer(func=&lt;function &lt;lambda&gt; at 0x797213780940&gt;)),\n",
       "                                                                  (&#x27;tfidf&#x27;,\n",
       "                                                                   TfidfVectorizer(max_features=5000,\n",
       "                                                                                   stop_words=&#x27;english&#x27;)),\n",
       "                                                                  (&#x27;toarray&#x27;,\n",
       "                                                                   FunctionTransformer(func=&lt;function &lt;lambda&gt; at 0x7972137808b0&gt;))]),\n",
       "                                                  [&#x27;reviewText_genre_originalLanguage&#x27;])])),\n",
       "                (&#x27;minmax&#x27;, MinMaxScaler()),\n",
       "                (&#x27;chi&#x27;,\n",
       "                 SelectKBest(k=5000,\n",
       "                             score_func=&lt;function chi2 at 0x797224af7010&gt;)),\n",
       "                (&#x27;multinomial&#x27;, Perceptron())])</pre><b>In a Jupyter environment, please rerun this cell to show the HTML representation or trust the notebook. <br />On GitHub, the HTML representation is unable to render, please try loading this page with nbviewer.org.</b></div><div class=\"sk-container\" hidden><div class=\"sk-item sk-dashed-wrapped\"><div class=\"sk-label-container\"><div class=\"sk-label sk-toggleable\"><input class=\"sk-toggleable__control sk-hidden--visually\" id=\"sk-estimator-id-111\" type=\"checkbox\" ><label for=\"sk-estimator-id-111\" class=\"sk-toggleable__label sk-toggleable__label-arrow\">Pipeline</label><div class=\"sk-toggleable__content\"><pre>Pipeline(steps=[(&#x27;ct&#x27;,\n",
       "                 ColumnTransformer(remainder=&#x27;passthrough&#x27;,\n",
       "                                   transformers=[(&#x27;reviewText_genre_originalLanguage&#x27;,\n",
       "                                                  Pipeline(steps=[(&#x27;squeez&#x27;,\n",
       "                                                                   FunctionTransformer(func=&lt;function &lt;lambda&gt; at 0x797213780940&gt;)),\n",
       "                                                                  (&#x27;tfidf&#x27;,\n",
       "                                                                   TfidfVectorizer(max_features=5000,\n",
       "                                                                                   stop_words=&#x27;english&#x27;)),\n",
       "                                                                  (&#x27;toarray&#x27;,\n",
       "                                                                   FunctionTransformer(func=&lt;function &lt;lambda&gt; at 0x7972137808b0&gt;))]),\n",
       "                                                  [&#x27;reviewText_genre_originalLanguage&#x27;])])),\n",
       "                (&#x27;minmax&#x27;, MinMaxScaler()),\n",
       "                (&#x27;chi&#x27;,\n",
       "                 SelectKBest(k=5000,\n",
       "                             score_func=&lt;function chi2 at 0x797224af7010&gt;)),\n",
       "                (&#x27;multinomial&#x27;, Perceptron())])</pre></div></div></div><div class=\"sk-serial\"><div class=\"sk-item sk-dashed-wrapped\"><div class=\"sk-label-container\"><div class=\"sk-label sk-toggleable\"><input class=\"sk-toggleable__control sk-hidden--visually\" id=\"sk-estimator-id-112\" type=\"checkbox\" ><label for=\"sk-estimator-id-112\" class=\"sk-toggleable__label sk-toggleable__label-arrow\">ct: ColumnTransformer</label><div class=\"sk-toggleable__content\"><pre>ColumnTransformer(remainder=&#x27;passthrough&#x27;,\n",
       "                  transformers=[(&#x27;reviewText_genre_originalLanguage&#x27;,\n",
       "                                 Pipeline(steps=[(&#x27;squeez&#x27;,\n",
       "                                                  FunctionTransformer(func=&lt;function &lt;lambda&gt; at 0x797213780940&gt;)),\n",
       "                                                 (&#x27;tfidf&#x27;,\n",
       "                                                  TfidfVectorizer(max_features=5000,\n",
       "                                                                  stop_words=&#x27;english&#x27;)),\n",
       "                                                 (&#x27;toarray&#x27;,\n",
       "                                                  FunctionTransformer(func=&lt;function &lt;lambda&gt; at 0x7972137808b0&gt;))]),\n",
       "                                 [&#x27;reviewText_genre_originalLanguage&#x27;])])</pre></div></div></div><div class=\"sk-parallel\"><div class=\"sk-parallel-item\"><div class=\"sk-item\"><div class=\"sk-label-container\"><div class=\"sk-label sk-toggleable\"><input class=\"sk-toggleable__control sk-hidden--visually\" id=\"sk-estimator-id-113\" type=\"checkbox\" ><label for=\"sk-estimator-id-113\" class=\"sk-toggleable__label sk-toggleable__label-arrow\">reviewText_genre_originalLanguage</label><div class=\"sk-toggleable__content\"><pre>[&#x27;reviewText_genre_originalLanguage&#x27;]</pre></div></div></div><div class=\"sk-serial\"><div class=\"sk-item\"><div class=\"sk-serial\"><div class=\"sk-item\"><div class=\"sk-estimator sk-toggleable\"><input class=\"sk-toggleable__control sk-hidden--visually\" id=\"sk-estimator-id-114\" type=\"checkbox\" ><label for=\"sk-estimator-id-114\" class=\"sk-toggleable__label sk-toggleable__label-arrow\">FunctionTransformer</label><div class=\"sk-toggleable__content\"><pre>FunctionTransformer(func=&lt;function &lt;lambda&gt; at 0x797213780940&gt;)</pre></div></div></div><div class=\"sk-item\"><div class=\"sk-estimator sk-toggleable\"><input class=\"sk-toggleable__control sk-hidden--visually\" id=\"sk-estimator-id-115\" type=\"checkbox\" ><label for=\"sk-estimator-id-115\" class=\"sk-toggleable__label sk-toggleable__label-arrow\">TfidfVectorizer</label><div class=\"sk-toggleable__content\"><pre>TfidfVectorizer(max_features=5000, stop_words=&#x27;english&#x27;)</pre></div></div></div><div class=\"sk-item\"><div class=\"sk-estimator sk-toggleable\"><input class=\"sk-toggleable__control sk-hidden--visually\" id=\"sk-estimator-id-116\" type=\"checkbox\" ><label for=\"sk-estimator-id-116\" class=\"sk-toggleable__label sk-toggleable__label-arrow\">FunctionTransformer</label><div class=\"sk-toggleable__content\"><pre>FunctionTransformer(func=&lt;function &lt;lambda&gt; at 0x7972137808b0&gt;)</pre></div></div></div></div></div></div></div></div><div class=\"sk-parallel-item\"><div class=\"sk-item\"><div class=\"sk-label-container\"><div class=\"sk-label sk-toggleable\"><input class=\"sk-toggleable__control sk-hidden--visually\" id=\"sk-estimator-id-117\" type=\"checkbox\" ><label for=\"sk-estimator-id-117\" class=\"sk-toggleable__label sk-toggleable__label-arrow\">remainder</label><div class=\"sk-toggleable__content\"><pre></pre></div></div></div><div class=\"sk-serial\"><div class=\"sk-item\"><div class=\"sk-estimator sk-toggleable\"><input class=\"sk-toggleable__control sk-hidden--visually\" id=\"sk-estimator-id-118\" type=\"checkbox\" ><label for=\"sk-estimator-id-118\" class=\"sk-toggleable__label sk-toggleable__label-arrow\">passthrough</label><div class=\"sk-toggleable__content\"><pre>passthrough</pre></div></div></div></div></div></div></div></div><div class=\"sk-item\"><div class=\"sk-estimator sk-toggleable\"><input class=\"sk-toggleable__control sk-hidden--visually\" id=\"sk-estimator-id-119\" type=\"checkbox\" ><label for=\"sk-estimator-id-119\" class=\"sk-toggleable__label sk-toggleable__label-arrow\">MinMaxScaler</label><div class=\"sk-toggleable__content\"><pre>MinMaxScaler()</pre></div></div></div><div class=\"sk-item\"><div class=\"sk-estimator sk-toggleable\"><input class=\"sk-toggleable__control sk-hidden--visually\" id=\"sk-estimator-id-120\" type=\"checkbox\" ><label for=\"sk-estimator-id-120\" class=\"sk-toggleable__label sk-toggleable__label-arrow\">SelectKBest</label><div class=\"sk-toggleable__content\"><pre>SelectKBest(k=5000, score_func=&lt;function chi2 at 0x797224af7010&gt;)</pre></div></div></div><div class=\"sk-item\"><div class=\"sk-estimator sk-toggleable\"><input class=\"sk-toggleable__control sk-hidden--visually\" id=\"sk-estimator-id-121\" type=\"checkbox\" ><label for=\"sk-estimator-id-121\" class=\"sk-toggleable__label sk-toggleable__label-arrow\">Perceptron</label><div class=\"sk-toggleable__content\"><pre>Perceptron()</pre></div></div></div></div></div></div></div>"
      ],
      "text/plain": [
       "Pipeline(steps=[('ct',\n",
       "                 ColumnTransformer(remainder='passthrough',\n",
       "                                   transformers=[('reviewText_genre_originalLanguage',\n",
       "                                                  Pipeline(steps=[('squeez',\n",
       "                                                                   FunctionTransformer(func=<function <lambda> at 0x797213780940>)),\n",
       "                                                                  ('tfidf',\n",
       "                                                                   TfidfVectorizer(max_features=5000,\n",
       "                                                                                   stop_words='english')),\n",
       "                                                                  ('toarray',\n",
       "                                                                   FunctionTransformer(func=<function <lambda> at 0x7972137808b0>))]),\n",
       "                                                  ['reviewText_genre_originalLanguage'])])),\n",
       "                ('minmax', MinMaxScaler()),\n",
       "                ('chi',\n",
       "                 SelectKBest(k=5000,\n",
       "                             score_func=<function chi2 at 0x797224af7010>)),\n",
       "                ('multinomial', Perceptron())])"
      ]
     },
     "execution_count": 47,
     "metadata": {},
     "output_type": "execute_result"
    }
   ],
   "source": [
    "TextProcessor = Pipeline(steps=[\n",
    "    (\"squeez\", FunctionTransformer(lambda x: x.squeeze())),\n",
    "    (\"tfidf\", TfidfVectorizer(max_features = 5000,stop_words ='english')),\n",
    "    (\"toarray\", FunctionTransformer(lambda x: x.toarray())),\n",
    "])\n",
    "\n",
    "\n",
    "ct = ColumnTransformer([\n",
    "    ('reviewText_genre_originalLanguage', TextProcessor, ['reviewText_genre_originalLanguage']),\n",
    "],\n",
    "    remainder='passthrough'\n",
    ")\n",
    "\n",
    "clf_perceptron = Pipeline(steps=[\n",
    "    ('ct',ct),\n",
    "    ('minmax', MinMaxScaler()),\n",
    "    ('chi', SelectKBest(chi2, k=5000)),\n",
    "    ('multinomial', Perceptron())\n",
    "])\n",
    "clf_perceptron"
   ]
  },
  {
   "cell_type": "code",
   "execution_count": 48,
   "id": "a078d6ab",
   "metadata": {
    "execution": {
     "iopub.execute_input": "2023-08-08T06:31:22.020499Z",
     "iopub.status.busy": "2023-08-08T06:31:22.020093Z",
     "iopub.status.idle": "2023-08-08T06:31:22.024326Z",
     "shell.execute_reply": "2023-08-08T06:31:22.023134Z"
    },
    "papermill": {
     "duration": 0.030833,
     "end_time": "2023-08-08T06:31:22.026249",
     "exception": false,
     "start_time": "2023-08-08T06:31:21.995416",
     "status": "completed"
    },
    "tags": []
   },
   "outputs": [],
   "source": [
    "# clf_perceptron.fit(X_train,y_train)"
   ]
  },
  {
   "cell_type": "code",
   "execution_count": 49,
   "id": "5acb92ce",
   "metadata": {
    "execution": {
     "iopub.execute_input": "2023-08-08T06:31:22.072913Z",
     "iopub.status.busy": "2023-08-08T06:31:22.072547Z",
     "iopub.status.idle": "2023-08-08T06:31:22.076417Z",
     "shell.execute_reply": "2023-08-08T06:31:22.075449Z"
    },
    "papermill": {
     "duration": 0.029332,
     "end_time": "2023-08-08T06:31:22.078147",
     "exception": false,
     "start_time": "2023-08-08T06:31:22.048815",
     "status": "completed"
    },
    "tags": []
   },
   "outputs": [],
   "source": [
    "# print(clf_perceptron.score(X_train, y_train))\n",
    "# print(clf_perceptron.score(X_validate, y_validate))"
   ]
  },
  {
   "cell_type": "markdown",
   "id": "2f1bfec3",
   "metadata": {
    "papermill": {
     "duration": 0.023558,
     "end_time": "2023-08-08T06:31:22.124399",
     "exception": false,
     "start_time": "2023-08-08T06:31:22.100841",
     "status": "completed"
    },
    "tags": []
   },
   "source": [
    "score without MinMaxScaler;\n",
    "train: 0.539\n",
    "validate: 0.534\n",
    "\n",
    "score with MinMaxScaler;\n",
    "train: 0.78\n",
    "validate: 0.76"
   ]
  },
  {
   "cell_type": "markdown",
   "id": "8cfcbd7e",
   "metadata": {
    "papermill": {
     "duration": 0.022368,
     "end_time": "2023-08-08T06:31:22.169658",
     "exception": false,
     "start_time": "2023-08-08T06:31:22.147290",
     "status": "completed"
    },
    "tags": []
   },
   "source": [
    "# Decisiontree"
   ]
  },
  {
   "cell_type": "code",
   "execution_count": 50,
   "id": "468c4ded",
   "metadata": {
    "execution": {
     "iopub.execute_input": "2023-08-08T06:31:22.216520Z",
     "iopub.status.busy": "2023-08-08T06:31:22.215660Z",
     "iopub.status.idle": "2023-08-08T06:31:22.296609Z",
     "shell.execute_reply": "2023-08-08T06:31:22.295160Z"
    },
    "papermill": {
     "duration": 0.106813,
     "end_time": "2023-08-08T06:31:22.298975",
     "exception": false,
     "start_time": "2023-08-08T06:31:22.192162",
     "status": "completed"
    },
    "tags": []
   },
   "outputs": [
    {
     "data": {
      "text/html": [
       "<style>#sk-container-id-12 {color: black;background-color: white;}#sk-container-id-12 pre{padding: 0;}#sk-container-id-12 div.sk-toggleable {background-color: white;}#sk-container-id-12 label.sk-toggleable__label {cursor: pointer;display: block;width: 100%;margin-bottom: 0;padding: 0.3em;box-sizing: border-box;text-align: center;}#sk-container-id-12 label.sk-toggleable__label-arrow:before {content: \"▸\";float: left;margin-right: 0.25em;color: #696969;}#sk-container-id-12 label.sk-toggleable__label-arrow:hover:before {color: black;}#sk-container-id-12 div.sk-estimator:hover label.sk-toggleable__label-arrow:before {color: black;}#sk-container-id-12 div.sk-toggleable__content {max-height: 0;max-width: 0;overflow: hidden;text-align: left;background-color: #f0f8ff;}#sk-container-id-12 div.sk-toggleable__content pre {margin: 0.2em;color: black;border-radius: 0.25em;background-color: #f0f8ff;}#sk-container-id-12 input.sk-toggleable__control:checked~div.sk-toggleable__content {max-height: 200px;max-width: 100%;overflow: auto;}#sk-container-id-12 input.sk-toggleable__control:checked~label.sk-toggleable__label-arrow:before {content: \"▾\";}#sk-container-id-12 div.sk-estimator input.sk-toggleable__control:checked~label.sk-toggleable__label {background-color: #d4ebff;}#sk-container-id-12 div.sk-label input.sk-toggleable__control:checked~label.sk-toggleable__label {background-color: #d4ebff;}#sk-container-id-12 input.sk-hidden--visually {border: 0;clip: rect(1px 1px 1px 1px);clip: rect(1px, 1px, 1px, 1px);height: 1px;margin: -1px;overflow: hidden;padding: 0;position: absolute;width: 1px;}#sk-container-id-12 div.sk-estimator {font-family: monospace;background-color: #f0f8ff;border: 1px dotted black;border-radius: 0.25em;box-sizing: border-box;margin-bottom: 0.5em;}#sk-container-id-12 div.sk-estimator:hover {background-color: #d4ebff;}#sk-container-id-12 div.sk-parallel-item::after {content: \"\";width: 100%;border-bottom: 1px solid gray;flex-grow: 1;}#sk-container-id-12 div.sk-label:hover label.sk-toggleable__label {background-color: #d4ebff;}#sk-container-id-12 div.sk-serial::before {content: \"\";position: absolute;border-left: 1px solid gray;box-sizing: border-box;top: 0;bottom: 0;left: 50%;z-index: 0;}#sk-container-id-12 div.sk-serial {display: flex;flex-direction: column;align-items: center;background-color: white;padding-right: 0.2em;padding-left: 0.2em;position: relative;}#sk-container-id-12 div.sk-item {position: relative;z-index: 1;}#sk-container-id-12 div.sk-parallel {display: flex;align-items: stretch;justify-content: center;background-color: white;position: relative;}#sk-container-id-12 div.sk-item::before, #sk-container-id-12 div.sk-parallel-item::before {content: \"\";position: absolute;border-left: 1px solid gray;box-sizing: border-box;top: 0;bottom: 0;left: 50%;z-index: -1;}#sk-container-id-12 div.sk-parallel-item {display: flex;flex-direction: column;z-index: 1;position: relative;background-color: white;}#sk-container-id-12 div.sk-parallel-item:first-child::after {align-self: flex-end;width: 50%;}#sk-container-id-12 div.sk-parallel-item:last-child::after {align-self: flex-start;width: 50%;}#sk-container-id-12 div.sk-parallel-item:only-child::after {width: 0;}#sk-container-id-12 div.sk-dashed-wrapped {border: 1px dashed gray;margin: 0 0.4em 0.5em 0.4em;box-sizing: border-box;padding-bottom: 0.4em;background-color: white;}#sk-container-id-12 div.sk-label label {font-family: monospace;font-weight: bold;display: inline-block;line-height: 1.2em;}#sk-container-id-12 div.sk-label-container {text-align: center;}#sk-container-id-12 div.sk-container {/* jupyter's `normalize.less` sets `[hidden] { display: none; }` but bootstrap.min.css set `[hidden] { display: none !important; }` so we also need the `!important` here to be able to override the default hidden behavior on the sphinx rendered scikit-learn.org. See: https://github.com/scikit-learn/scikit-learn/issues/21755 */display: inline-block !important;position: relative;}#sk-container-id-12 div.sk-text-repr-fallback {display: none;}</style><div id=\"sk-container-id-12\" class=\"sk-top-container\"><div class=\"sk-text-repr-fallback\"><pre>Pipeline(steps=[(&#x27;ct&#x27;,\n",
       "                 ColumnTransformer(remainder=&#x27;passthrough&#x27;,\n",
       "                                   transformers=[(&#x27;reviewText_genre_originalLanguage&#x27;,\n",
       "                                                  Pipeline(steps=[(&#x27;squeez&#x27;,\n",
       "                                                                   FunctionTransformer(func=&lt;function &lt;lambda&gt; at 0x797213780ca0&gt;)),\n",
       "                                                                  (&#x27;tfidf&#x27;,\n",
       "                                                                   TfidfVectorizer(max_features=10000,\n",
       "                                                                                   stop_words=&#x27;english&#x27;)),\n",
       "                                                                  (&#x27;toarray&#x27;,\n",
       "                                                                   FunctionTransformer(func=&lt;function &lt;lambda&gt; at 0x797213780820&gt;))]),\n",
       "                                                  [&#x27;reviewText_genre_originalLanguage&#x27;])])),\n",
       "                (&#x27;minmax&#x27;, MinMaxScaler()),\n",
       "                (&#x27;chi&#x27;,\n",
       "                 SelectKBest(k=5000,\n",
       "                             score_func=&lt;function chi2 at 0x797224af7010&gt;)),\n",
       "                (&#x27;multinomial&#x27;, DecisionTreeClassifier())])</pre><b>In a Jupyter environment, please rerun this cell to show the HTML representation or trust the notebook. <br />On GitHub, the HTML representation is unable to render, please try loading this page with nbviewer.org.</b></div><div class=\"sk-container\" hidden><div class=\"sk-item sk-dashed-wrapped\"><div class=\"sk-label-container\"><div class=\"sk-label sk-toggleable\"><input class=\"sk-toggleable__control sk-hidden--visually\" id=\"sk-estimator-id-122\" type=\"checkbox\" ><label for=\"sk-estimator-id-122\" class=\"sk-toggleable__label sk-toggleable__label-arrow\">Pipeline</label><div class=\"sk-toggleable__content\"><pre>Pipeline(steps=[(&#x27;ct&#x27;,\n",
       "                 ColumnTransformer(remainder=&#x27;passthrough&#x27;,\n",
       "                                   transformers=[(&#x27;reviewText_genre_originalLanguage&#x27;,\n",
       "                                                  Pipeline(steps=[(&#x27;squeez&#x27;,\n",
       "                                                                   FunctionTransformer(func=&lt;function &lt;lambda&gt; at 0x797213780ca0&gt;)),\n",
       "                                                                  (&#x27;tfidf&#x27;,\n",
       "                                                                   TfidfVectorizer(max_features=10000,\n",
       "                                                                                   stop_words=&#x27;english&#x27;)),\n",
       "                                                                  (&#x27;toarray&#x27;,\n",
       "                                                                   FunctionTransformer(func=&lt;function &lt;lambda&gt; at 0x797213780820&gt;))]),\n",
       "                                                  [&#x27;reviewText_genre_originalLanguage&#x27;])])),\n",
       "                (&#x27;minmax&#x27;, MinMaxScaler()),\n",
       "                (&#x27;chi&#x27;,\n",
       "                 SelectKBest(k=5000,\n",
       "                             score_func=&lt;function chi2 at 0x797224af7010&gt;)),\n",
       "                (&#x27;multinomial&#x27;, DecisionTreeClassifier())])</pre></div></div></div><div class=\"sk-serial\"><div class=\"sk-item sk-dashed-wrapped\"><div class=\"sk-label-container\"><div class=\"sk-label sk-toggleable\"><input class=\"sk-toggleable__control sk-hidden--visually\" id=\"sk-estimator-id-123\" type=\"checkbox\" ><label for=\"sk-estimator-id-123\" class=\"sk-toggleable__label sk-toggleable__label-arrow\">ct: ColumnTransformer</label><div class=\"sk-toggleable__content\"><pre>ColumnTransformer(remainder=&#x27;passthrough&#x27;,\n",
       "                  transformers=[(&#x27;reviewText_genre_originalLanguage&#x27;,\n",
       "                                 Pipeline(steps=[(&#x27;squeez&#x27;,\n",
       "                                                  FunctionTransformer(func=&lt;function &lt;lambda&gt; at 0x797213780ca0&gt;)),\n",
       "                                                 (&#x27;tfidf&#x27;,\n",
       "                                                  TfidfVectorizer(max_features=10000,\n",
       "                                                                  stop_words=&#x27;english&#x27;)),\n",
       "                                                 (&#x27;toarray&#x27;,\n",
       "                                                  FunctionTransformer(func=&lt;function &lt;lambda&gt; at 0x797213780820&gt;))]),\n",
       "                                 [&#x27;reviewText_genre_originalLanguage&#x27;])])</pre></div></div></div><div class=\"sk-parallel\"><div class=\"sk-parallel-item\"><div class=\"sk-item\"><div class=\"sk-label-container\"><div class=\"sk-label sk-toggleable\"><input class=\"sk-toggleable__control sk-hidden--visually\" id=\"sk-estimator-id-124\" type=\"checkbox\" ><label for=\"sk-estimator-id-124\" class=\"sk-toggleable__label sk-toggleable__label-arrow\">reviewText_genre_originalLanguage</label><div class=\"sk-toggleable__content\"><pre>[&#x27;reviewText_genre_originalLanguage&#x27;]</pre></div></div></div><div class=\"sk-serial\"><div class=\"sk-item\"><div class=\"sk-serial\"><div class=\"sk-item\"><div class=\"sk-estimator sk-toggleable\"><input class=\"sk-toggleable__control sk-hidden--visually\" id=\"sk-estimator-id-125\" type=\"checkbox\" ><label for=\"sk-estimator-id-125\" class=\"sk-toggleable__label sk-toggleable__label-arrow\">FunctionTransformer</label><div class=\"sk-toggleable__content\"><pre>FunctionTransformer(func=&lt;function &lt;lambda&gt; at 0x797213780ca0&gt;)</pre></div></div></div><div class=\"sk-item\"><div class=\"sk-estimator sk-toggleable\"><input class=\"sk-toggleable__control sk-hidden--visually\" id=\"sk-estimator-id-126\" type=\"checkbox\" ><label for=\"sk-estimator-id-126\" class=\"sk-toggleable__label sk-toggleable__label-arrow\">TfidfVectorizer</label><div class=\"sk-toggleable__content\"><pre>TfidfVectorizer(max_features=10000, stop_words=&#x27;english&#x27;)</pre></div></div></div><div class=\"sk-item\"><div class=\"sk-estimator sk-toggleable\"><input class=\"sk-toggleable__control sk-hidden--visually\" id=\"sk-estimator-id-127\" type=\"checkbox\" ><label for=\"sk-estimator-id-127\" class=\"sk-toggleable__label sk-toggleable__label-arrow\">FunctionTransformer</label><div class=\"sk-toggleable__content\"><pre>FunctionTransformer(func=&lt;function &lt;lambda&gt; at 0x797213780820&gt;)</pre></div></div></div></div></div></div></div></div><div class=\"sk-parallel-item\"><div class=\"sk-item\"><div class=\"sk-label-container\"><div class=\"sk-label sk-toggleable\"><input class=\"sk-toggleable__control sk-hidden--visually\" id=\"sk-estimator-id-128\" type=\"checkbox\" ><label for=\"sk-estimator-id-128\" class=\"sk-toggleable__label sk-toggleable__label-arrow\">remainder</label><div class=\"sk-toggleable__content\"><pre></pre></div></div></div><div class=\"sk-serial\"><div class=\"sk-item\"><div class=\"sk-estimator sk-toggleable\"><input class=\"sk-toggleable__control sk-hidden--visually\" id=\"sk-estimator-id-129\" type=\"checkbox\" ><label for=\"sk-estimator-id-129\" class=\"sk-toggleable__label sk-toggleable__label-arrow\">passthrough</label><div class=\"sk-toggleable__content\"><pre>passthrough</pre></div></div></div></div></div></div></div></div><div class=\"sk-item\"><div class=\"sk-estimator sk-toggleable\"><input class=\"sk-toggleable__control sk-hidden--visually\" id=\"sk-estimator-id-130\" type=\"checkbox\" ><label for=\"sk-estimator-id-130\" class=\"sk-toggleable__label sk-toggleable__label-arrow\">MinMaxScaler</label><div class=\"sk-toggleable__content\"><pre>MinMaxScaler()</pre></div></div></div><div class=\"sk-item\"><div class=\"sk-estimator sk-toggleable\"><input class=\"sk-toggleable__control sk-hidden--visually\" id=\"sk-estimator-id-131\" type=\"checkbox\" ><label for=\"sk-estimator-id-131\" class=\"sk-toggleable__label sk-toggleable__label-arrow\">SelectKBest</label><div class=\"sk-toggleable__content\"><pre>SelectKBest(k=5000, score_func=&lt;function chi2 at 0x797224af7010&gt;)</pre></div></div></div><div class=\"sk-item\"><div class=\"sk-estimator sk-toggleable\"><input class=\"sk-toggleable__control sk-hidden--visually\" id=\"sk-estimator-id-132\" type=\"checkbox\" ><label for=\"sk-estimator-id-132\" class=\"sk-toggleable__label sk-toggleable__label-arrow\">DecisionTreeClassifier</label><div class=\"sk-toggleable__content\"><pre>DecisionTreeClassifier()</pre></div></div></div></div></div></div></div>"
      ],
      "text/plain": [
       "Pipeline(steps=[('ct',\n",
       "                 ColumnTransformer(remainder='passthrough',\n",
       "                                   transformers=[('reviewText_genre_originalLanguage',\n",
       "                                                  Pipeline(steps=[('squeez',\n",
       "                                                                   FunctionTransformer(func=<function <lambda> at 0x797213780ca0>)),\n",
       "                                                                  ('tfidf',\n",
       "                                                                   TfidfVectorizer(max_features=10000,\n",
       "                                                                                   stop_words='english')),\n",
       "                                                                  ('toarray',\n",
       "                                                                   FunctionTransformer(func=<function <lambda> at 0x797213780820>))]),\n",
       "                                                  ['reviewText_genre_originalLanguage'])])),\n",
       "                ('minmax', MinMaxScaler()),\n",
       "                ('chi',\n",
       "                 SelectKBest(k=5000,\n",
       "                             score_func=<function chi2 at 0x797224af7010>)),\n",
       "                ('multinomial', DecisionTreeClassifier())])"
      ]
     },
     "execution_count": 50,
     "metadata": {},
     "output_type": "execute_result"
    }
   ],
   "source": [
    "TextProcessor = Pipeline(steps=[\n",
    "    (\"squeez\", FunctionTransformer(lambda x: x.squeeze())),\n",
    "    (\"tfidf\", TfidfVectorizer(max_features = 10000,stop_words ='english')),\n",
    "    (\"toarray\", FunctionTransformer(lambda x: x.toarray())),\n",
    "])\n",
    "\n",
    "\n",
    "ct = ColumnTransformer([\n",
    "    ('reviewText_genre_originalLanguage', TextProcessor, ['reviewText_genre_originalLanguage']),\n",
    "],\n",
    "    remainder='passthrough'\n",
    ")\n",
    "\n",
    "clf_DecisionTreeClassifier = Pipeline(steps=[\n",
    "    ('ct',ct),\n",
    "    ('minmax', MinMaxScaler()),\n",
    "    ('chi', SelectKBest(chi2, k=5000)),\n",
    "    ('multinomial', DecisionTreeClassifier())\n",
    "])\n",
    "clf_DecisionTreeClassifier"
   ]
  },
  {
   "cell_type": "code",
   "execution_count": 51,
   "id": "a794fa98",
   "metadata": {
    "execution": {
     "iopub.execute_input": "2023-08-08T06:31:22.346100Z",
     "iopub.status.busy": "2023-08-08T06:31:22.345437Z",
     "iopub.status.idle": "2023-08-08T06:31:22.350041Z",
     "shell.execute_reply": "2023-08-08T06:31:22.348939Z"
    },
    "papermill": {
     "duration": 0.030804,
     "end_time": "2023-08-08T06:31:22.352461",
     "exception": false,
     "start_time": "2023-08-08T06:31:22.321657",
     "status": "completed"
    },
    "tags": []
   },
   "outputs": [],
   "source": [
    "# clf_DecisionTreeClassifier.fit(X_train,y_train)"
   ]
  },
  {
   "cell_type": "code",
   "execution_count": 52,
   "id": "d2c294f6",
   "metadata": {
    "execution": {
     "iopub.execute_input": "2023-08-08T06:31:22.400679Z",
     "iopub.status.busy": "2023-08-08T06:31:22.399991Z",
     "iopub.status.idle": "2023-08-08T06:31:22.404852Z",
     "shell.execute_reply": "2023-08-08T06:31:22.403521Z"
    },
    "papermill": {
     "duration": 0.031847,
     "end_time": "2023-08-08T06:31:22.407159",
     "exception": false,
     "start_time": "2023-08-08T06:31:22.375312",
     "status": "completed"
    },
    "tags": []
   },
   "outputs": [],
   "source": [
    "# print(clf_DecisionTreeClassifier.score(X_train, y_train))\n",
    "# print(clf_DecisionTreeClassifier.score(X_validate, y_validate))"
   ]
  },
  {
   "cell_type": "markdown",
   "id": "b7277b9e",
   "metadata": {
    "papermill": {
     "duration": 0.022405,
     "end_time": "2023-08-08T06:31:22.452420",
     "exception": false,
     "start_time": "2023-08-08T06:31:22.430015",
     "status": "completed"
    },
    "tags": []
   },
   "source": [
    "Being overfitted!\n",
    "\n",
    "score without MinMaxScaler;\n",
    "train: 0.99\n",
    "validate: 0.67\n",
    "\n",
    "score with MinMaxScaler;\n",
    "train: 0.99\n",
    "validate: 0.67"
   ]
  },
  {
   "cell_type": "markdown",
   "id": "fac1335f",
   "metadata": {
    "papermill": {
     "duration": 0.022975,
     "end_time": "2023-08-08T06:31:22.498108",
     "exception": false,
     "start_time": "2023-08-08T06:31:22.475133",
     "status": "completed"
    },
    "tags": []
   },
   "source": [
    "# RandomForest"
   ]
  },
  {
   "cell_type": "code",
   "execution_count": 53,
   "id": "b280b4eb",
   "metadata": {
    "execution": {
     "iopub.execute_input": "2023-08-08T06:31:22.546031Z",
     "iopub.status.busy": "2023-08-08T06:31:22.545249Z",
     "iopub.status.idle": "2023-08-08T06:31:22.626372Z",
     "shell.execute_reply": "2023-08-08T06:31:22.625490Z"
    },
    "papermill": {
     "duration": 0.107884,
     "end_time": "2023-08-08T06:31:22.628578",
     "exception": false,
     "start_time": "2023-08-08T06:31:22.520694",
     "status": "completed"
    },
    "tags": []
   },
   "outputs": [
    {
     "data": {
      "text/html": [
       "<style>#sk-container-id-13 {color: black;background-color: white;}#sk-container-id-13 pre{padding: 0;}#sk-container-id-13 div.sk-toggleable {background-color: white;}#sk-container-id-13 label.sk-toggleable__label {cursor: pointer;display: block;width: 100%;margin-bottom: 0;padding: 0.3em;box-sizing: border-box;text-align: center;}#sk-container-id-13 label.sk-toggleable__label-arrow:before {content: \"▸\";float: left;margin-right: 0.25em;color: #696969;}#sk-container-id-13 label.sk-toggleable__label-arrow:hover:before {color: black;}#sk-container-id-13 div.sk-estimator:hover label.sk-toggleable__label-arrow:before {color: black;}#sk-container-id-13 div.sk-toggleable__content {max-height: 0;max-width: 0;overflow: hidden;text-align: left;background-color: #f0f8ff;}#sk-container-id-13 div.sk-toggleable__content pre {margin: 0.2em;color: black;border-radius: 0.25em;background-color: #f0f8ff;}#sk-container-id-13 input.sk-toggleable__control:checked~div.sk-toggleable__content {max-height: 200px;max-width: 100%;overflow: auto;}#sk-container-id-13 input.sk-toggleable__control:checked~label.sk-toggleable__label-arrow:before {content: \"▾\";}#sk-container-id-13 div.sk-estimator input.sk-toggleable__control:checked~label.sk-toggleable__label {background-color: #d4ebff;}#sk-container-id-13 div.sk-label input.sk-toggleable__control:checked~label.sk-toggleable__label {background-color: #d4ebff;}#sk-container-id-13 input.sk-hidden--visually {border: 0;clip: rect(1px 1px 1px 1px);clip: rect(1px, 1px, 1px, 1px);height: 1px;margin: -1px;overflow: hidden;padding: 0;position: absolute;width: 1px;}#sk-container-id-13 div.sk-estimator {font-family: monospace;background-color: #f0f8ff;border: 1px dotted black;border-radius: 0.25em;box-sizing: border-box;margin-bottom: 0.5em;}#sk-container-id-13 div.sk-estimator:hover {background-color: #d4ebff;}#sk-container-id-13 div.sk-parallel-item::after {content: \"\";width: 100%;border-bottom: 1px solid gray;flex-grow: 1;}#sk-container-id-13 div.sk-label:hover label.sk-toggleable__label {background-color: #d4ebff;}#sk-container-id-13 div.sk-serial::before {content: \"\";position: absolute;border-left: 1px solid gray;box-sizing: border-box;top: 0;bottom: 0;left: 50%;z-index: 0;}#sk-container-id-13 div.sk-serial {display: flex;flex-direction: column;align-items: center;background-color: white;padding-right: 0.2em;padding-left: 0.2em;position: relative;}#sk-container-id-13 div.sk-item {position: relative;z-index: 1;}#sk-container-id-13 div.sk-parallel {display: flex;align-items: stretch;justify-content: center;background-color: white;position: relative;}#sk-container-id-13 div.sk-item::before, #sk-container-id-13 div.sk-parallel-item::before {content: \"\";position: absolute;border-left: 1px solid gray;box-sizing: border-box;top: 0;bottom: 0;left: 50%;z-index: -1;}#sk-container-id-13 div.sk-parallel-item {display: flex;flex-direction: column;z-index: 1;position: relative;background-color: white;}#sk-container-id-13 div.sk-parallel-item:first-child::after {align-self: flex-end;width: 50%;}#sk-container-id-13 div.sk-parallel-item:last-child::after {align-self: flex-start;width: 50%;}#sk-container-id-13 div.sk-parallel-item:only-child::after {width: 0;}#sk-container-id-13 div.sk-dashed-wrapped {border: 1px dashed gray;margin: 0 0.4em 0.5em 0.4em;box-sizing: border-box;padding-bottom: 0.4em;background-color: white;}#sk-container-id-13 div.sk-label label {font-family: monospace;font-weight: bold;display: inline-block;line-height: 1.2em;}#sk-container-id-13 div.sk-label-container {text-align: center;}#sk-container-id-13 div.sk-container {/* jupyter's `normalize.less` sets `[hidden] { display: none; }` but bootstrap.min.css set `[hidden] { display: none !important; }` so we also need the `!important` here to be able to override the default hidden behavior on the sphinx rendered scikit-learn.org. See: https://github.com/scikit-learn/scikit-learn/issues/21755 */display: inline-block !important;position: relative;}#sk-container-id-13 div.sk-text-repr-fallback {display: none;}</style><div id=\"sk-container-id-13\" class=\"sk-top-container\"><div class=\"sk-text-repr-fallback\"><pre>Pipeline(steps=[(&#x27;ct&#x27;,\n",
       "                 ColumnTransformer(remainder=&#x27;passthrough&#x27;,\n",
       "                                   transformers=[(&#x27;reviewText_genre_originalLanguage&#x27;,\n",
       "                                                  Pipeline(steps=[(&#x27;squeez&#x27;,\n",
       "                                                                   FunctionTransformer(func=&lt;function &lt;lambda&gt; at 0x797213780dc0&gt;)),\n",
       "                                                                  (&#x27;tfidf&#x27;,\n",
       "                                                                   TfidfVectorizer(max_features=5000,\n",
       "                                                                                   stop_words=&#x27;english&#x27;)),\n",
       "                                                                  (&#x27;toarray&#x27;,\n",
       "                                                                   FunctionTransformer(func=&lt;function &lt;lambda&gt; at 0x797213780ee0&gt;))]),\n",
       "                                                  [&#x27;reviewText_genre_originalLanguage&#x27;])])),\n",
       "                (&#x27;minmax&#x27;, MinMaxScaler()),\n",
       "                (&#x27;chi&#x27;,\n",
       "                 SelectKBest(k=5000,\n",
       "                             score_func=&lt;function chi2 at 0x797224af7010&gt;)),\n",
       "                (&#x27;multinomial&#x27;, RandomForestClassifier())])</pre><b>In a Jupyter environment, please rerun this cell to show the HTML representation or trust the notebook. <br />On GitHub, the HTML representation is unable to render, please try loading this page with nbviewer.org.</b></div><div class=\"sk-container\" hidden><div class=\"sk-item sk-dashed-wrapped\"><div class=\"sk-label-container\"><div class=\"sk-label sk-toggleable\"><input class=\"sk-toggleable__control sk-hidden--visually\" id=\"sk-estimator-id-133\" type=\"checkbox\" ><label for=\"sk-estimator-id-133\" class=\"sk-toggleable__label sk-toggleable__label-arrow\">Pipeline</label><div class=\"sk-toggleable__content\"><pre>Pipeline(steps=[(&#x27;ct&#x27;,\n",
       "                 ColumnTransformer(remainder=&#x27;passthrough&#x27;,\n",
       "                                   transformers=[(&#x27;reviewText_genre_originalLanguage&#x27;,\n",
       "                                                  Pipeline(steps=[(&#x27;squeez&#x27;,\n",
       "                                                                   FunctionTransformer(func=&lt;function &lt;lambda&gt; at 0x797213780dc0&gt;)),\n",
       "                                                                  (&#x27;tfidf&#x27;,\n",
       "                                                                   TfidfVectorizer(max_features=5000,\n",
       "                                                                                   stop_words=&#x27;english&#x27;)),\n",
       "                                                                  (&#x27;toarray&#x27;,\n",
       "                                                                   FunctionTransformer(func=&lt;function &lt;lambda&gt; at 0x797213780ee0&gt;))]),\n",
       "                                                  [&#x27;reviewText_genre_originalLanguage&#x27;])])),\n",
       "                (&#x27;minmax&#x27;, MinMaxScaler()),\n",
       "                (&#x27;chi&#x27;,\n",
       "                 SelectKBest(k=5000,\n",
       "                             score_func=&lt;function chi2 at 0x797224af7010&gt;)),\n",
       "                (&#x27;multinomial&#x27;, RandomForestClassifier())])</pre></div></div></div><div class=\"sk-serial\"><div class=\"sk-item sk-dashed-wrapped\"><div class=\"sk-label-container\"><div class=\"sk-label sk-toggleable\"><input class=\"sk-toggleable__control sk-hidden--visually\" id=\"sk-estimator-id-134\" type=\"checkbox\" ><label for=\"sk-estimator-id-134\" class=\"sk-toggleable__label sk-toggleable__label-arrow\">ct: ColumnTransformer</label><div class=\"sk-toggleable__content\"><pre>ColumnTransformer(remainder=&#x27;passthrough&#x27;,\n",
       "                  transformers=[(&#x27;reviewText_genre_originalLanguage&#x27;,\n",
       "                                 Pipeline(steps=[(&#x27;squeez&#x27;,\n",
       "                                                  FunctionTransformer(func=&lt;function &lt;lambda&gt; at 0x797213780dc0&gt;)),\n",
       "                                                 (&#x27;tfidf&#x27;,\n",
       "                                                  TfidfVectorizer(max_features=5000,\n",
       "                                                                  stop_words=&#x27;english&#x27;)),\n",
       "                                                 (&#x27;toarray&#x27;,\n",
       "                                                  FunctionTransformer(func=&lt;function &lt;lambda&gt; at 0x797213780ee0&gt;))]),\n",
       "                                 [&#x27;reviewText_genre_originalLanguage&#x27;])])</pre></div></div></div><div class=\"sk-parallel\"><div class=\"sk-parallel-item\"><div class=\"sk-item\"><div class=\"sk-label-container\"><div class=\"sk-label sk-toggleable\"><input class=\"sk-toggleable__control sk-hidden--visually\" id=\"sk-estimator-id-135\" type=\"checkbox\" ><label for=\"sk-estimator-id-135\" class=\"sk-toggleable__label sk-toggleable__label-arrow\">reviewText_genre_originalLanguage</label><div class=\"sk-toggleable__content\"><pre>[&#x27;reviewText_genre_originalLanguage&#x27;]</pre></div></div></div><div class=\"sk-serial\"><div class=\"sk-item\"><div class=\"sk-serial\"><div class=\"sk-item\"><div class=\"sk-estimator sk-toggleable\"><input class=\"sk-toggleable__control sk-hidden--visually\" id=\"sk-estimator-id-136\" type=\"checkbox\" ><label for=\"sk-estimator-id-136\" class=\"sk-toggleable__label sk-toggleable__label-arrow\">FunctionTransformer</label><div class=\"sk-toggleable__content\"><pre>FunctionTransformer(func=&lt;function &lt;lambda&gt; at 0x797213780dc0&gt;)</pre></div></div></div><div class=\"sk-item\"><div class=\"sk-estimator sk-toggleable\"><input class=\"sk-toggleable__control sk-hidden--visually\" id=\"sk-estimator-id-137\" type=\"checkbox\" ><label for=\"sk-estimator-id-137\" class=\"sk-toggleable__label sk-toggleable__label-arrow\">TfidfVectorizer</label><div class=\"sk-toggleable__content\"><pre>TfidfVectorizer(max_features=5000, stop_words=&#x27;english&#x27;)</pre></div></div></div><div class=\"sk-item\"><div class=\"sk-estimator sk-toggleable\"><input class=\"sk-toggleable__control sk-hidden--visually\" id=\"sk-estimator-id-138\" type=\"checkbox\" ><label for=\"sk-estimator-id-138\" class=\"sk-toggleable__label sk-toggleable__label-arrow\">FunctionTransformer</label><div class=\"sk-toggleable__content\"><pre>FunctionTransformer(func=&lt;function &lt;lambda&gt; at 0x797213780ee0&gt;)</pre></div></div></div></div></div></div></div></div><div class=\"sk-parallel-item\"><div class=\"sk-item\"><div class=\"sk-label-container\"><div class=\"sk-label sk-toggleable\"><input class=\"sk-toggleable__control sk-hidden--visually\" id=\"sk-estimator-id-139\" type=\"checkbox\" ><label for=\"sk-estimator-id-139\" class=\"sk-toggleable__label sk-toggleable__label-arrow\">remainder</label><div class=\"sk-toggleable__content\"><pre></pre></div></div></div><div class=\"sk-serial\"><div class=\"sk-item\"><div class=\"sk-estimator sk-toggleable\"><input class=\"sk-toggleable__control sk-hidden--visually\" id=\"sk-estimator-id-140\" type=\"checkbox\" ><label for=\"sk-estimator-id-140\" class=\"sk-toggleable__label sk-toggleable__label-arrow\">passthrough</label><div class=\"sk-toggleable__content\"><pre>passthrough</pre></div></div></div></div></div></div></div></div><div class=\"sk-item\"><div class=\"sk-estimator sk-toggleable\"><input class=\"sk-toggleable__control sk-hidden--visually\" id=\"sk-estimator-id-141\" type=\"checkbox\" ><label for=\"sk-estimator-id-141\" class=\"sk-toggleable__label sk-toggleable__label-arrow\">MinMaxScaler</label><div class=\"sk-toggleable__content\"><pre>MinMaxScaler()</pre></div></div></div><div class=\"sk-item\"><div class=\"sk-estimator sk-toggleable\"><input class=\"sk-toggleable__control sk-hidden--visually\" id=\"sk-estimator-id-142\" type=\"checkbox\" ><label for=\"sk-estimator-id-142\" class=\"sk-toggleable__label sk-toggleable__label-arrow\">SelectKBest</label><div class=\"sk-toggleable__content\"><pre>SelectKBest(k=5000, score_func=&lt;function chi2 at 0x797224af7010&gt;)</pre></div></div></div><div class=\"sk-item\"><div class=\"sk-estimator sk-toggleable\"><input class=\"sk-toggleable__control sk-hidden--visually\" id=\"sk-estimator-id-143\" type=\"checkbox\" ><label for=\"sk-estimator-id-143\" class=\"sk-toggleable__label sk-toggleable__label-arrow\">RandomForestClassifier</label><div class=\"sk-toggleable__content\"><pre>RandomForestClassifier()</pre></div></div></div></div></div></div></div>"
      ],
      "text/plain": [
       "Pipeline(steps=[('ct',\n",
       "                 ColumnTransformer(remainder='passthrough',\n",
       "                                   transformers=[('reviewText_genre_originalLanguage',\n",
       "                                                  Pipeline(steps=[('squeez',\n",
       "                                                                   FunctionTransformer(func=<function <lambda> at 0x797213780dc0>)),\n",
       "                                                                  ('tfidf',\n",
       "                                                                   TfidfVectorizer(max_features=5000,\n",
       "                                                                                   stop_words='english')),\n",
       "                                                                  ('toarray',\n",
       "                                                                   FunctionTransformer(func=<function <lambda> at 0x797213780ee0>))]),\n",
       "                                                  ['reviewText_genre_originalLanguage'])])),\n",
       "                ('minmax', MinMaxScaler()),\n",
       "                ('chi',\n",
       "                 SelectKBest(k=5000,\n",
       "                             score_func=<function chi2 at 0x797224af7010>)),\n",
       "                ('multinomial', RandomForestClassifier())])"
      ]
     },
     "execution_count": 53,
     "metadata": {},
     "output_type": "execute_result"
    }
   ],
   "source": [
    "TextProcessor = Pipeline(steps=[\n",
    "    (\"squeez\", FunctionTransformer(lambda x: x.squeeze())),\n",
    "    (\"tfidf\", TfidfVectorizer(max_features = 5000,stop_words ='english')),\n",
    "    (\"toarray\", FunctionTransformer(lambda x: x.toarray())),\n",
    "])\n",
    "\n",
    "\n",
    "ct = ColumnTransformer([\n",
    "    ('reviewText_genre_originalLanguage', TextProcessor, ['reviewText_genre_originalLanguage']),\n",
    "],\n",
    "    remainder='passthrough'\n",
    ")\n",
    "\n",
    "clf_RandomForestClassifier = Pipeline(steps=[\n",
    "    ('ct',ct),\n",
    "    ('minmax', MinMaxScaler()),\n",
    "    ('chi', SelectKBest(chi2, k=5000)),\n",
    "    ('multinomial', RandomForestClassifier())\n",
    "])\n",
    "clf_RandomForestClassifier"
   ]
  },
  {
   "cell_type": "code",
   "execution_count": 54,
   "id": "3b0d0af9",
   "metadata": {
    "execution": {
     "iopub.execute_input": "2023-08-08T06:31:22.678308Z",
     "iopub.status.busy": "2023-08-08T06:31:22.677919Z",
     "iopub.status.idle": "2023-08-08T06:31:22.682360Z",
     "shell.execute_reply": "2023-08-08T06:31:22.681331Z"
    },
    "papermill": {
     "duration": 0.033199,
     "end_time": "2023-08-08T06:31:22.684758",
     "exception": false,
     "start_time": "2023-08-08T06:31:22.651559",
     "status": "completed"
    },
    "tags": []
   },
   "outputs": [],
   "source": [
    "# clf_RandomForestClassifier.fit(X_train,y_train)"
   ]
  },
  {
   "cell_type": "code",
   "execution_count": 55,
   "id": "17855115",
   "metadata": {
    "execution": {
     "iopub.execute_input": "2023-08-08T06:31:22.733994Z",
     "iopub.status.busy": "2023-08-08T06:31:22.733626Z",
     "iopub.status.idle": "2023-08-08T06:31:22.737427Z",
     "shell.execute_reply": "2023-08-08T06:31:22.736529Z"
    },
    "papermill": {
     "duration": 0.031025,
     "end_time": "2023-08-08T06:31:22.739332",
     "exception": false,
     "start_time": "2023-08-08T06:31:22.708307",
     "status": "completed"
    },
    "tags": []
   },
   "outputs": [],
   "source": [
    "# print(clf_RandomForestClassifier.score(X_train, y_train))\n",
    "# print(clf_RandomForestClassifier.score(X_validate, y_validate))"
   ]
  },
  {
   "cell_type": "markdown",
   "id": "47117e6f",
   "metadata": {
    "papermill": {
     "duration": 0.023093,
     "end_time": "2023-08-08T06:31:22.785521",
     "exception": false,
     "start_time": "2023-08-08T06:31:22.762428",
     "status": "completed"
    },
    "tags": []
   },
   "source": [
    "Being overfitted!\n",
    "\n",
    "score without MinMaxScaler;\n",
    "train: 0.99\n",
    "validate: 0.75\n",
    "\n",
    "score with MinMaxScaler;\n",
    "train: 0.99\n",
    "validate: 0.75"
   ]
  },
  {
   "cell_type": "markdown",
   "id": "60f53702",
   "metadata": {
    "papermill": {
     "duration": 0.023031,
     "end_time": "2023-08-08T06:31:22.831669",
     "exception": false,
     "start_time": "2023-08-08T06:31:22.808638",
     "status": "completed"
    },
    "tags": []
   },
   "source": [
    "# RandomForest HPTuning"
   ]
  },
  {
   "cell_type": "code",
   "execution_count": 56,
   "id": "897a3084",
   "metadata": {
    "execution": {
     "iopub.execute_input": "2023-08-08T06:31:22.880528Z",
     "iopub.status.busy": "2023-08-08T06:31:22.880120Z",
     "iopub.status.idle": "2023-08-08T06:31:22.975300Z",
     "shell.execute_reply": "2023-08-08T06:31:22.973904Z"
    },
    "papermill": {
     "duration": 0.123199,
     "end_time": "2023-08-08T06:31:22.977890",
     "exception": false,
     "start_time": "2023-08-08T06:31:22.854691",
     "status": "completed"
    },
    "tags": []
   },
   "outputs": [
    {
     "data": {
      "text/html": [
       "<style>#sk-container-id-14 {color: black;background-color: white;}#sk-container-id-14 pre{padding: 0;}#sk-container-id-14 div.sk-toggleable {background-color: white;}#sk-container-id-14 label.sk-toggleable__label {cursor: pointer;display: block;width: 100%;margin-bottom: 0;padding: 0.3em;box-sizing: border-box;text-align: center;}#sk-container-id-14 label.sk-toggleable__label-arrow:before {content: \"▸\";float: left;margin-right: 0.25em;color: #696969;}#sk-container-id-14 label.sk-toggleable__label-arrow:hover:before {color: black;}#sk-container-id-14 div.sk-estimator:hover label.sk-toggleable__label-arrow:before {color: black;}#sk-container-id-14 div.sk-toggleable__content {max-height: 0;max-width: 0;overflow: hidden;text-align: left;background-color: #f0f8ff;}#sk-container-id-14 div.sk-toggleable__content pre {margin: 0.2em;color: black;border-radius: 0.25em;background-color: #f0f8ff;}#sk-container-id-14 input.sk-toggleable__control:checked~div.sk-toggleable__content {max-height: 200px;max-width: 100%;overflow: auto;}#sk-container-id-14 input.sk-toggleable__control:checked~label.sk-toggleable__label-arrow:before {content: \"▾\";}#sk-container-id-14 div.sk-estimator input.sk-toggleable__control:checked~label.sk-toggleable__label {background-color: #d4ebff;}#sk-container-id-14 div.sk-label input.sk-toggleable__control:checked~label.sk-toggleable__label {background-color: #d4ebff;}#sk-container-id-14 input.sk-hidden--visually {border: 0;clip: rect(1px 1px 1px 1px);clip: rect(1px, 1px, 1px, 1px);height: 1px;margin: -1px;overflow: hidden;padding: 0;position: absolute;width: 1px;}#sk-container-id-14 div.sk-estimator {font-family: monospace;background-color: #f0f8ff;border: 1px dotted black;border-radius: 0.25em;box-sizing: border-box;margin-bottom: 0.5em;}#sk-container-id-14 div.sk-estimator:hover {background-color: #d4ebff;}#sk-container-id-14 div.sk-parallel-item::after {content: \"\";width: 100%;border-bottom: 1px solid gray;flex-grow: 1;}#sk-container-id-14 div.sk-label:hover label.sk-toggleable__label {background-color: #d4ebff;}#sk-container-id-14 div.sk-serial::before {content: \"\";position: absolute;border-left: 1px solid gray;box-sizing: border-box;top: 0;bottom: 0;left: 50%;z-index: 0;}#sk-container-id-14 div.sk-serial {display: flex;flex-direction: column;align-items: center;background-color: white;padding-right: 0.2em;padding-left: 0.2em;position: relative;}#sk-container-id-14 div.sk-item {position: relative;z-index: 1;}#sk-container-id-14 div.sk-parallel {display: flex;align-items: stretch;justify-content: center;background-color: white;position: relative;}#sk-container-id-14 div.sk-item::before, #sk-container-id-14 div.sk-parallel-item::before {content: \"\";position: absolute;border-left: 1px solid gray;box-sizing: border-box;top: 0;bottom: 0;left: 50%;z-index: -1;}#sk-container-id-14 div.sk-parallel-item {display: flex;flex-direction: column;z-index: 1;position: relative;background-color: white;}#sk-container-id-14 div.sk-parallel-item:first-child::after {align-self: flex-end;width: 50%;}#sk-container-id-14 div.sk-parallel-item:last-child::after {align-self: flex-start;width: 50%;}#sk-container-id-14 div.sk-parallel-item:only-child::after {width: 0;}#sk-container-id-14 div.sk-dashed-wrapped {border: 1px dashed gray;margin: 0 0.4em 0.5em 0.4em;box-sizing: border-box;padding-bottom: 0.4em;background-color: white;}#sk-container-id-14 div.sk-label label {font-family: monospace;font-weight: bold;display: inline-block;line-height: 1.2em;}#sk-container-id-14 div.sk-label-container {text-align: center;}#sk-container-id-14 div.sk-container {/* jupyter's `normalize.less` sets `[hidden] { display: none; }` but bootstrap.min.css set `[hidden] { display: none !important; }` so we also need the `!important` here to be able to override the default hidden behavior on the sphinx rendered scikit-learn.org. See: https://github.com/scikit-learn/scikit-learn/issues/21755 */display: inline-block !important;position: relative;}#sk-container-id-14 div.sk-text-repr-fallback {display: none;}</style><div id=\"sk-container-id-14\" class=\"sk-top-container\"><div class=\"sk-text-repr-fallback\"><pre>Pipeline(steps=[(&#x27;ct&#x27;,\n",
       "                 ColumnTransformer(remainder=&#x27;passthrough&#x27;,\n",
       "                                   transformers=[(&#x27;reviewText_genre_originalLanguage&#x27;,\n",
       "                                                  Pipeline(steps=[(&#x27;squeez&#x27;,\n",
       "                                                                   FunctionTransformer(func=&lt;function &lt;lambda&gt; at 0x797213780670&gt;)),\n",
       "                                                                  (&#x27;tfidf&#x27;,\n",
       "                                                                   TfidfVectorizer(max_features=5000,\n",
       "                                                                                   stop_words=&#x27;english&#x27;)),\n",
       "                                                                  (&#x27;toarray&#x27;,\n",
       "                                                                   FunctionTransformer(func=&lt;function &lt;lambda&gt; at 0x7972137809d0&gt;))]),\n",
       "                                                  [&#x27;revi..._genre_originalLanguage&#x27;])])),\n",
       "                (&#x27;minmax&#x27;, MinMaxScaler()),\n",
       "                (&#x27;chi&#x27;,\n",
       "                 SelectKBest(k=5000,\n",
       "                             score_func=&lt;function chi2 at 0x797224af7010&gt;)),\n",
       "                (&#x27;multinomial&#x27;,\n",
       "                 RandomizedSearchCV(estimator=RandomForestClassifier(),\n",
       "                                    param_distributions={&#x27;max_leaf_nodes&#x27;: [2,\n",
       "                                                                            5,\n",
       "                                                                            10,\n",
       "                                                                            20,\n",
       "                                                                            50,\n",
       "                                                                            100],\n",
       "                                                         &#x27;n_estimators&#x27;: [1, 2,\n",
       "                                                                          5, 10,\n",
       "                                                                          20,\n",
       "                                                                          40,\n",
       "                                                                          100,\n",
       "                                                                          200,\n",
       "                                                                          500]},\n",
       "                                    random_state=10,\n",
       "                                    scoring=&#x27;neg_mean_absolute_error&#x27;))])</pre><b>In a Jupyter environment, please rerun this cell to show the HTML representation or trust the notebook. <br />On GitHub, the HTML representation is unable to render, please try loading this page with nbviewer.org.</b></div><div class=\"sk-container\" hidden><div class=\"sk-item sk-dashed-wrapped\"><div class=\"sk-label-container\"><div class=\"sk-label sk-toggleable\"><input class=\"sk-toggleable__control sk-hidden--visually\" id=\"sk-estimator-id-144\" type=\"checkbox\" ><label for=\"sk-estimator-id-144\" class=\"sk-toggleable__label sk-toggleable__label-arrow\">Pipeline</label><div class=\"sk-toggleable__content\"><pre>Pipeline(steps=[(&#x27;ct&#x27;,\n",
       "                 ColumnTransformer(remainder=&#x27;passthrough&#x27;,\n",
       "                                   transformers=[(&#x27;reviewText_genre_originalLanguage&#x27;,\n",
       "                                                  Pipeline(steps=[(&#x27;squeez&#x27;,\n",
       "                                                                   FunctionTransformer(func=&lt;function &lt;lambda&gt; at 0x797213780670&gt;)),\n",
       "                                                                  (&#x27;tfidf&#x27;,\n",
       "                                                                   TfidfVectorizer(max_features=5000,\n",
       "                                                                                   stop_words=&#x27;english&#x27;)),\n",
       "                                                                  (&#x27;toarray&#x27;,\n",
       "                                                                   FunctionTransformer(func=&lt;function &lt;lambda&gt; at 0x7972137809d0&gt;))]),\n",
       "                                                  [&#x27;revi..._genre_originalLanguage&#x27;])])),\n",
       "                (&#x27;minmax&#x27;, MinMaxScaler()),\n",
       "                (&#x27;chi&#x27;,\n",
       "                 SelectKBest(k=5000,\n",
       "                             score_func=&lt;function chi2 at 0x797224af7010&gt;)),\n",
       "                (&#x27;multinomial&#x27;,\n",
       "                 RandomizedSearchCV(estimator=RandomForestClassifier(),\n",
       "                                    param_distributions={&#x27;max_leaf_nodes&#x27;: [2,\n",
       "                                                                            5,\n",
       "                                                                            10,\n",
       "                                                                            20,\n",
       "                                                                            50,\n",
       "                                                                            100],\n",
       "                                                         &#x27;n_estimators&#x27;: [1, 2,\n",
       "                                                                          5, 10,\n",
       "                                                                          20,\n",
       "                                                                          40,\n",
       "                                                                          100,\n",
       "                                                                          200,\n",
       "                                                                          500]},\n",
       "                                    random_state=10,\n",
       "                                    scoring=&#x27;neg_mean_absolute_error&#x27;))])</pre></div></div></div><div class=\"sk-serial\"><div class=\"sk-item sk-dashed-wrapped\"><div class=\"sk-label-container\"><div class=\"sk-label sk-toggleable\"><input class=\"sk-toggleable__control sk-hidden--visually\" id=\"sk-estimator-id-145\" type=\"checkbox\" ><label for=\"sk-estimator-id-145\" class=\"sk-toggleable__label sk-toggleable__label-arrow\">ct: ColumnTransformer</label><div class=\"sk-toggleable__content\"><pre>ColumnTransformer(remainder=&#x27;passthrough&#x27;,\n",
       "                  transformers=[(&#x27;reviewText_genre_originalLanguage&#x27;,\n",
       "                                 Pipeline(steps=[(&#x27;squeez&#x27;,\n",
       "                                                  FunctionTransformer(func=&lt;function &lt;lambda&gt; at 0x797213780670&gt;)),\n",
       "                                                 (&#x27;tfidf&#x27;,\n",
       "                                                  TfidfVectorizer(max_features=5000,\n",
       "                                                                  stop_words=&#x27;english&#x27;)),\n",
       "                                                 (&#x27;toarray&#x27;,\n",
       "                                                  FunctionTransformer(func=&lt;function &lt;lambda&gt; at 0x7972137809d0&gt;))]),\n",
       "                                 [&#x27;reviewText_genre_originalLanguage&#x27;])])</pre></div></div></div><div class=\"sk-parallel\"><div class=\"sk-parallel-item\"><div class=\"sk-item\"><div class=\"sk-label-container\"><div class=\"sk-label sk-toggleable\"><input class=\"sk-toggleable__control sk-hidden--visually\" id=\"sk-estimator-id-146\" type=\"checkbox\" ><label for=\"sk-estimator-id-146\" class=\"sk-toggleable__label sk-toggleable__label-arrow\">reviewText_genre_originalLanguage</label><div class=\"sk-toggleable__content\"><pre>[&#x27;reviewText_genre_originalLanguage&#x27;]</pre></div></div></div><div class=\"sk-serial\"><div class=\"sk-item\"><div class=\"sk-serial\"><div class=\"sk-item\"><div class=\"sk-estimator sk-toggleable\"><input class=\"sk-toggleable__control sk-hidden--visually\" id=\"sk-estimator-id-147\" type=\"checkbox\" ><label for=\"sk-estimator-id-147\" class=\"sk-toggleable__label sk-toggleable__label-arrow\">FunctionTransformer</label><div class=\"sk-toggleable__content\"><pre>FunctionTransformer(func=&lt;function &lt;lambda&gt; at 0x797213780670&gt;)</pre></div></div></div><div class=\"sk-item\"><div class=\"sk-estimator sk-toggleable\"><input class=\"sk-toggleable__control sk-hidden--visually\" id=\"sk-estimator-id-148\" type=\"checkbox\" ><label for=\"sk-estimator-id-148\" class=\"sk-toggleable__label sk-toggleable__label-arrow\">TfidfVectorizer</label><div class=\"sk-toggleable__content\"><pre>TfidfVectorizer(max_features=5000, stop_words=&#x27;english&#x27;)</pre></div></div></div><div class=\"sk-item\"><div class=\"sk-estimator sk-toggleable\"><input class=\"sk-toggleable__control sk-hidden--visually\" id=\"sk-estimator-id-149\" type=\"checkbox\" ><label for=\"sk-estimator-id-149\" class=\"sk-toggleable__label sk-toggleable__label-arrow\">FunctionTransformer</label><div class=\"sk-toggleable__content\"><pre>FunctionTransformer(func=&lt;function &lt;lambda&gt; at 0x7972137809d0&gt;)</pre></div></div></div></div></div></div></div></div><div class=\"sk-parallel-item\"><div class=\"sk-item\"><div class=\"sk-label-container\"><div class=\"sk-label sk-toggleable\"><input class=\"sk-toggleable__control sk-hidden--visually\" id=\"sk-estimator-id-150\" type=\"checkbox\" ><label for=\"sk-estimator-id-150\" class=\"sk-toggleable__label sk-toggleable__label-arrow\">remainder</label><div class=\"sk-toggleable__content\"><pre></pre></div></div></div><div class=\"sk-serial\"><div class=\"sk-item\"><div class=\"sk-estimator sk-toggleable\"><input class=\"sk-toggleable__control sk-hidden--visually\" id=\"sk-estimator-id-151\" type=\"checkbox\" ><label for=\"sk-estimator-id-151\" class=\"sk-toggleable__label sk-toggleable__label-arrow\">passthrough</label><div class=\"sk-toggleable__content\"><pre>passthrough</pre></div></div></div></div></div></div></div></div><div class=\"sk-item\"><div class=\"sk-estimator sk-toggleable\"><input class=\"sk-toggleable__control sk-hidden--visually\" id=\"sk-estimator-id-152\" type=\"checkbox\" ><label for=\"sk-estimator-id-152\" class=\"sk-toggleable__label sk-toggleable__label-arrow\">MinMaxScaler</label><div class=\"sk-toggleable__content\"><pre>MinMaxScaler()</pre></div></div></div><div class=\"sk-item\"><div class=\"sk-estimator sk-toggleable\"><input class=\"sk-toggleable__control sk-hidden--visually\" id=\"sk-estimator-id-153\" type=\"checkbox\" ><label for=\"sk-estimator-id-153\" class=\"sk-toggleable__label sk-toggleable__label-arrow\">SelectKBest</label><div class=\"sk-toggleable__content\"><pre>SelectKBest(k=5000, score_func=&lt;function chi2 at 0x797224af7010&gt;)</pre></div></div></div><div class=\"sk-item sk-dashed-wrapped\"><div class=\"sk-label-container\"><div class=\"sk-label sk-toggleable\"><input class=\"sk-toggleable__control sk-hidden--visually\" id=\"sk-estimator-id-154\" type=\"checkbox\" ><label for=\"sk-estimator-id-154\" class=\"sk-toggleable__label sk-toggleable__label-arrow\">multinomial: RandomizedSearchCV</label><div class=\"sk-toggleable__content\"><pre>RandomizedSearchCV(estimator=RandomForestClassifier(),\n",
       "                   param_distributions={&#x27;max_leaf_nodes&#x27;: [2, 5, 10, 20, 50,\n",
       "                                                           100],\n",
       "                                        &#x27;n_estimators&#x27;: [1, 2, 5, 10, 20, 40,\n",
       "                                                         100, 200, 500]},\n",
       "                   random_state=10, scoring=&#x27;neg_mean_absolute_error&#x27;)</pre></div></div></div><div class=\"sk-parallel\"><div class=\"sk-parallel-item\"><div class=\"sk-item\"><div class=\"sk-label-container\"><div class=\"sk-label sk-toggleable\"><input class=\"sk-toggleable__control sk-hidden--visually\" id=\"sk-estimator-id-155\" type=\"checkbox\" ><label for=\"sk-estimator-id-155\" class=\"sk-toggleable__label sk-toggleable__label-arrow\">estimator: RandomForestClassifier</label><div class=\"sk-toggleable__content\"><pre>RandomForestClassifier()</pre></div></div></div><div class=\"sk-serial\"><div class=\"sk-item\"><div class=\"sk-estimator sk-toggleable\"><input class=\"sk-toggleable__control sk-hidden--visually\" id=\"sk-estimator-id-156\" type=\"checkbox\" ><label for=\"sk-estimator-id-156\" class=\"sk-toggleable__label sk-toggleable__label-arrow\">RandomForestClassifier</label><div class=\"sk-toggleable__content\"><pre>RandomForestClassifier()</pre></div></div></div></div></div></div></div></div></div></div></div></div>"
      ],
      "text/plain": [
       "Pipeline(steps=[('ct',\n",
       "                 ColumnTransformer(remainder='passthrough',\n",
       "                                   transformers=[('reviewText_genre_originalLanguage',\n",
       "                                                  Pipeline(steps=[('squeez',\n",
       "                                                                   FunctionTransformer(func=<function <lambda> at 0x797213780670>)),\n",
       "                                                                  ('tfidf',\n",
       "                                                                   TfidfVectorizer(max_features=5000,\n",
       "                                                                                   stop_words='english')),\n",
       "                                                                  ('toarray',\n",
       "                                                                   FunctionTransformer(func=<function <lambda> at 0x7972137809d0>))]),\n",
       "                                                  ['revi..._genre_originalLanguage'])])),\n",
       "                ('minmax', MinMaxScaler()),\n",
       "                ('chi',\n",
       "                 SelectKBest(k=5000,\n",
       "                             score_func=<function chi2 at 0x797224af7010>)),\n",
       "                ('multinomial',\n",
       "                 RandomizedSearchCV(estimator=RandomForestClassifier(),\n",
       "                                    param_distributions={'max_leaf_nodes': [2,\n",
       "                                                                            5,\n",
       "                                                                            10,\n",
       "                                                                            20,\n",
       "                                                                            50,\n",
       "                                                                            100],\n",
       "                                                         'n_estimators': [1, 2,\n",
       "                                                                          5, 10,\n",
       "                                                                          20,\n",
       "                                                                          40,\n",
       "                                                                          100,\n",
       "                                                                          200,\n",
       "                                                                          500]},\n",
       "                                    random_state=10,\n",
       "                                    scoring='neg_mean_absolute_error'))])"
      ]
     },
     "execution_count": 56,
     "metadata": {},
     "output_type": "execute_result"
    }
   ],
   "source": [
    "from sklearn.model_selection import cross_validate, train_test_split, RandomizedSearchCV, ShuffleSplit\n",
    "\n",
    "TextProcessor = Pipeline(steps=[\n",
    "    (\"squeez\", FunctionTransformer(lambda x: x.squeeze())),\n",
    "    (\"tfidf\", TfidfVectorizer(max_features = 5000,stop_words ='english')),\n",
    "    (\"toarray\", FunctionTransformer(lambda x: x.toarray())),\n",
    "])\n",
    "\n",
    "\n",
    "ct = ColumnTransformer([\n",
    "    ('reviewText_genre_originalLanguage', TextProcessor, ['reviewText_genre_originalLanguage']),\n",
    "],\n",
    "    remainder='passthrough'\n",
    ")\n",
    "\n",
    "param_distributions = {'n_estimators': [1,2,5,10,20,40,100,200,500], 'max_leaf_nodes': [2,5,10,20,50,100]}\n",
    "clf_RandomForestHPT = Pipeline(steps=[\n",
    "    ('ct',ct),\n",
    "    ('minmax', MinMaxScaler()),\n",
    "    ('chi', SelectKBest(chi2, k=5000)),\n",
    "    ('multinomial', RandomizedSearchCV(RandomForestClassifier(), param_distributions=param_distributions, \n",
    "                               scoring='neg_mean_absolute_error', n_iter=10, random_state=10))\n",
    "])\n",
    "clf_RandomForestHPT"
   ]
  },
  {
   "cell_type": "code",
   "execution_count": 57,
   "id": "d9f3bbad",
   "metadata": {
    "execution": {
     "iopub.execute_input": "2023-08-08T06:31:23.027259Z",
     "iopub.status.busy": "2023-08-08T06:31:23.025746Z",
     "iopub.status.idle": "2023-08-08T06:31:23.032318Z",
     "shell.execute_reply": "2023-08-08T06:31:23.030947Z"
    },
    "papermill": {
     "duration": 0.03432,
     "end_time": "2023-08-08T06:31:23.035173",
     "exception": false,
     "start_time": "2023-08-08T06:31:23.000853",
     "status": "completed"
    },
    "tags": []
   },
   "outputs": [],
   "source": [
    "# param_distributions = {'n_estimators': [1,2,5,10,20,40,100,200,500], 'max_leaf_nodes': [2,5,10,20,50,100]}\n",
    "# search_cv = RandomizedSearchCV(RandomForestRegressor(), param_distributions=param_distributions, \n",
    "#                                scoring='neg_mean_absolute_error', n_iter=10, random_state=10)\n",
    "\n",
    "# search_cv.fit(com_train_features, com_train_labels)"
   ]
  },
  {
   "cell_type": "code",
   "execution_count": 58,
   "id": "f44b348d",
   "metadata": {
    "execution": {
     "iopub.execute_input": "2023-08-08T06:31:23.083002Z",
     "iopub.status.busy": "2023-08-08T06:31:23.082637Z",
     "iopub.status.idle": "2023-08-08T06:31:23.087695Z",
     "shell.execute_reply": "2023-08-08T06:31:23.086546Z"
    },
    "papermill": {
     "duration": 0.030613,
     "end_time": "2023-08-08T06:31:23.089561",
     "exception": false,
     "start_time": "2023-08-08T06:31:23.058948",
     "status": "completed"
    },
    "tags": []
   },
   "outputs": [],
   "source": [
    "# clf_RandomForestHPT.fit(X_train,y_train)"
   ]
  },
  {
   "cell_type": "code",
   "execution_count": 59,
   "id": "e175688e",
   "metadata": {
    "execution": {
     "iopub.execute_input": "2023-08-08T06:31:23.140803Z",
     "iopub.status.busy": "2023-08-08T06:31:23.140405Z",
     "iopub.status.idle": "2023-08-08T06:31:23.145541Z",
     "shell.execute_reply": "2023-08-08T06:31:23.144233Z"
    },
    "papermill": {
     "duration": 0.034559,
     "end_time": "2023-08-08T06:31:23.147908",
     "exception": false,
     "start_time": "2023-08-08T06:31:23.113349",
     "status": "completed"
    },
    "tags": []
   },
   "outputs": [],
   "source": [
    "# print(clf_RandomForestHPT.score(X_train, y_train))\n",
    "# print(clf_RandomForestHPT.score(X_validate, y_validate))                                                                                                                                         "
   ]
  },
  {
   "cell_type": "markdown",
   "id": "8c5c6e53",
   "metadata": {
    "papermill": {
     "duration": 0.022837,
     "end_time": "2023-08-08T06:31:23.193880",
     "exception": false,
     "start_time": "2023-08-08T06:31:23.171043",
     "status": "completed"
    },
    "tags": []
   },
   "source": [
    "score with MinMaxscaler\n",
    "\n",
    "train: 0.3091144185534678\n",
    "validate: 0.31453519763177"
   ]
  },
  {
   "cell_type": "code",
   "execution_count": 60,
   "id": "234cad61",
   "metadata": {
    "execution": {
     "iopub.execute_input": "2023-08-08T06:31:23.242981Z",
     "iopub.status.busy": "2023-08-08T06:31:23.242575Z",
     "iopub.status.idle": "2023-08-08T06:31:23.248535Z",
     "shell.execute_reply": "2023-08-08T06:31:23.247122Z"
    },
    "papermill": {
     "duration": 0.033648,
     "end_time": "2023-08-08T06:31:23.250725",
     "exception": false,
     "start_time": "2023-08-08T06:31:23.217077",
     "status": "completed"
    },
    "tags": []
   },
   "outputs": [],
   "source": [
    "# BOOSTER"
   ]
  },
  {
   "cell_type": "code",
   "execution_count": 61,
   "id": "f5f4cbd8",
   "metadata": {
    "execution": {
     "iopub.execute_input": "2023-08-08T06:31:23.299313Z",
     "iopub.status.busy": "2023-08-08T06:31:23.298920Z",
     "iopub.status.idle": "2023-08-08T06:31:32.467651Z",
     "shell.execute_reply": "2023-08-08T06:31:32.466626Z"
    },
    "papermill": {
     "duration": 9.196884,
     "end_time": "2023-08-08T06:31:32.470814",
     "exception": false,
     "start_time": "2023-08-08T06:31:23.273930",
     "status": "completed"
    },
    "tags": []
   },
   "outputs": [
    {
     "name": "stderr",
     "output_type": "stream",
     "text": [
      "/opt/conda/lib/python3.10/site-packages/tensorflow_io/python/ops/__init__.py:98: UserWarning: unable to load libtensorflow_io_plugins.so: unable to open file: libtensorflow_io_plugins.so, from paths: ['/opt/conda/lib/python3.10/site-packages/tensorflow_io/python/ops/libtensorflow_io_plugins.so']\n",
      "caused by: ['/opt/conda/lib/python3.10/site-packages/tensorflow_io/python/ops/libtensorflow_io_plugins.so: undefined symbol: _ZN3tsl6StatusC1EN10tensorflow5error4CodeESt17basic_string_viewIcSt11char_traitsIcEENS_14SourceLocationE']\n",
      "  warnings.warn(f\"unable to load libtensorflow_io_plugins.so: {e}\")\n",
      "/opt/conda/lib/python3.10/site-packages/tensorflow_io/python/ops/__init__.py:104: UserWarning: file system plugins are not loaded: unable to open file: libtensorflow_io.so, from paths: ['/opt/conda/lib/python3.10/site-packages/tensorflow_io/python/ops/libtensorflow_io.so']\n",
      "caused by: ['/opt/conda/lib/python3.10/site-packages/tensorflow_io/python/ops/libtensorflow_io.so: undefined symbol: _ZTVN10tensorflow13GcsFileSystemE']\n",
      "  warnings.warn(f\"file system plugins are not loaded: {e}\")\n"
     ]
    }
   ],
   "source": [
    "\n",
    "import matplotlib.pyplot as plt\n",
    "\n",
    "from keras.datasets import mnist\n",
    "from sklearn.ensemble import AdaBoostClassifier, GradientBoostingClassifier\n",
    "\n",
    "from sklearn.model_selection import train_test_split, cross_validate, cross_val_score, ShuffleSplit\n",
    "from sklearn.metrics import confusion_matrix, ConfusionMatrixDisplay, classification_report\n",
    "from sklearn.pipeline import Pipeline"
   ]
  },
  {
   "cell_type": "code",
   "execution_count": 62,
   "id": "8dca621c",
   "metadata": {
    "execution": {
     "iopub.execute_input": "2023-08-08T06:31:32.521562Z",
     "iopub.status.busy": "2023-08-08T06:31:32.520718Z",
     "iopub.status.idle": "2023-08-08T06:31:32.526517Z",
     "shell.execute_reply": "2023-08-08T06:31:32.524986Z"
    },
    "papermill": {
     "duration": 0.034536,
     "end_time": "2023-08-08T06:31:32.529354",
     "exception": false,
     "start_time": "2023-08-08T06:31:32.494818",
     "status": "completed"
    },
    "tags": []
   },
   "outputs": [],
   "source": [
    "cv = ShuffleSplit(n_splits=10, test_size=0.2, random_state=42)"
   ]
  },
  {
   "cell_type": "code",
   "execution_count": 63,
   "id": "70da5beb",
   "metadata": {
    "execution": {
     "iopub.execute_input": "2023-08-08T06:31:32.580783Z",
     "iopub.status.busy": "2023-08-08T06:31:32.580392Z",
     "iopub.status.idle": "2023-08-08T06:31:32.587552Z",
     "shell.execute_reply": "2023-08-08T06:31:32.586332Z"
    },
    "papermill": {
     "duration": 0.034872,
     "end_time": "2023-08-08T06:31:32.589607",
     "exception": false,
     "start_time": "2023-08-08T06:31:32.554735",
     "status": "completed"
    },
    "tags": []
   },
   "outputs": [],
   "source": [
    "def train_classifiers(estimator, X_train, y_train, cv, name):\n",
    "  estimator.fit(X_train, y_train)\n",
    "  cv_train_score = cross_val_score(estimator, X_train, y_train, cv=cv, scoring='f1_macro')\n",
    "  print(f\"On an average, {name} model has f1 score of {cv_train_score.mean():.3f} +/- {cv_train_score.std():.3f} on training set\")\n",
    "\n",
    "def eval(estimator, X_test, y_test):\n",
    "  y_pred = estimator.predict(X_test)\n",
    "  print(classification_report(y_test, y_pred))\n",
    "  disp = ConfusionMatrixDisplay(confusion_matrix=confusion_matrix(y_test, y_pred))\n",
    "  disp.plot()\n",
    "  plt.title('Çonfusion Matrix')\n",
    "  plt.show()"
   ]
  },
  {
   "cell_type": "markdown",
   "id": "1f65e635",
   "metadata": {
    "papermill": {
     "duration": 0.022716,
     "end_time": "2023-08-08T06:31:32.635282",
     "exception": false,
     "start_time": "2023-08-08T06:31:32.612566",
     "status": "completed"
    },
    "tags": []
   },
   "source": [
    "#  - ADABOOST"
   ]
  },
  {
   "cell_type": "code",
   "execution_count": 64,
   "id": "5c8f765e",
   "metadata": {
    "execution": {
     "iopub.execute_input": "2023-08-08T06:31:32.683495Z",
     "iopub.status.busy": "2023-08-08T06:31:32.683086Z",
     "iopub.status.idle": "2023-08-08T06:31:32.764144Z",
     "shell.execute_reply": "2023-08-08T06:31:32.763282Z"
    },
    "papermill": {
     "duration": 0.10848,
     "end_time": "2023-08-08T06:31:32.766639",
     "exception": false,
     "start_time": "2023-08-08T06:31:32.658159",
     "status": "completed"
    },
    "tags": []
   },
   "outputs": [
    {
     "data": {
      "text/html": [
       "<style>#sk-container-id-15 {color: black;background-color: white;}#sk-container-id-15 pre{padding: 0;}#sk-container-id-15 div.sk-toggleable {background-color: white;}#sk-container-id-15 label.sk-toggleable__label {cursor: pointer;display: block;width: 100%;margin-bottom: 0;padding: 0.3em;box-sizing: border-box;text-align: center;}#sk-container-id-15 label.sk-toggleable__label-arrow:before {content: \"▸\";float: left;margin-right: 0.25em;color: #696969;}#sk-container-id-15 label.sk-toggleable__label-arrow:hover:before {color: black;}#sk-container-id-15 div.sk-estimator:hover label.sk-toggleable__label-arrow:before {color: black;}#sk-container-id-15 div.sk-toggleable__content {max-height: 0;max-width: 0;overflow: hidden;text-align: left;background-color: #f0f8ff;}#sk-container-id-15 div.sk-toggleable__content pre {margin: 0.2em;color: black;border-radius: 0.25em;background-color: #f0f8ff;}#sk-container-id-15 input.sk-toggleable__control:checked~div.sk-toggleable__content {max-height: 200px;max-width: 100%;overflow: auto;}#sk-container-id-15 input.sk-toggleable__control:checked~label.sk-toggleable__label-arrow:before {content: \"▾\";}#sk-container-id-15 div.sk-estimator input.sk-toggleable__control:checked~label.sk-toggleable__label {background-color: #d4ebff;}#sk-container-id-15 div.sk-label input.sk-toggleable__control:checked~label.sk-toggleable__label {background-color: #d4ebff;}#sk-container-id-15 input.sk-hidden--visually {border: 0;clip: rect(1px 1px 1px 1px);clip: rect(1px, 1px, 1px, 1px);height: 1px;margin: -1px;overflow: hidden;padding: 0;position: absolute;width: 1px;}#sk-container-id-15 div.sk-estimator {font-family: monospace;background-color: #f0f8ff;border: 1px dotted black;border-radius: 0.25em;box-sizing: border-box;margin-bottom: 0.5em;}#sk-container-id-15 div.sk-estimator:hover {background-color: #d4ebff;}#sk-container-id-15 div.sk-parallel-item::after {content: \"\";width: 100%;border-bottom: 1px solid gray;flex-grow: 1;}#sk-container-id-15 div.sk-label:hover label.sk-toggleable__label {background-color: #d4ebff;}#sk-container-id-15 div.sk-serial::before {content: \"\";position: absolute;border-left: 1px solid gray;box-sizing: border-box;top: 0;bottom: 0;left: 50%;z-index: 0;}#sk-container-id-15 div.sk-serial {display: flex;flex-direction: column;align-items: center;background-color: white;padding-right: 0.2em;padding-left: 0.2em;position: relative;}#sk-container-id-15 div.sk-item {position: relative;z-index: 1;}#sk-container-id-15 div.sk-parallel {display: flex;align-items: stretch;justify-content: center;background-color: white;position: relative;}#sk-container-id-15 div.sk-item::before, #sk-container-id-15 div.sk-parallel-item::before {content: \"\";position: absolute;border-left: 1px solid gray;box-sizing: border-box;top: 0;bottom: 0;left: 50%;z-index: -1;}#sk-container-id-15 div.sk-parallel-item {display: flex;flex-direction: column;z-index: 1;position: relative;background-color: white;}#sk-container-id-15 div.sk-parallel-item:first-child::after {align-self: flex-end;width: 50%;}#sk-container-id-15 div.sk-parallel-item:last-child::after {align-self: flex-start;width: 50%;}#sk-container-id-15 div.sk-parallel-item:only-child::after {width: 0;}#sk-container-id-15 div.sk-dashed-wrapped {border: 1px dashed gray;margin: 0 0.4em 0.5em 0.4em;box-sizing: border-box;padding-bottom: 0.4em;background-color: white;}#sk-container-id-15 div.sk-label label {font-family: monospace;font-weight: bold;display: inline-block;line-height: 1.2em;}#sk-container-id-15 div.sk-label-container {text-align: center;}#sk-container-id-15 div.sk-container {/* jupyter's `normalize.less` sets `[hidden] { display: none; }` but bootstrap.min.css set `[hidden] { display: none !important; }` so we also need the `!important` here to be able to override the default hidden behavior on the sphinx rendered scikit-learn.org. See: https://github.com/scikit-learn/scikit-learn/issues/21755 */display: inline-block !important;position: relative;}#sk-container-id-15 div.sk-text-repr-fallback {display: none;}</style><div id=\"sk-container-id-15\" class=\"sk-top-container\"><div class=\"sk-text-repr-fallback\"><pre>Pipeline(steps=[(&#x27;ct&#x27;,\n",
       "                 ColumnTransformer(remainder=&#x27;passthrough&#x27;,\n",
       "                                   transformers=[(&#x27;reviewText_genre_originalLanguage&#x27;,\n",
       "                                                  Pipeline(steps=[(&#x27;squeez&#x27;,\n",
       "                                                                   FunctionTransformer(func=&lt;function &lt;lambda&gt; at 0x7971c8ced510&gt;)),\n",
       "                                                                  (&#x27;tfidf&#x27;,\n",
       "                                                                   TfidfVectorizer(max_features=5000,\n",
       "                                                                                   stop_words=&#x27;english&#x27;)),\n",
       "                                                                  (&#x27;toarray&#x27;,\n",
       "                                                                   FunctionTransformer(func=&lt;function &lt;lambda&gt; at 0x7971c8ced5a0&gt;))]),\n",
       "                                                  [&#x27;reviewText_genre_originalLanguage&#x27;])])),\n",
       "                (&#x27;minmax&#x27;, MinMaxScaler()),\n",
       "                (&#x27;chi&#x27;,\n",
       "                 SelectKBest(k=5000,\n",
       "                             score_func=&lt;function chi2 at 0x797224af7010&gt;)),\n",
       "                (&#x27;multinomial&#x27;, AdaBoostClassifier())])</pre><b>In a Jupyter environment, please rerun this cell to show the HTML representation or trust the notebook. <br />On GitHub, the HTML representation is unable to render, please try loading this page with nbviewer.org.</b></div><div class=\"sk-container\" hidden><div class=\"sk-item sk-dashed-wrapped\"><div class=\"sk-label-container\"><div class=\"sk-label sk-toggleable\"><input class=\"sk-toggleable__control sk-hidden--visually\" id=\"sk-estimator-id-157\" type=\"checkbox\" ><label for=\"sk-estimator-id-157\" class=\"sk-toggleable__label sk-toggleable__label-arrow\">Pipeline</label><div class=\"sk-toggleable__content\"><pre>Pipeline(steps=[(&#x27;ct&#x27;,\n",
       "                 ColumnTransformer(remainder=&#x27;passthrough&#x27;,\n",
       "                                   transformers=[(&#x27;reviewText_genre_originalLanguage&#x27;,\n",
       "                                                  Pipeline(steps=[(&#x27;squeez&#x27;,\n",
       "                                                                   FunctionTransformer(func=&lt;function &lt;lambda&gt; at 0x7971c8ced510&gt;)),\n",
       "                                                                  (&#x27;tfidf&#x27;,\n",
       "                                                                   TfidfVectorizer(max_features=5000,\n",
       "                                                                                   stop_words=&#x27;english&#x27;)),\n",
       "                                                                  (&#x27;toarray&#x27;,\n",
       "                                                                   FunctionTransformer(func=&lt;function &lt;lambda&gt; at 0x7971c8ced5a0&gt;))]),\n",
       "                                                  [&#x27;reviewText_genre_originalLanguage&#x27;])])),\n",
       "                (&#x27;minmax&#x27;, MinMaxScaler()),\n",
       "                (&#x27;chi&#x27;,\n",
       "                 SelectKBest(k=5000,\n",
       "                             score_func=&lt;function chi2 at 0x797224af7010&gt;)),\n",
       "                (&#x27;multinomial&#x27;, AdaBoostClassifier())])</pre></div></div></div><div class=\"sk-serial\"><div class=\"sk-item sk-dashed-wrapped\"><div class=\"sk-label-container\"><div class=\"sk-label sk-toggleable\"><input class=\"sk-toggleable__control sk-hidden--visually\" id=\"sk-estimator-id-158\" type=\"checkbox\" ><label for=\"sk-estimator-id-158\" class=\"sk-toggleable__label sk-toggleable__label-arrow\">ct: ColumnTransformer</label><div class=\"sk-toggleable__content\"><pre>ColumnTransformer(remainder=&#x27;passthrough&#x27;,\n",
       "                  transformers=[(&#x27;reviewText_genre_originalLanguage&#x27;,\n",
       "                                 Pipeline(steps=[(&#x27;squeez&#x27;,\n",
       "                                                  FunctionTransformer(func=&lt;function &lt;lambda&gt; at 0x7971c8ced510&gt;)),\n",
       "                                                 (&#x27;tfidf&#x27;,\n",
       "                                                  TfidfVectorizer(max_features=5000,\n",
       "                                                                  stop_words=&#x27;english&#x27;)),\n",
       "                                                 (&#x27;toarray&#x27;,\n",
       "                                                  FunctionTransformer(func=&lt;function &lt;lambda&gt; at 0x7971c8ced5a0&gt;))]),\n",
       "                                 [&#x27;reviewText_genre_originalLanguage&#x27;])])</pre></div></div></div><div class=\"sk-parallel\"><div class=\"sk-parallel-item\"><div class=\"sk-item\"><div class=\"sk-label-container\"><div class=\"sk-label sk-toggleable\"><input class=\"sk-toggleable__control sk-hidden--visually\" id=\"sk-estimator-id-159\" type=\"checkbox\" ><label for=\"sk-estimator-id-159\" class=\"sk-toggleable__label sk-toggleable__label-arrow\">reviewText_genre_originalLanguage</label><div class=\"sk-toggleable__content\"><pre>[&#x27;reviewText_genre_originalLanguage&#x27;]</pre></div></div></div><div class=\"sk-serial\"><div class=\"sk-item\"><div class=\"sk-serial\"><div class=\"sk-item\"><div class=\"sk-estimator sk-toggleable\"><input class=\"sk-toggleable__control sk-hidden--visually\" id=\"sk-estimator-id-160\" type=\"checkbox\" ><label for=\"sk-estimator-id-160\" class=\"sk-toggleable__label sk-toggleable__label-arrow\">FunctionTransformer</label><div class=\"sk-toggleable__content\"><pre>FunctionTransformer(func=&lt;function &lt;lambda&gt; at 0x7971c8ced510&gt;)</pre></div></div></div><div class=\"sk-item\"><div class=\"sk-estimator sk-toggleable\"><input class=\"sk-toggleable__control sk-hidden--visually\" id=\"sk-estimator-id-161\" type=\"checkbox\" ><label for=\"sk-estimator-id-161\" class=\"sk-toggleable__label sk-toggleable__label-arrow\">TfidfVectorizer</label><div class=\"sk-toggleable__content\"><pre>TfidfVectorizer(max_features=5000, stop_words=&#x27;english&#x27;)</pre></div></div></div><div class=\"sk-item\"><div class=\"sk-estimator sk-toggleable\"><input class=\"sk-toggleable__control sk-hidden--visually\" id=\"sk-estimator-id-162\" type=\"checkbox\" ><label for=\"sk-estimator-id-162\" class=\"sk-toggleable__label sk-toggleable__label-arrow\">FunctionTransformer</label><div class=\"sk-toggleable__content\"><pre>FunctionTransformer(func=&lt;function &lt;lambda&gt; at 0x7971c8ced5a0&gt;)</pre></div></div></div></div></div></div></div></div><div class=\"sk-parallel-item\"><div class=\"sk-item\"><div class=\"sk-label-container\"><div class=\"sk-label sk-toggleable\"><input class=\"sk-toggleable__control sk-hidden--visually\" id=\"sk-estimator-id-163\" type=\"checkbox\" ><label for=\"sk-estimator-id-163\" class=\"sk-toggleable__label sk-toggleable__label-arrow\">remainder</label><div class=\"sk-toggleable__content\"><pre></pre></div></div></div><div class=\"sk-serial\"><div class=\"sk-item\"><div class=\"sk-estimator sk-toggleable\"><input class=\"sk-toggleable__control sk-hidden--visually\" id=\"sk-estimator-id-164\" type=\"checkbox\" ><label for=\"sk-estimator-id-164\" class=\"sk-toggleable__label sk-toggleable__label-arrow\">passthrough</label><div class=\"sk-toggleable__content\"><pre>passthrough</pre></div></div></div></div></div></div></div></div><div class=\"sk-item\"><div class=\"sk-estimator sk-toggleable\"><input class=\"sk-toggleable__control sk-hidden--visually\" id=\"sk-estimator-id-165\" type=\"checkbox\" ><label for=\"sk-estimator-id-165\" class=\"sk-toggleable__label sk-toggleable__label-arrow\">MinMaxScaler</label><div class=\"sk-toggleable__content\"><pre>MinMaxScaler()</pre></div></div></div><div class=\"sk-item\"><div class=\"sk-estimator sk-toggleable\"><input class=\"sk-toggleable__control sk-hidden--visually\" id=\"sk-estimator-id-166\" type=\"checkbox\" ><label for=\"sk-estimator-id-166\" class=\"sk-toggleable__label sk-toggleable__label-arrow\">SelectKBest</label><div class=\"sk-toggleable__content\"><pre>SelectKBest(k=5000, score_func=&lt;function chi2 at 0x797224af7010&gt;)</pre></div></div></div><div class=\"sk-item\"><div class=\"sk-estimator sk-toggleable\"><input class=\"sk-toggleable__control sk-hidden--visually\" id=\"sk-estimator-id-167\" type=\"checkbox\" ><label for=\"sk-estimator-id-167\" class=\"sk-toggleable__label sk-toggleable__label-arrow\">AdaBoostClassifier</label><div class=\"sk-toggleable__content\"><pre>AdaBoostClassifier()</pre></div></div></div></div></div></div></div>"
      ],
      "text/plain": [
       "Pipeline(steps=[('ct',\n",
       "                 ColumnTransformer(remainder='passthrough',\n",
       "                                   transformers=[('reviewText_genre_originalLanguage',\n",
       "                                                  Pipeline(steps=[('squeez',\n",
       "                                                                   FunctionTransformer(func=<function <lambda> at 0x7971c8ced510>)),\n",
       "                                                                  ('tfidf',\n",
       "                                                                   TfidfVectorizer(max_features=5000,\n",
       "                                                                                   stop_words='english')),\n",
       "                                                                  ('toarray',\n",
       "                                                                   FunctionTransformer(func=<function <lambda> at 0x7971c8ced5a0>))]),\n",
       "                                                  ['reviewText_genre_originalLanguage'])])),\n",
       "                ('minmax', MinMaxScaler()),\n",
       "                ('chi',\n",
       "                 SelectKBest(k=5000,\n",
       "                             score_func=<function chi2 at 0x797224af7010>)),\n",
       "                ('multinomial', AdaBoostClassifier())])"
      ]
     },
     "execution_count": 64,
     "metadata": {},
     "output_type": "execute_result"
    }
   ],
   "source": [
    "TextProcessor = Pipeline(steps=[\n",
    "    (\"squeez\", FunctionTransformer(lambda x: x.squeeze())),\n",
    "    (\"tfidf\", TfidfVectorizer(max_features = 5000,stop_words ='english')),\n",
    "    (\"toarray\", FunctionTransformer(lambda x: x.toarray())),\n",
    "])\n",
    "\n",
    "\n",
    "ct = ColumnTransformer([\n",
    "    ('reviewText_genre_originalLanguage', TextProcessor, ['reviewText_genre_originalLanguage']),\n",
    "],\n",
    "    remainder='passthrough'\n",
    ")\n",
    "\n",
    "clf_adaboost = Pipeline(steps=[\n",
    "    ('ct',ct),\n",
    "    ('minmax', MinMaxScaler()),\n",
    "    ('chi', SelectKBest(chi2, k=5000)),\n",
    "    ('multinomial', AdaBoostClassifier())\n",
    "])\n",
    "clf_adaboost"
   ]
  },
  {
   "cell_type": "code",
   "execution_count": 65,
   "id": "e8202c6d",
   "metadata": {
    "execution": {
     "iopub.execute_input": "2023-08-08T06:31:32.816701Z",
     "iopub.status.busy": "2023-08-08T06:31:32.816366Z",
     "iopub.status.idle": "2023-08-08T06:31:32.820680Z",
     "shell.execute_reply": "2023-08-08T06:31:32.819552Z"
    },
    "papermill": {
     "duration": 0.031423,
     "end_time": "2023-08-08T06:31:32.822607",
     "exception": false,
     "start_time": "2023-08-08T06:31:32.791184",
     "status": "completed"
    },
    "tags": []
   },
   "outputs": [],
   "source": [
    "# clf_adaboost.fit(X_train,y_train)"
   ]
  },
  {
   "cell_type": "code",
   "execution_count": 66,
   "id": "f28a98be",
   "metadata": {
    "execution": {
     "iopub.execute_input": "2023-08-08T06:31:32.872207Z",
     "iopub.status.busy": "2023-08-08T06:31:32.871625Z",
     "iopub.status.idle": "2023-08-08T06:31:32.875991Z",
     "shell.execute_reply": "2023-08-08T06:31:32.874679Z"
    },
    "papermill": {
     "duration": 0.031036,
     "end_time": "2023-08-08T06:31:32.877742",
     "exception": false,
     "start_time": "2023-08-08T06:31:32.846706",
     "status": "completed"
    },
    "tags": []
   },
   "outputs": [],
   "source": [
    "# print(clf_adaboost.score(X_train, y_train))\n",
    "# print(clf_adaboost.score(X_validate, y_validate))"
   ]
  },
  {
   "cell_type": "markdown",
   "id": "584b5f82",
   "metadata": {
    "papermill": {
     "duration": 0.024402,
     "end_time": "2023-08-08T06:31:32.926179",
     "exception": false,
     "start_time": "2023-08-08T06:31:32.901777",
     "status": "completed"
    },
    "tags": []
   },
   "source": [
    "score with MinMaxscaler\n",
    "\n",
    "train: 0.73\n",
    "validate: 0.72"
   ]
  },
  {
   "cell_type": "markdown",
   "id": "bca32cb5",
   "metadata": {
    "papermill": {
     "duration": 0.023606,
     "end_time": "2023-08-08T06:31:32.973597",
     "exception": false,
     "start_time": "2023-08-08T06:31:32.949991",
     "status": "completed"
    },
    "tags": []
   },
   "source": [
    "# TEST"
   ]
  },
  {
   "cell_type": "code",
   "execution_count": 67,
   "id": "749963e0",
   "metadata": {
    "execution": {
     "iopub.execute_input": "2023-08-08T06:31:33.021889Z",
     "iopub.status.busy": "2023-08-08T06:31:33.021217Z",
     "iopub.status.idle": "2023-08-08T06:31:33.284031Z",
     "shell.execute_reply": "2023-08-08T06:31:33.282619Z"
    },
    "papermill": {
     "duration": 0.289079,
     "end_time": "2023-08-08T06:31:33.286021",
     "exception": false,
     "start_time": "2023-08-08T06:31:32.996942",
     "status": "completed"
    },
    "tags": []
   },
   "outputs": [
    {
     "data": {
      "text/plain": [
       "(55315, 4)"
      ]
     },
     "execution_count": 67,
     "metadata": {},
     "output_type": "execute_result"
    }
   ],
   "source": [
    "test = pd.read_csv('/kaggle/input/sentiment-prediction-on-movie-reviews/test.csv')\n",
    "test.shape"
   ]
  },
  {
   "cell_type": "code",
   "execution_count": 68,
   "id": "0cc56e47",
   "metadata": {
    "execution": {
     "iopub.execute_input": "2023-08-08T06:31:33.335967Z",
     "iopub.status.busy": "2023-08-08T06:31:33.334937Z",
     "iopub.status.idle": "2023-08-08T06:31:33.350817Z",
     "shell.execute_reply": "2023-08-08T06:31:33.349140Z"
    },
    "papermill": {
     "duration": 0.043907,
     "end_time": "2023-08-08T06:31:33.353749",
     "exception": false,
     "start_time": "2023-08-08T06:31:33.309842",
     "status": "completed"
    },
    "tags": []
   },
   "outputs": [
    {
     "data": {
      "text/html": [
       "<div>\n",
       "<style scoped>\n",
       "    .dataframe tbody tr th:only-of-type {\n",
       "        vertical-align: middle;\n",
       "    }\n",
       "\n",
       "    .dataframe tbody tr th {\n",
       "        vertical-align: top;\n",
       "    }\n",
       "\n",
       "    .dataframe thead th {\n",
       "        text-align: right;\n",
       "    }\n",
       "</style>\n",
       "<table border=\"1\" class=\"dataframe\">\n",
       "  <thead>\n",
       "    <tr style=\"text-align: right;\">\n",
       "      <th></th>\n",
       "      <th>movieid</th>\n",
       "      <th>reviewerName</th>\n",
       "      <th>isFrequentReviewer</th>\n",
       "      <th>reviewText</th>\n",
       "    </tr>\n",
       "  </thead>\n",
       "  <tbody>\n",
       "    <tr>\n",
       "      <th>0</th>\n",
       "      <td>legend_marty_mcfly_oracle</td>\n",
       "      <td>John Kim</td>\n",
       "      <td>False</td>\n",
       "      <td>Green slowly cranks up the dread with style an...</td>\n",
       "    </tr>\n",
       "    <tr>\n",
       "      <th>1</th>\n",
       "      <td>terminator_katniss_everdeen_glimmer</td>\n",
       "      <td>Brian Chaney</td>\n",
       "      <td>False</td>\n",
       "      <td>Philip Noyce's direction is elegant and unforc...</td>\n",
       "    </tr>\n",
       "    <tr>\n",
       "      <th>2</th>\n",
       "      <td>james_bond_labyrinth_gollum</td>\n",
       "      <td>Danielle Parker</td>\n",
       "      <td>False</td>\n",
       "      <td>It wouldn't do to say what path Maria ultimate...</td>\n",
       "    </tr>\n",
       "    <tr>\n",
       "      <th>3</th>\n",
       "      <td>v_quest_han_solo_wondrous</td>\n",
       "      <td>Brittany Lane</td>\n",
       "      <td>False</td>\n",
       "      <td>Pig is not exactly the arthouse John Wick that...</td>\n",
       "    </tr>\n",
       "    <tr>\n",
       "      <th>4</th>\n",
       "      <td>enigma_hulk_surreal_starlight</td>\n",
       "      <td>Justin Willis</td>\n",
       "      <td>False</td>\n",
       "      <td>An imaginative no-budget musical of sorts abou...</td>\n",
       "    </tr>\n",
       "  </tbody>\n",
       "</table>\n",
       "</div>"
      ],
      "text/plain": [
       "                               movieid     reviewerName  isFrequentReviewer  \\\n",
       "0            legend_marty_mcfly_oracle         John Kim               False   \n",
       "1  terminator_katniss_everdeen_glimmer     Brian Chaney               False   \n",
       "2          james_bond_labyrinth_gollum  Danielle Parker               False   \n",
       "3            v_quest_han_solo_wondrous    Brittany Lane               False   \n",
       "4        enigma_hulk_surreal_starlight    Justin Willis               False   \n",
       "\n",
       "                                          reviewText  \n",
       "0  Green slowly cranks up the dread with style an...  \n",
       "1  Philip Noyce's direction is elegant and unforc...  \n",
       "2  It wouldn't do to say what path Maria ultimate...  \n",
       "3  Pig is not exactly the arthouse John Wick that...  \n",
       "4  An imaginative no-budget musical of sorts abou...  "
      ]
     },
     "execution_count": 68,
     "metadata": {},
     "output_type": "execute_result"
    }
   ],
   "source": [
    "test = test.rename(columns={'isTopCritic': 'isFrequentReviewer'})\n",
    "test.head()"
   ]
  },
  {
   "cell_type": "code",
   "execution_count": 69,
   "id": "10ba5326",
   "metadata": {
    "execution": {
     "iopub.execute_input": "2023-08-08T06:31:33.405386Z",
     "iopub.status.busy": "2023-08-08T06:31:33.403897Z",
     "iopub.status.idle": "2023-08-08T06:31:33.416120Z",
     "shell.execute_reply": "2023-08-08T06:31:33.415423Z"
    },
    "papermill": {
     "duration": 0.039519,
     "end_time": "2023-08-08T06:31:33.417788",
     "exception": false,
     "start_time": "2023-08-08T06:31:33.378269",
     "status": "completed"
    },
    "tags": []
   },
   "outputs": [
    {
     "data": {
      "text/html": [
       "<div>\n",
       "<style scoped>\n",
       "    .dataframe tbody tr th:only-of-type {\n",
       "        vertical-align: middle;\n",
       "    }\n",
       "\n",
       "    .dataframe tbody tr th {\n",
       "        vertical-align: top;\n",
       "    }\n",
       "\n",
       "    .dataframe thead th {\n",
       "        text-align: right;\n",
       "    }\n",
       "</style>\n",
       "<table border=\"1\" class=\"dataframe\">\n",
       "  <thead>\n",
       "    <tr style=\"text-align: right;\">\n",
       "      <th></th>\n",
       "      <th>isFrequentReviewer</th>\n",
       "      <th>reviewText</th>\n",
       "    </tr>\n",
       "  </thead>\n",
       "  <tbody>\n",
       "    <tr>\n",
       "      <th>0</th>\n",
       "      <td>False</td>\n",
       "      <td>Green slowly cranks up the dread with style an...</td>\n",
       "    </tr>\n",
       "    <tr>\n",
       "      <th>1</th>\n",
       "      <td>False</td>\n",
       "      <td>Philip Noyce's direction is elegant and unforc...</td>\n",
       "    </tr>\n",
       "    <tr>\n",
       "      <th>2</th>\n",
       "      <td>False</td>\n",
       "      <td>It wouldn't do to say what path Maria ultimate...</td>\n",
       "    </tr>\n",
       "    <tr>\n",
       "      <th>3</th>\n",
       "      <td>False</td>\n",
       "      <td>Pig is not exactly the arthouse John Wick that...</td>\n",
       "    </tr>\n",
       "    <tr>\n",
       "      <th>4</th>\n",
       "      <td>False</td>\n",
       "      <td>An imaginative no-budget musical of sorts abou...</td>\n",
       "    </tr>\n",
       "  </tbody>\n",
       "</table>\n",
       "</div>"
      ],
      "text/plain": [
       "   isFrequentReviewer                                         reviewText\n",
       "0               False  Green slowly cranks up the dread with style an...\n",
       "1               False  Philip Noyce's direction is elegant and unforc...\n",
       "2               False  It wouldn't do to say what path Maria ultimate...\n",
       "3               False  Pig is not exactly the arthouse John Wick that...\n",
       "4               False  An imaginative no-budget musical of sorts abou..."
      ]
     },
     "execution_count": 69,
     "metadata": {},
     "output_type": "execute_result"
    }
   ],
   "source": [
    "test = test.drop(['movieid','reviewerName'], axis=1)\n",
    "test.head()"
   ]
  },
  {
   "cell_type": "code",
   "execution_count": 70,
   "id": "8a3bb80c",
   "metadata": {
    "execution": {
     "iopub.execute_input": "2023-08-08T06:31:33.467194Z",
     "iopub.status.busy": "2023-08-08T06:31:33.466799Z",
     "iopub.status.idle": "2023-08-08T06:31:33.514628Z",
     "shell.execute_reply": "2023-08-08T06:31:33.513711Z"
    },
    "papermill": {
     "duration": 0.075051,
     "end_time": "2023-08-08T06:31:33.516557",
     "exception": false,
     "start_time": "2023-08-08T06:31:33.441506",
     "status": "completed"
    },
    "tags": []
   },
   "outputs": [
    {
     "data": {
      "text/html": [
       "<div>\n",
       "<style scoped>\n",
       "    .dataframe tbody tr th:only-of-type {\n",
       "        vertical-align: middle;\n",
       "    }\n",
       "\n",
       "    .dataframe tbody tr th {\n",
       "        vertical-align: top;\n",
       "    }\n",
       "\n",
       "    .dataframe thead th {\n",
       "        text-align: right;\n",
       "    }\n",
       "</style>\n",
       "<table border=\"1\" class=\"dataframe\">\n",
       "  <thead>\n",
       "    <tr style=\"text-align: right;\">\n",
       "      <th></th>\n",
       "      <th>isFrequentReviewer</th>\n",
       "      <th>reviewText</th>\n",
       "    </tr>\n",
       "  </thead>\n",
       "  <tbody>\n",
       "    <tr>\n",
       "      <th>0</th>\n",
       "      <td>0</td>\n",
       "      <td>Green slowly cranks up the dread with style an...</td>\n",
       "    </tr>\n",
       "    <tr>\n",
       "      <th>1</th>\n",
       "      <td>0</td>\n",
       "      <td>Philip Noyce's direction is elegant and unforc...</td>\n",
       "    </tr>\n",
       "    <tr>\n",
       "      <th>2</th>\n",
       "      <td>0</td>\n",
       "      <td>It wouldn't do to say what path Maria ultimate...</td>\n",
       "    </tr>\n",
       "    <tr>\n",
       "      <th>3</th>\n",
       "      <td>0</td>\n",
       "      <td>Pig is not exactly the arthouse John Wick that...</td>\n",
       "    </tr>\n",
       "    <tr>\n",
       "      <th>4</th>\n",
       "      <td>0</td>\n",
       "      <td>An imaginative no-budget musical of sorts abou...</td>\n",
       "    </tr>\n",
       "  </tbody>\n",
       "</table>\n",
       "</div>"
      ],
      "text/plain": [
       "   isFrequentReviewer                                         reviewText\n",
       "0                   0  Green slowly cranks up the dread with style an...\n",
       "1                   0  Philip Noyce's direction is elegant and unforc...\n",
       "2                   0  It wouldn't do to say what path Maria ultimate...\n",
       "3                   0  Pig is not exactly the arthouse John Wick that...\n",
       "4                   0  An imaginative no-budget musical of sorts abou..."
      ]
     },
     "execution_count": 70,
     "metadata": {},
     "output_type": "execute_result"
    }
   ],
   "source": [
    "test['isFrequentReviewer'] = test['isFrequentReviewer'].astype(str)\n",
    "# si_isFrequentReviewer = SimpleImputer(strategy='most_frequent', missing_values='nan').fit(X_train['isFrequentReviewer'].array.reshape(-1,1))\n",
    "test.isFrequentReviewer = si_isFrequentReviewer.transform(test['isFrequentReviewer'].array.reshape(-1,1))\n",
    "# label encoder - on \"isFrequentReviewer\"\n",
    "# le_isFrequentReviewer = LabelEncoder().fit(test.isFrequentReviewer)\n",
    "test.isFrequentReviewer = le_isFrequentReviewer.transform(test.isFrequentReviewer)\n",
    "test.fillna('', inplace=True)\n",
    "test.head()"
   ]
  },
  {
   "cell_type": "code",
   "execution_count": 71,
   "id": "9ba180e6",
   "metadata": {
    "execution": {
     "iopub.execute_input": "2023-08-08T06:31:33.567930Z",
     "iopub.status.busy": "2023-08-08T06:31:33.567531Z",
     "iopub.status.idle": "2023-08-08T06:31:41.533965Z",
     "shell.execute_reply": "2023-08-08T06:31:41.533258Z"
    },
    "papermill": {
     "duration": 7.99451,
     "end_time": "2023-08-08T06:31:41.535790",
     "exception": false,
     "start_time": "2023-08-08T06:31:33.541280",
     "status": "completed"
    },
    "tags": []
   },
   "outputs": [
    {
     "data": {
      "text/plain": [
       "array([1, 1, 1, 1, 1])"
      ]
     },
     "execution_count": 71,
     "metadata": {},
     "output_type": "execute_result"
    }
   ],
   "source": [
    "test_predict = clf_logisticregression.predict(test)\n",
    "test_predict[:5]"
   ]
  },
  {
   "cell_type": "code",
   "execution_count": 72,
   "id": "6cf5097b",
   "metadata": {
    "execution": {
     "iopub.execute_input": "2023-08-08T06:31:41.601029Z",
     "iopub.status.busy": "2023-08-08T06:31:41.600614Z",
     "iopub.status.idle": "2023-08-08T06:31:41.660944Z",
     "shell.execute_reply": "2023-08-08T06:31:41.660108Z"
    },
    "papermill": {
     "duration": 0.095209,
     "end_time": "2023-08-08T06:31:41.662758",
     "exception": false,
     "start_time": "2023-08-08T06:31:41.567549",
     "status": "completed"
    },
    "tags": []
   },
   "outputs": [
    {
     "data": {
      "text/html": [
       "<div>\n",
       "<style scoped>\n",
       "    .dataframe tbody tr th:only-of-type {\n",
       "        vertical-align: middle;\n",
       "    }\n",
       "\n",
       "    .dataframe tbody tr th {\n",
       "        vertical-align: top;\n",
       "    }\n",
       "\n",
       "    .dataframe thead th {\n",
       "        text-align: right;\n",
       "    }\n",
       "</style>\n",
       "<table border=\"1\" class=\"dataframe\">\n",
       "  <thead>\n",
       "    <tr style=\"text-align: right;\">\n",
       "      <th></th>\n",
       "      <th>id</th>\n",
       "      <th>sentiment</th>\n",
       "    </tr>\n",
       "  </thead>\n",
       "  <tbody>\n",
       "    <tr>\n",
       "      <th>0</th>\n",
       "      <td>0</td>\n",
       "      <td>POSITIVE</td>\n",
       "    </tr>\n",
       "    <tr>\n",
       "      <th>1</th>\n",
       "      <td>1</td>\n",
       "      <td>POSITIVE</td>\n",
       "    </tr>\n",
       "    <tr>\n",
       "      <th>2</th>\n",
       "      <td>2</td>\n",
       "      <td>POSITIVE</td>\n",
       "    </tr>\n",
       "    <tr>\n",
       "      <th>3</th>\n",
       "      <td>3</td>\n",
       "      <td>POSITIVE</td>\n",
       "    </tr>\n",
       "    <tr>\n",
       "      <th>4</th>\n",
       "      <td>4</td>\n",
       "      <td>POSITIVE</td>\n",
       "    </tr>\n",
       "  </tbody>\n",
       "</table>\n",
       "</div>"
      ],
      "text/plain": [
       "   id sentiment\n",
       "0   0  POSITIVE\n",
       "1   1  POSITIVE\n",
       "2   2  POSITIVE\n",
       "3   3  POSITIVE\n",
       "4   4  POSITIVE"
      ]
     },
     "execution_count": 72,
     "metadata": {},
     "output_type": "execute_result"
    }
   ],
   "source": [
    "submission = pd.DataFrame(columns=['id', 'sentiment'])\n",
    "submission['id'] = [i for i in range(len(test_predict))]\n",
    "submission['sentiment'] = ['POSITIVE' if i==1 else 'NEGATIVE' for i in test_predict]\n",
    "# result = [num * 2 if num % 2 == 0 else num for num in numbers]\n",
    "submission.head()"
   ]
  },
  {
   "cell_type": "code",
   "execution_count": 73,
   "id": "b1b438cf",
   "metadata": {
    "execution": {
     "iopub.execute_input": "2023-08-08T06:31:41.713190Z",
     "iopub.status.busy": "2023-08-08T06:31:41.712255Z",
     "iopub.status.idle": "2023-08-08T06:31:41.719303Z",
     "shell.execute_reply": "2023-08-08T06:31:41.717923Z"
    },
    "papermill": {
     "duration": 0.034766,
     "end_time": "2023-08-08T06:31:41.721362",
     "exception": false,
     "start_time": "2023-08-08T06:31:41.686596",
     "status": "completed"
    },
    "tags": []
   },
   "outputs": [
    {
     "data": {
      "text/plain": [
       "(55315, 2)"
      ]
     },
     "execution_count": 73,
     "metadata": {},
     "output_type": "execute_result"
    }
   ],
   "source": [
    "submission.shape"
   ]
  },
  {
   "cell_type": "code",
   "execution_count": 74,
   "id": "73308677",
   "metadata": {
    "execution": {
     "iopub.execute_input": "2023-08-08T06:31:41.772868Z",
     "iopub.status.busy": "2023-08-08T06:31:41.771931Z",
     "iopub.status.idle": "2023-08-08T06:31:41.839891Z",
     "shell.execute_reply": "2023-08-08T06:31:41.838939Z"
    },
    "papermill": {
     "duration": 0.09639,
     "end_time": "2023-08-08T06:31:41.842597",
     "exception": false,
     "start_time": "2023-08-08T06:31:41.746207",
     "status": "completed"
    },
    "tags": []
   },
   "outputs": [],
   "source": [
    "submission.to_csv('submission.csv', index=False)"
   ]
  }
 ],
 "metadata": {
  "kernelspec": {
   "display_name": "Python 3",
   "language": "python",
   "name": "python3"
  },
  "language_info": {
   "codemirror_mode": {
    "name": "ipython",
    "version": 3
   },
   "file_extension": ".py",
   "mimetype": "text/x-python",
   "name": "python",
   "nbconvert_exporter": "python",
   "pygments_lexer": "ipython3",
   "version": "3.10.10"
  },
  "papermill": {
   "default_parameters": {},
   "duration": 776.456904,
   "end_time": "2023-08-08T06:31:45.035791",
   "environment_variables": {},
   "exception": null,
   "input_path": "__notebook__.ipynb",
   "output_path": "__notebook__.ipynb",
   "parameters": {},
   "start_time": "2023-08-08T06:18:48.578887",
   "version": "2.4.0"
  }
 },
 "nbformat": 4,
 "nbformat_minor": 5
}
